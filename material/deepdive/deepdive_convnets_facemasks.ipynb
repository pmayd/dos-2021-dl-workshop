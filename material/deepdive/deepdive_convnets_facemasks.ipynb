{
 "cells": [
  {
   "cell_type": "code",
   "execution_count": 138,
   "id": "ed938a2e",
   "metadata": {},
   "outputs": [],
   "source": [
    "import numpy as np\n",
    "import matplotlib.pyplot as plt\n",
    "from matplotlib import cm\n",
    "from matplotlib.colors import ListedColormap"
   ]
  },
  {
   "cell_type": "code",
   "execution_count": 137,
   "id": "8707a5b2",
   "metadata": {},
   "outputs": [
    {
     "name": "stdout",
     "output_type": "stream",
     "text": [
      "Requirement already satisfied: scipy in c:\\tools\\miniconda3\\envs\\dl\\lib\\site-packages (1.7.0)\n",
      "Requirement already satisfied: numpy<1.23.0,>=1.16.5 in c:\\tools\\miniconda3\\envs\\dl\\lib\\site-packages (from scipy) (1.21.1)\n"
     ]
    }
   ],
   "source": [
    "!pip install scipy"
   ]
  },
  {
   "cell_type": "code",
   "execution_count": 27,
   "id": "68a4d52b",
   "metadata": {},
   "outputs": [
    {
     "data": {
      "text/plain": [
       "((1.0, 0.9294117647058824, 0.43529411764705883, 1.0),\n",
       " (0.5529411764705883, 0.8274509803921568, 0.7803921568627451, 1.0))"
      ]
     },
     "execution_count": 27,
     "metadata": {},
     "output_type": "execute_result"
    }
   ],
   "source": [
    "set3 = cm.get_cmap(\"Set3\", 2)\n",
    "set3(1), set3(0)"
   ]
  },
  {
   "cell_type": "code",
   "execution_count": 115,
   "id": "2220b2d3",
   "metadata": {},
   "outputs": [],
   "source": [
    "my_cmap = ListedColormap([\n",
    "    [1.0, 0.9294117647058824, 0.43529411764705883, 0.3],  # 0\n",
    "    [0.1529411764705883, 0.5274509803921568, 0.3803921568627451, 1.0],  # 1\n",
    "], name=\"facemasks\")\n"
   ]
  },
  {
   "cell_type": "markdown",
   "id": "d743c603",
   "metadata": {},
   "source": [
    "## Face masks"
   ]
  },
  {
   "cell_type": "code",
   "execution_count": 90,
   "id": "efa26d90",
   "metadata": {},
   "outputs": [],
   "source": [
    "face1 = np.array([\n",
    "    [1,1,1,1,0,0,0,0,1,1,1,1],\n",
    "    [0,0,0,0,0,0,0,0,0,0,0,0],\n",
    "    [1,1,1,1,0,0,0,0,1,1,1,1],\n",
    "    [1,1,1,1,0,0,0,0,1,1,1,1],\n",
    "    np.repeat(0, 12),\n",
    "    [0,0,0,0,0,1,1,0,0,0,0,0],\n",
    "    [0,0,0,0,1,1,1,1,0,0,0,0],\n",
    "    np.repeat(0, 12),\n",
    "    np.repeat(0, 12),\n",
    "    [0,0,0,0,1,0,0,1,0,0,0,0],\n",
    "    [0,0,0,0,1,1,1,1,0,0,0,0],\n",
    "    np.repeat(0, 12)\n",
    "])\n",
    "\n",
    "face2 = np.array([\n",
    "    [0,0,0,0,0,0,0,0,1,1,1,1],\n",
    "    [1,1,1,1,0,0,0,0,0,0,0,0],\n",
    "    [0,0,0,0,0,0,0,0,1,1,1,1],\n",
    "    [1,1,1,1,0,0,0,0,1,1,1,1],\n",
    "    [1,1,1,1,0,0,0,0,0,0,0,0],\n",
    "    [0,0,0,0,0,1,1,0,0,0,0,0],\n",
    "    [0,0,0,0,1,1,1,1,0,0,0,0],\n",
    "    np.repeat(0, 12),\n",
    "    np.repeat(0, 12),\n",
    "    [0,0,0,0,1,0,0,1,0,0,0,0],\n",
    "    [0,0,0,0,1,1,1,1,0,0,0,0],\n",
    "    np.repeat(0, 12)\n",
    "])"
   ]
  },
  {
   "cell_type": "code",
   "execution_count": 134,
   "id": "036409fa",
   "metadata": {},
   "outputs": [],
   "source": [
    "def plot_img(img, ax=None):\n",
    "    if ax is None:\n",
    "        plt.figure()\n",
    "    \n",
    "    ax = plt.gca() if ax is None else ax\n",
    "    ax.imshow(img, cmap=my_cmap, interpolation='none', vmin=0, vmax=1, aspect='equal')\n",
    "    x_min, x_max = 0, img.shape[1]\n",
    "    y_min, y_max = 0, img.shape[1]\n",
    "    \n",
    "    ax.set_xticks(np.arange(0, x_max, 1))\n",
    "    ax.set_yticks(np.arange(0, y_max, 1))\n",
    "    ax.set_xticklabels(np.arange(1, x_max+1, 1))\n",
    "    ax.set_yticklabels(np.arange(1, y_max+1, 1))\n",
    "    \n",
    "    # Minor ticks\n",
    "    ax.set_xticks(np.arange(-.5, x_max, 1), minor=True)\n",
    "    ax.set_yticks(np.arange(-.5, y_max, 1), minor=True)\n",
    "    \n",
    "    # Gridlines based on minor ticks\n",
    "    ax.grid(which='minor', color='k', linestyle='-', linewidth=0.5)"
   ]
  },
  {
   "cell_type": "code",
   "execution_count": 135,
   "id": "66d6a451",
   "metadata": {},
   "outputs": [
    {
     "data": {
      "image/png": "[encoded data removed]",
      "text/plain": [
       "<Figure size 432x288 with 1 Axes>"
      ]
     },
     "metadata": {
      "needs_background": "light"
     },
     "output_type": "display_data"
    }
   ],
   "source": [
    "plot_img(face1)"
   ]
  },
  {
   "cell_type": "code",
   "execution_count": 123,
   "id": "0e9e044b",
   "metadata": {
    "scrolled": true
   },
   "outputs": [
    {
     "data": {
      "image/png": "[encoded data removed]",
      "text/plain": [
       "<Figure size 432x288 with 1 Axes>"
      ]
     },
     "metadata": {
      "needs_background": "light"
     },
     "output_type": "display_data"
    }
   ],
   "source": [
    "plot_img(face2)"
   ]
  },
  {
   "cell_type": "markdown",
   "id": "872169fd",
   "metadata": {},
   "source": [
    "## Basic Filter Layer 1"
   ]
  },
  {
   "cell_type": "code",
   "execution_count": 345,
   "id": "8d1e1470",
   "metadata": {},
   "outputs": [],
   "source": [
    "T = np.array([\n",
    "    [1, 1],\n",
    "    [0, 0]\n",
    "])\n",
    "\n",
    "Q = np.array([\n",
    "    [1, 1],\n",
    "    [1, 1]\n",
    "])\n",
    "\n",
    "L = np.array([\n",
    "    [0, 0],\n",
    "    [1, 0]\n",
    "])\n",
    "\n",
    "R = np.array([\n",
    "    [0, 0],\n",
    "    [0, 1]\n",
    "])"
   ]
  },
  {
   "cell_type": "code",
   "execution_count": 346,
   "id": "e3cbf50a",
   "metadata": {
    "scrolled": true
   },
   "outputs": [
    {
     "data": {
      "image/png": "[encoded data removed]",
      "text/plain": [
       "<Figure size 432x288 with 4 Axes>"
      ]
     },
     "metadata": {
      "needs_background": "light"
     },
     "output_type": "display_data"
    }
   ],
   "source": [
    "fig, ax = plt.subplots(1, 4)\n",
    "\n",
    "for i, filter_ in enumerate([T,Q,L,R]):\n",
    "    plot_img(filter_, ax[i])"
   ]
  },
  {
   "cell_type": "markdown",
   "id": "b7e9e896",
   "metadata": {},
   "source": [
    "## Calculate Filter Map for Layer 1"
   ]
  },
  {
   "cell_type": "code",
   "execution_count": 308,
   "id": "8e59ff4a",
   "metadata": {},
   "outputs": [],
   "source": [
    "def convolve2D(input_, filter_):\n",
    "    filter_size = filter_.shape[0]\n",
    "    filter_map_size = input_.shape[0] - filter_size + 1\n",
    "    filter_map = np.zeros((filter_map_size, filter_map_size))\n",
    "    \n",
    "    for i in range(filter_map_size):\n",
    "        for j in range(filter_map_size):\n",
    "            sub_img = input_[i : (i + filter_size), j : (j + filter_size)]\n",
    "            \n",
    "            actual_filter = np.copy(filter_)\n",
    "            actual_filter[filter_ == -1] = sub_img[filter_ == -1]\n",
    "            filter_result = (sub_img == actual_filter).all()\n",
    "            filter_map[i,j] = filter_result\n",
    "            \n",
    "    return filter_map           "
   ]
  },
  {
   "cell_type": "code",
   "execution_count": 347,
   "id": "0ae5b17b",
   "metadata": {},
   "outputs": [],
   "source": [
    "T_map = convolve2D(face2, T)"
   ]
  },
  {
   "cell_type": "code",
   "execution_count": 348,
   "id": "afd61017",
   "metadata": {
    "scrolled": false
   },
   "outputs": [
    {
     "data": {
      "text/plain": [
       "(None, None)"
      ]
     },
     "execution_count": 348,
     "metadata": {},
     "output_type": "execute_result"
    },
    {
     "data": {
      "image/png": "[encoded data removed]",
      "text/plain": [
       "<Figure size 432x288 with 1 Axes>"
      ]
     },
     "metadata": {
      "needs_background": "light"
     },
     "output_type": "display_data"
    },
    {
     "data": {
      "image/png": "[encoded data removed]",
      "text/plain": [
       "<Figure size 432x288 with 1 Axes>"
      ]
     },
     "metadata": {
      "needs_background": "light"
     },
     "output_type": "display_data"
    }
   ],
   "source": [
    "plot_img(face2), plot_img(T_map)"
   ]
  },
  {
   "cell_type": "markdown",
   "id": "9506dce9",
   "metadata": {},
   "source": [
    "## Apply Max Pooling"
   ]
  },
  {
   "cell_type": "code",
   "execution_count": 349,
   "id": "94a894a3",
   "metadata": {},
   "outputs": [],
   "source": [
    "def max_pooling(filter_map, size=2):\n",
    "    pool_size = int(np.ceil(filter_map.shape[0] / size))\n",
    "    pool = np.zeros((pool_size, pool_size))\n",
    "    \n",
    "    for i in range(pool_size):\n",
    "        for j in range(pool_size):\n",
    "            sub_img = filter_map[(i * size): (i * size + size), (j * size) : (j * size + size)]\n",
    "            pool_result = (sub_img == 1).any()\n",
    "            pool[i,j] = pool_result\n",
    "            \n",
    "    return pool\n",
    "    "
   ]
  },
  {
   "cell_type": "code",
   "execution_count": 350,
   "id": "45b211f9",
   "metadata": {},
   "outputs": [],
   "source": [
    "T_pool = max_pooling(T_map)"
   ]
  },
  {
   "cell_type": "code",
   "execution_count": 351,
   "id": "d935a100",
   "metadata": {},
   "outputs": [
    {
     "data": {
      "image/png": "[encoded data removed]",
      "text/plain": [
       "<Figure size 432x288 with 1 Axes>"
      ]
     },
     "metadata": {
      "needs_background": "light"
     },
     "output_type": "display_data"
    }
   ],
   "source": [
    "plot_img(T_pool)"
   ]
  },
  {
   "cell_type": "code",
   "execution_count": 352,
   "id": "b38eb676",
   "metadata": {},
   "outputs": [],
   "source": [
    "Q_pool = max_pooling(convolve2D(face2, Q))\n",
    "L_pool = max_pooling(convolve2D(face2, L))\n",
    "R_pool = max_pooling(convolve2D(face2, R))"
   ]
  },
  {
   "cell_type": "code",
   "execution_count": 353,
   "id": "59efc251",
   "metadata": {},
   "outputs": [
    {
     "data": {
      "image/png": "[encoded data removed]",
      "text/plain": [
       "<Figure size 432x288 with 1 Axes>"
      ]
     },
     "metadata": {
      "needs_background": "light"
     },
     "output_type": "display_data"
    }
   ],
   "source": [
    "plot_img(Q_pool)"
   ]
  },
  {
   "cell_type": "code",
   "execution_count": 354,
   "id": "0af8f0da",
   "metadata": {},
   "outputs": [
    {
     "data": {
      "image/png": "[encoded data removed]",
      "text/plain": [
       "<Figure size 432x288 with 1 Axes>"
      ]
     },
     "metadata": {
      "needs_background": "light"
     },
     "output_type": "display_data"
    }
   ],
   "source": [
    "plot_img(L_pool)"
   ]
  },
  {
   "cell_type": "code",
   "execution_count": 355,
   "id": "510cf075",
   "metadata": {},
   "outputs": [
    {
     "data": {
      "image/png": "[encoded data removed]",
      "text/plain": [
       "<Figure size 432x288 with 1 Axes>"
      ]
     },
     "metadata": {
      "needs_background": "light"
     },
     "output_type": "display_data"
    }
   ],
   "source": [
    "plot_img(R_pool)"
   ]
  },
  {
   "cell_type": "code",
   "execution_count": 357,
   "id": "e70ffe08",
   "metadata": {},
   "outputs": [
    {
     "data": {
      "image/png": "[encoded data removed]",
      "text/plain": [
       "<Figure size 432x288 with 1 Axes>"
      ]
     },
     "metadata": {
      "needs_background": "light"
     },
     "output_type": "display_data"
    }
   ],
   "source": [
    "R_map = convolve2D(face2, R)\n",
    "plot_img(R_map)"
   ]
  },
  {
   "cell_type": "code",
   "execution_count": 318,
   "id": "a209ede2",
   "metadata": {},
   "outputs": [],
   "source": [
    "layer_one_output = np.array([T_pool, Q_pool, L_pool, R_pool])"
   ]
  },
  {
   "cell_type": "code",
   "execution_count": 319,
   "id": "6fff051b",
   "metadata": {},
   "outputs": [
    {
     "data": {
      "text/plain": [
       "array([[[1., 1., 0., 0., 1., 1.],\n",
       "        [0., 0., 0., 0., 1., 1.],\n",
       "        [1., 1., 0., 0., 0., 0.],\n",
       "        [0., 0., 1., 1., 0., 0.],\n",
       "        [0., 0., 0., 0., 0., 0.],\n",
       "        [0., 0., 1., 1., 0., 0.]],\n",
       "\n",
       "       [[0., 0., 0., 0., 0., 0.],\n",
       "        [1., 1., 0., 0., 1., 1.],\n",
       "        [0., 0., 1., 0., 0., 0.],\n",
       "        [0., 0., 0., 0., 0., 0.],\n",
       "        [0., 0., 0., 0., 0., 0.],\n",
       "        [0., 0., 0., 0., 0., 0.]],\n",
       "\n",
       "       [[0., 1., 0., 0., 0., 0.],\n",
       "        [0., 1., 0., 0., 0., 0.],\n",
       "        [0., 0., 0., 1., 0., 0.],\n",
       "        [0., 0., 0., 0., 0., 0.],\n",
       "        [0., 0., 1., 1., 0., 0.],\n",
       "        [0., 0., 0., 0., 0., 0.]],\n",
       "\n",
       "       [[0., 0., 0., 1., 0., 0.],\n",
       "        [0., 0., 0., 0., 0., 0.],\n",
       "        [0., 1., 1., 0., 0., 0.],\n",
       "        [0., 0., 0., 0., 0., 0.],\n",
       "        [0., 1., 0., 1., 0., 0.],\n",
       "        [0., 0., 0., 0., 0., 0.]]])"
      ]
     },
     "execution_count": 319,
     "metadata": {},
     "output_type": "execute_result"
    }
   ],
   "source": [
    "layer_one_output"
   ]
  },
  {
   "cell_type": "code",
   "execution_count": 320,
   "id": "19130670",
   "metadata": {},
   "outputs": [
    {
     "data": {
      "text/plain": [
       "(4, 6, 6)"
      ]
     },
     "execution_count": 320,
     "metadata": {},
     "output_type": "execute_result"
    }
   ],
   "source": [
    "layer_one_output.shape"
   ]
  },
  {
   "cell_type": "markdown",
   "id": "b063c2a1",
   "metadata": {},
   "source": [
    "## Filter Layer 2"
   ]
  },
  {
   "cell_type": "code",
   "execution_count": 358,
   "id": "3b27e34e",
   "metadata": {},
   "outputs": [],
   "source": [
    "E = np.array([\n",
    "    [  # T\n",
    "        [1, 1],\n",
    "        [-1, -1]\n",
    "    ],\n",
    "    [  # Q\n",
    "        [-1, -1],\n",
    "        [1, 1]\n",
    "    ],\n",
    "    [  # L\n",
    "        [-1, -1],\n",
    "        [-1, -1]\n",
    "    ],\n",
    "    [  # R\n",
    "        [-1, -1],\n",
    "        [-1, -1]\n",
    "    ]\n",
    "])\n",
    "\n",
    "N = np.array([\n",
    "    [  # T\n",
    "        [-1, -1],\n",
    "        [1, 1]\n",
    "    ],\n",
    "    [  # Q\n",
    "        [-1, -1],\n",
    "        [-1, -1]\n",
    "    ],\n",
    "    [  # L\n",
    "        [-1, 1],\n",
    "        [-1, -1]\n",
    "    ],\n",
    "    [  # R\n",
    "        [1, -1],\n",
    "        [-1, -1]\n",
    "    ]\n",
    "])\n",
    "\n",
    "M = np.array([\n",
    "    [  # T\n",
    "        [-1, -1],\n",
    "        [1, 1]\n",
    "    ],\n",
    "    [  # Q\n",
    "        [-1, -1],\n",
    "        [-1, -1]\n",
    "    ],\n",
    "    [  # L\n",
    "        [1, -1],\n",
    "        [-1, -1]\n",
    "    ],\n",
    "    [  # R\n",
    "        [-1, 1],\n",
    "        [-1, -1]\n",
    "    ]\n",
    "])"
   ]
  },
  {
   "cell_type": "markdown",
   "id": "d8577e64",
   "metadata": {},
   "source": [
    "## Calculate Filter Map for Layer 2"
   ]
  },
  {
   "cell_type": "code",
   "execution_count": 333,
   "id": "dcaf6f08",
   "metadata": {},
   "outputs": [],
   "source": [
    "def convolve3D(input_, filter_):\n",
    "    channels = input_.shape[0]\n",
    "    maps = []\n",
    "    \n",
    "    for channel in range(channels):\n",
    "        maps.append(convolve2D(input_[channel], filter_[channel]))\n",
    "        \n",
    "    maps = np.array(maps)\n",
    "    \n",
    "    return maps.all(axis=0)"
   ]
  },
  {
   "cell_type": "code",
   "execution_count": 360,
   "id": "ad16d3b2",
   "metadata": {},
   "outputs": [],
   "source": [
    "E_map = convolve3D(layer_one_output, E)"
   ]
  },
  {
   "cell_type": "code",
   "execution_count": 361,
   "id": "46a98b45",
   "metadata": {},
   "outputs": [
    {
     "data": {
      "image/png": "[encoded data removed]",
      "text/plain": [
       "<Figure size 432x288 with 1 Axes>"
      ]
     },
     "metadata": {
      "needs_background": "light"
     },
     "output_type": "display_data"
    }
   ],
   "source": [
    "plot_img(E_map)"
   ]
  },
  {
   "cell_type": "code",
   "execution_count": 362,
   "id": "4be6ea3f",
   "metadata": {},
   "outputs": [],
   "source": [
    "E_pool = max_pooling(E_map)"
   ]
  },
  {
   "cell_type": "code",
   "execution_count": 363,
   "id": "e0afe9c3",
   "metadata": {},
   "outputs": [
    {
     "data": {
      "image/png": "[encoded data removed]",
      "text/plain": [
       "<Figure size 432x288 with 1 Axes>"
      ]
     },
     "metadata": {
      "needs_background": "light"
     },
     "output_type": "display_data"
    }
   ],
   "source": [
    "plot_img(E_pool)"
   ]
  },
  {
   "cell_type": "code",
   "execution_count": 364,
   "id": "dadea7fd",
   "metadata": {},
   "outputs": [],
   "source": [
    "N_pool = max_pooling(convolve3D(layer_one_output, N))\n",
    "M_pool = max_pooling(convolve3D(layer_one_output, M))"
   ]
  },
  {
   "cell_type": "code",
   "execution_count": 365,
   "id": "e5865cf2",
   "metadata": {},
   "outputs": [
    {
     "data": {
      "image/png": "[encoded data removed]",
      "text/plain": [
       "<Figure size 432x288 with 1 Axes>"
      ]
     },
     "metadata": {
      "needs_background": "light"
     },
     "output_type": "display_data"
    },
    {
     "data": {
      "image/png": "[encoded data removed]",
      "text/plain": [
       "<Figure size 432x288 with 1 Axes>"
      ]
     },
     "metadata": {
      "needs_background": "light"
     },
     "output_type": "display_data"
    }
   ],
   "source": [
    "plot_img(N_pool)\n",
    "plot_img(M_pool)"
   ]
  },
  {
   "cell_type": "code",
   "execution_count": 368,
   "id": "fdce2945",
   "metadata": {},
   "outputs": [],
   "source": [
    "layer_two_output = np.array([E_pool, N_pool, M_pool])"
   ]
  },
  {
   "cell_type": "code",
   "execution_count": 369,
   "id": "a2f62d42",
   "metadata": {},
   "outputs": [
    {
     "data": {
      "text/plain": [
       "array([[[1., 0., 1.],\n",
       "        [0., 0., 0.],\n",
       "        [0., 0., 0.]],\n",
       "\n",
       "       [[0., 0., 0.],\n",
       "        [0., 1., 0.],\n",
       "        [0., 0., 0.]],\n",
       "\n",
       "       [[0., 0., 0.],\n",
       "        [0., 0., 0.],\n",
       "        [0., 1., 0.]]])"
      ]
     },
     "execution_count": 369,
     "metadata": {},
     "output_type": "execute_result"
    }
   ],
   "source": [
    "layer_two_output"
   ]
  },
  {
   "cell_type": "markdown",
   "id": "ef06da57",
   "metadata": {},
   "source": [
    "## Filter Layer 3"
   ]
  },
  {
   "cell_type": "code",
   "execution_count": 371,
   "id": "4ed7d057",
   "metadata": {},
   "outputs": [],
   "source": [
    "F = np.array([\n",
    "    [\n",
    "        [1, -1, 1],\n",
    "        [-1, -1, -1],\n",
    "        [-1, -1, -1]\n",
    "    ],\n",
    "    [\n",
    "        [-1, -1, -1],\n",
    "        [-1 ,1, -1],\n",
    "        [-1, -1, -1]\n",
    "    ],\n",
    "    [\n",
    "        [-1, -1, -1],\n",
    "        [-1, -1, -1],\n",
    "        [-1, 1, -1]\n",
    "    ]\n",
    "    \n",
    "])"
   ]
  },
  {
   "cell_type": "code",
   "execution_count": 372,
   "id": "222f7823",
   "metadata": {},
   "outputs": [],
   "source": [
    "F_map = convolve3D(layer_two_output, F)"
   ]
  },
  {
   "cell_type": "code",
   "execution_count": 373,
   "id": "3d6650c0",
   "metadata": {},
   "outputs": [
    {
     "data": {
      "image/png": "[encoded data removed]",
      "text/plain": [
       "<Figure size 432x288 with 1 Axes>"
      ]
     },
     "metadata": {
      "needs_background": "light"
     },
     "output_type": "display_data"
    }
   ],
   "source": [
    "plot_img(F_map)"
   ]
  },
  {
   "cell_type": "code",
   "execution_count": null,
   "id": "a228570b",
   "metadata": {},
   "outputs": [],
   "source": []
  }
 ],
 "metadata": {
  "kernelspec": {
   "display_name": "Python 3.8 (dl)",
   "language": "python",
   "name": "dl"
  },
  "language_info": {
   "codemirror_mode": {
    "name": "ipython",
    "version": 3
   },
   "file_extension": ".py",
   "mimetype": "text/x-python",
   "name": "python",
   "nbconvert_exporter": "python",
   "pygments_lexer": "ipython3",
   "version": "3.8.10"
  }
 },
 "nbformat": 4,
 "nbformat_minor": 5
}
