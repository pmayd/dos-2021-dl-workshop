{
 "cells": [
  {
   "cell_type": "markdown",
   "metadata": {
    "colab_type": "text"
   },
   "source": [
    "This is a companion notebook for the book [Deep Learning with Python, Second Edition](https://www.manning.com/books/deep-learning-with-python-second-edition?a_aid=keras&a_bid=76564dff). For readability, it only contains runnable code blocks and section titles, and omits everything else in the book: text paragraphs, figures, and pseudocode.\n",
    "\n",
    "**If you want to be able to follow what's going on, I recommend reading the notebook side by side with your copy of the book.**\n",
    "\n",
    "This notebook was generated for TensorFlow 2.6."
   ]
  },
  {
   "cell_type": "code",
   "execution_count": 22,
   "metadata": {},
   "outputs": [],
   "source": [
    "from tensorflow import keras\n",
    "import matplotlib.pyplot as plt\n",
    "import numpy as np"
   ]
  },
  {
   "cell_type": "markdown",
   "metadata": {
    "colab_type": "text"
   },
   "source": [
    "# Getting started with neural networks: classification and regression"
   ]
  },
  {
   "cell_type": "markdown",
   "metadata": {
    "colab_type": "text"
   },
   "source": [
    "## Classifying movie reviews: a binary classification example"
   ]
  },
  {
   "cell_type": "markdown",
   "metadata": {},
   "source": [
    "Two-class classification, or binary classification, is one of the most common kinds of machine-learning problem. In this example, you’ll learn to classify movie reviews as positive or negative, based on the text content of the reviews."
   ]
  },
  {
   "cell_type": "markdown",
   "metadata": {
    "colab_type": "text"
   },
   "source": [
    "### The IMDB dataset"
   ]
  },
  {
   "cell_type": "markdown",
   "metadata": {},
   "source": [
    "You’ll work with the IMDB dataset: a set of $50,000$ highly polarized reviews from the Internet Movie Database. They’re split into $25,000$ reviews for training and $25,000$ reviews for testing, each set consisting of $50\\%$ negative and $50\\%$ positive reviews."
   ]
  },
  {
   "cell_type": "markdown",
   "metadata": {
    "colab_type": "text"
   },
   "source": [
    "**Loading the IMDB dataset**"
   ]
  },
  {
   "cell_type": "markdown",
   "metadata": {},
   "source": [
    "The argument `num_words=10000` means you’ll only keep the top $10,000$ most frequently occurring words in the training data. Rare words will be discarded. This allows you to work with vector data of manageable size. If we didn’t set this limit, we’d be working with $88,585$ unique words in the training data, which is unnecessarily large. Many of these words only occur in a single sample, and thus can’t be meaningfully used for classification."
   ]
  },
  {
   "cell_type": "code",
   "execution_count": 47,
   "metadata": {
    "colab_type": "code"
   },
   "outputs": [],
   "source": [
    "from tensorflow.keras.datasets import imdb\n",
    "\n",
    "(train_data, train_labels), (test_data, test_labels) = imdb.load_data(num_words=10000, index_from=3)"
   ]
  },
  {
   "cell_type": "code",
   "execution_count": 48,
   "metadata": {
    "colab_type": "code",
    "scrolled": true
   },
   "outputs": [
    {
     "data": {
      "text/plain": [
       "[1,\n",
       " 14,\n",
       " 22,\n",
       " 16,\n",
       " 43,\n",
       " 530,\n",
       " 973,\n",
       " 1622,\n",
       " 1385,\n",
       " 65,\n",
       " 458,\n",
       " 4468,\n",
       " 66,\n",
       " 3941,\n",
       " 4,\n",
       " 173,\n",
       " 36,\n",
       " 256,\n",
       " 5,\n",
       " 25,\n",
       " 100,\n",
       " 43,\n",
       " 838,\n",
       " 112,\n",
       " 50,\n",
       " 670,\n",
       " 2,\n",
       " 9,\n",
       " 35,\n",
       " 480,\n",
       " 284,\n",
       " 5,\n",
       " 150,\n",
       " 4,\n",
       " 172,\n",
       " 112,\n",
       " 167,\n",
       " 2,\n",
       " 336,\n",
       " 385,\n",
       " 39,\n",
       " 4,\n",
       " 172,\n",
       " 4536,\n",
       " 1111,\n",
       " 17,\n",
       " 546,\n",
       " 38,\n",
       " 13,\n",
       " 447,\n",
       " 4,\n",
       " 192,\n",
       " 50,\n",
       " 16,\n",
       " 6,\n",
       " 147,\n",
       " 2025,\n",
       " 19,\n",
       " 14,\n",
       " 22,\n",
       " 4,\n",
       " 1920,\n",
       " 4613,\n",
       " 469,\n",
       " 4,\n",
       " 22,\n",
       " 71,\n",
       " 87,\n",
       " 12,\n",
       " 16,\n",
       " 43,\n",
       " 530,\n",
       " 38,\n",
       " 76,\n",
       " 15,\n",
       " 13,\n",
       " 1247,\n",
       " 4,\n",
       " 22,\n",
       " 17,\n",
       " 515,\n",
       " 17,\n",
       " 12,\n",
       " 16,\n",
       " 626,\n",
       " 18,\n",
       " 2,\n",
       " 5,\n",
       " 62,\n",
       " 386,\n",
       " 12,\n",
       " 8,\n",
       " 316,\n",
       " 8,\n",
       " 106,\n",
       " 5,\n",
       " 4,\n",
       " 2223,\n",
       " 5244,\n",
       " 16,\n",
       " 480,\n",
       " 66,\n",
       " 3785,\n",
       " 33,\n",
       " 4,\n",
       " 130,\n",
       " 12,\n",
       " 16,\n",
       " 38,\n",
       " 619,\n",
       " 5,\n",
       " 25,\n",
       " 124,\n",
       " 51,\n",
       " 36,\n",
       " 135,\n",
       " 48,\n",
       " 25,\n",
       " 1415,\n",
       " 33,\n",
       " 6,\n",
       " 22,\n",
       " 12,\n",
       " 215,\n",
       " 28,\n",
       " 77,\n",
       " 52,\n",
       " 5,\n",
       " 14,\n",
       " 407,\n",
       " 16,\n",
       " 82,\n",
       " 2,\n",
       " 8,\n",
       " 4,\n",
       " 107,\n",
       " 117,\n",
       " 5952,\n",
       " 15,\n",
       " 256,\n",
       " 4,\n",
       " 2,\n",
       " 7,\n",
       " 3766,\n",
       " 5,\n",
       " 723,\n",
       " 36,\n",
       " 71,\n",
       " 43,\n",
       " 530,\n",
       " 476,\n",
       " 26,\n",
       " 400,\n",
       " 317,\n",
       " 46,\n",
       " 7,\n",
       " 4,\n",
       " 2,\n",
       " 1029,\n",
       " 13,\n",
       " 104,\n",
       " 88,\n",
       " 4,\n",
       " 381,\n",
       " 15,\n",
       " 297,\n",
       " 98,\n",
       " 32,\n",
       " 2071,\n",
       " 56,\n",
       " 26,\n",
       " 141,\n",
       " 6,\n",
       " 194,\n",
       " 7486,\n",
       " 18,\n",
       " 4,\n",
       " 226,\n",
       " 22,\n",
       " 21,\n",
       " 134,\n",
       " 476,\n",
       " 26,\n",
       " 480,\n",
       " 5,\n",
       " 144,\n",
       " 30,\n",
       " 5535,\n",
       " 18,\n",
       " 51,\n",
       " 36,\n",
       " 28,\n",
       " 224,\n",
       " 92,\n",
       " 25,\n",
       " 104,\n",
       " 4,\n",
       " 226,\n",
       " 65,\n",
       " 16,\n",
       " 38,\n",
       " 1334,\n",
       " 88,\n",
       " 12,\n",
       " 16,\n",
       " 283,\n",
       " 5,\n",
       " 16,\n",
       " 4472,\n",
       " 113,\n",
       " 103,\n",
       " 32,\n",
       " 15,\n",
       " 16,\n",
       " 5345,\n",
       " 19,\n",
       " 178,\n",
       " 32]"
      ]
     },
     "execution_count": 48,
     "metadata": {},
     "output_type": "execute_result"
    }
   ],
   "source": [
    "train_data[0]"
   ]
  },
  {
   "cell_type": "code",
   "execution_count": 49,
   "metadata": {
    "colab_type": "code"
   },
   "outputs": [
    {
     "data": {
      "text/plain": [
       "1"
      ]
     },
     "execution_count": 49,
     "metadata": {},
     "output_type": "execute_result"
    }
   ],
   "source": [
    "train_labels[0]"
   ]
  },
  {
   "cell_type": "markdown",
   "metadata": {},
   "source": [
    "Because you’re restricting yourself to the top $10,000$ most frequent words, no word index will exceed 10,000:"
   ]
  },
  {
   "cell_type": "code",
   "execution_count": 50,
   "metadata": {
    "colab_type": "code"
   },
   "outputs": [
    {
     "data": {
      "text/plain": [
       "9999"
      ]
     },
     "execution_count": 50,
     "metadata": {},
     "output_type": "execute_result"
    }
   ],
   "source": [
    "max([max(sequence) for sequence in train_data])"
   ]
  },
  {
   "cell_type": "markdown",
   "metadata": {
    "colab_type": "text"
   },
   "source": [
    "**Decoding reviews back to text**"
   ]
  },
  {
   "cell_type": "code",
   "execution_count": 51,
   "metadata": {
    "colab_type": "code"
   },
   "outputs": [],
   "source": [
    "# Retrieve the word index file mapping words to indices\n",
    "word_index = keras.datasets.imdb.get_word_index()\n",
    "# Reverse the word index to obtain a dict mapping indices to words\n",
    "inverted_word_index = dict((i, word) for (word, i) in word_index.items())\n",
    "# Decode the first sequence in the dataset\n",
    "decoded_sequence = \" \".join(inverted_word_index.get(i - 3, \"?\") for i in train_data[0])"
   ]
  },
  {
   "cell_type": "code",
   "execution_count": 52,
   "metadata": {},
   "outputs": [
    {
     "data": {
      "text/plain": [
       "\"? this film was just brilliant casting location scenery story direction everyone's really suited the part they played and you could just imagine being there robert ? is an amazing actor and now the same being director ? father came from the same scottish island as myself so i loved the fact there was a real connection with this film the witty remarks throughout the film were great it was just brilliant so much that i bought the film as soon as it was released for ? and would recommend it to everyone to watch and the fly fishing was amazing really cried at the end it was so sad and you know what they say if you cry at a film it must have been good and this definitely was also ? to the two little boy's that played the ? of norman and paul they were just brilliant children are often left out of the ? list i think because the stars that play them all grown up are such a big profile for the whole film but these children are amazing and should be praised for what they have done don't you think the whole story was so lovely because it was true and was someone's life after all that was shared with us all\""
      ]
     },
     "execution_count": 52,
     "metadata": {},
     "output_type": "execute_result"
    }
   ],
   "source": [
    "decoded_sequence"
   ]
  },
  {
   "cell_type": "markdown",
   "metadata": {
    "colab_type": "text"
   },
   "source": [
    "### Preparing the data"
   ]
  },
  {
   "cell_type": "markdown",
   "metadata": {},
   "source": [
    "You can’t directly feed lists of integers into a neural network. They have all different lengths, but a neural network expects to process contiguous batches of data. You have to turn your lists into tensors. There are two ways to do that:\n",
    "\n",
    "- **Pad** your lists so that they all have the same length, then turn them into an integer tensor of shape (samples, max_length), and start your model with a layer capable of handling such integer tensors (the Embedding layer, which we’ll cover in detail later in the book).\n",
    "- **Multi-hot encode** your lists to turn them into vectors of 0s and 1s. This would mean, for instance, turning the sequence [8, 5] into a 10,000-dimensional vector that would be all 0s except for indices 8 and 5, which would be 1s. Then you could use a Dense layer, capable of handling floating-point vector data, as the first layer in your model."
   ]
  },
  {
   "cell_type": "code",
   "execution_count": 53,
   "metadata": {
    "collapsed": true
   },
   "outputs": [
    {
     "data": {
      "text/plain": [
       "[218,\n",
       " 189,\n",
       " 141,\n",
       " 550,\n",
       " 147,\n",
       " 43,\n",
       " 123,\n",
       " 562,\n",
       " 233,\n",
       " 130,\n",
       " 450,\n",
       " 99,\n",
       " 117,\n",
       " 238,\n",
       " 109,\n",
       " 129,\n",
       " 163,\n",
       " 752,\n",
       " 212,\n",
       " 177,\n",
       " 129,\n",
       " 140,\n",
       " 256,\n",
       " 888,\n",
       " 93,\n",
       " 142,\n",
       " 220,\n",
       " 193,\n",
       " 171,\n",
       " 221,\n",
       " 174,\n",
       " 647,\n",
       " 233,\n",
       " 162,\n",
       " 597,\n",
       " 234,\n",
       " 51,\n",
       " 336,\n",
       " 139,\n",
       " 231,\n",
       " 704,\n",
       " 142,\n",
       " 861,\n",
       " 132,\n",
       " 122,\n",
       " 570,\n",
       " 55,\n",
       " 214,\n",
       " 103,\n",
       " 186,\n",
       " 113,\n",
       " 169,\n",
       " 469,\n",
       " 138,\n",
       " 302,\n",
       " 766,\n",
       " 351,\n",
       " 146,\n",
       " 59,\n",
       " 206,\n",
       " 107,\n",
       " 152,\n",
       " 186,\n",
       " 431,\n",
       " 147,\n",
       " 684,\n",
       " 383,\n",
       " 324,\n",
       " 252,\n",
       " 263,\n",
       " 787,\n",
       " 211,\n",
       " 314,\n",
       " 118,\n",
       " 390,\n",
       " 132,\n",
       " 710,\n",
       " 306,\n",
       " 167,\n",
       " 115,\n",
       " 95,\n",
       " 158,\n",
       " 156,\n",
       " 82,\n",
       " 502,\n",
       " 314,\n",
       " 190,\n",
       " 174,\n",
       " 60,\n",
       " 145,\n",
       " 214,\n",
       " 659,\n",
       " 408,\n",
       " 515,\n",
       " 461,\n",
       " 202,\n",
       " 238,\n",
       " 170,\n",
       " 107,\n",
       " 171,\n",
       " 158,\n",
       " 145,\n",
       " 790,\n",
       " 258,\n",
       " 287,\n",
       " 67,\n",
       " 123,\n",
       " 975,\n",
       " 775,\n",
       " 236,\n",
       " 195,\n",
       " 274,\n",
       " 214,\n",
       " 91,\n",
       " 1038,\n",
       " 815,\n",
       " 183,\n",
       " 206,\n",
       " 50,\n",
       " 118,\n",
       " 147,\n",
       " 141,\n",
       " 60,\n",
       " 56,\n",
       " 439,\n",
       " 439,\n",
       " 213,\n",
       " 144,\n",
       " 533,\n",
       " 303,\n",
       " 203,\n",
       " 563,\n",
       " 129,\n",
       " 153,\n",
       " 55,\n",
       " 92,\n",
       " 174,\n",
       " 187,\n",
       " 183,\n",
       " 165,\n",
       " 78,\n",
       " 198,\n",
       " 156,\n",
       " 223,\n",
       " 127,\n",
       " 61,\n",
       " 362,\n",
       " 84,\n",
       " 57,\n",
       " 176,\n",
       " 159,\n",
       " 57,\n",
       " 159,\n",
       " 165,\n",
       " 213,\n",
       " 194,\n",
       " 149,\n",
       " 130,\n",
       " 203,\n",
       " 19,\n",
       " 98,\n",
       " 466,\n",
       " 525,\n",
       " 130,\n",
       " 322,\n",
       " 153,\n",
       " 408,\n",
       " 215,\n",
       " 472,\n",
       " 143,\n",
       " 136,\n",
       " 354,\n",
       " 260,\n",
       " 319,\n",
       " 125,\n",
       " 209,\n",
       " 282,\n",
       " 810,\n",
       " 142,\n",
       " 240,\n",
       " 148,\n",
       " 198,\n",
       " 193,\n",
       " 123,\n",
       " 128,\n",
       " 103,\n",
       " 479,\n",
       " 345,\n",
       " 263,\n",
       " 165,\n",
       " 205,\n",
       " 333,\n",
       " 184,\n",
       " 92,\n",
       " 177,\n",
       " 335,\n",
       " 120,\n",
       " 121,\n",
       " 259,\n",
       " 180,\n",
       " 160,\n",
       " 114,\n",
       " 59,\n",
       " 343,\n",
       " 513,\n",
       " 133,\n",
       " 206,\n",
       " 152,\n",
       " 206,\n",
       " 572,\n",
       " 153,\n",
       " 139,\n",
       " 151,\n",
       " 129,\n",
       " 129,\n",
       " 196,\n",
       " 433,\n",
       " 199,\n",
       " 140,\n",
       " 311,\n",
       " 151,\n",
       " 200,\n",
       " 584,\n",
       " 127,\n",
       " 513,\n",
       " 781,\n",
       " 932,\n",
       " 526,\n",
       " 161,\n",
       " 646,\n",
       " 135,\n",
       " 52,\n",
       " 267,\n",
       " 174,\n",
       " 185,\n",
       " 219,\n",
       " 81,\n",
       " 219,\n",
       " 131,\n",
       " 153,\n",
       " 270,\n",
       " 644,\n",
       " 155,\n",
       " 546,\n",
       " 284,\n",
       " 85,\n",
       " 293,\n",
       " 155,\n",
       " 358,\n",
       " 45,\n",
       " 231,\n",
       " 124,\n",
       " 178,\n",
       " 118,\n",
       " 260,\n",
       " 393,\n",
       " 127,\n",
       " 157,\n",
       " 107,\n",
       " 322,\n",
       " 188,\n",
       " 126,\n",
       " 155,\n",
       " 294,\n",
       " 249,\n",
       " 177,\n",
       " 138,\n",
       " 215,\n",
       " 263,\n",
       " 132,\n",
       " 150,\n",
       " 217,\n",
       " 188,\n",
       " 385,\n",
       " 199,\n",
       " 127,\n",
       " 325,\n",
       " 161,\n",
       " 140,\n",
       " 215,\n",
       " 240,\n",
       " 230,\n",
       " 327,\n",
       " 129,\n",
       " 113,\n",
       " 225,\n",
       " 87,\n",
       " 496,\n",
       " 234,\n",
       " 311,\n",
       " 215,\n",
       " 111,\n",
       " 102,\n",
       " 110,\n",
       " 165,\n",
       " 839,\n",
       " 296,\n",
       " 130,\n",
       " 104,\n",
       " 274,\n",
       " 229,\n",
       " 235,\n",
       " 653,\n",
       " 468,\n",
       " 578,\n",
       " 139,\n",
       " 315,\n",
       " 65,\n",
       " 178,\n",
       " 836,\n",
       " 164,\n",
       " 239,\n",
       " 212,\n",
       " 297,\n",
       " 258,\n",
       " 157,\n",
       " 78,\n",
       " 544,\n",
       " 152,\n",
       " 120,\n",
       " 208,\n",
       " 163,\n",
       " 226,\n",
       " 304,\n",
       " 195,\n",
       " 454,\n",
       " 121,\n",
       " 175,\n",
       " 617,\n",
       " 320,\n",
       " 121,\n",
       " 245,\n",
       " 655,\n",
       " 114,\n",
       " 131,\n",
       " 104,\n",
       " 238,\n",
       " 138,\n",
       " 164,\n",
       " 52,\n",
       " 215,\n",
       " 87,\n",
       " 471,\n",
       " 142,\n",
       " 289,\n",
       " 106,\n",
       " 141,\n",
       " 239,\n",
       " 412,\n",
       " 154,\n",
       " 175,\n",
       " 828,\n",
       " 41,\n",
       " 144,\n",
       " 525,\n",
       " 176,\n",
       " 551,\n",
       " 251,\n",
       " 621,\n",
       " 159,\n",
       " 75,\n",
       " 207,\n",
       " 80,\n",
       " 94,\n",
       " 78,\n",
       " 449,\n",
       " 622,\n",
       " 157,\n",
       " 85,\n",
       " 260,\n",
       " 1011,\n",
       " 444,\n",
       " 326,\n",
       " 586,\n",
       " 118,\n",
       " 270,\n",
       " 360,\n",
       " 95,\n",
       " 640,\n",
       " 315,\n",
       " 138,\n",
       " 573,\n",
       " 434,\n",
       " 313,\n",
       " 128,\n",
       " 1007,\n",
       " 130,\n",
       " 257,\n",
       " 209,\n",
       " 159,\n",
       " 602,\n",
       " 109,\n",
       " 250,\n",
       " 117,\n",
       " 149,\n",
       " 199,\n",
       " 55,\n",
       " 578,\n",
       " 158,\n",
       " 323,\n",
       " 486,\n",
       " 177,\n",
       " 73,\n",
       " 127,\n",
       " 138,\n",
       " 130,\n",
       " 110,\n",
       " 283,\n",
       " 244,\n",
       " 375,\n",
       " 137,\n",
       " 156,\n",
       " 153,\n",
       " 112,\n",
       " 94,\n",
       " 137,\n",
       " 195,\n",
       " 137,\n",
       " 112,\n",
       " 25,\n",
       " 106,\n",
       " 105,\n",
       " 272,\n",
       " 857,\n",
       " 116,\n",
       " 58,\n",
       " 114,\n",
       " 71,\n",
       " 57,\n",
       " 292,\n",
       " 56,\n",
       " 157,\n",
       " 283,\n",
       " 87,\n",
       " 327,\n",
       " 481,\n",
       " 918,\n",
       " 129,\n",
       " 181,\n",
       " 214,\n",
       " 601,\n",
       " 215,\n",
       " 117,\n",
       " 112,\n",
       " 401,\n",
       " 165,\n",
       " 154,\n",
       " 587,\n",
       " 417,\n",
       " 345,\n",
       " 233,\n",
       " 496,\n",
       " 403,\n",
       " 317,\n",
       " 189,\n",
       " 340,\n",
       " 195,\n",
       " 370,\n",
       " 194,\n",
       " 150,\n",
       " 559,\n",
       " 48,\n",
       " 129,\n",
       " 110,\n",
       " 45,\n",
       " 173,\n",
       " 674,\n",
       " 416,\n",
       " 233,\n",
       " 146,\n",
       " 73,\n",
       " 146,\n",
       " 190,\n",
       " 130,\n",
       " 127,\n",
       " 217,\n",
       " 785,\n",
       " 227,\n",
       " 119,\n",
       " 149,\n",
       " 150,\n",
       " 175,\n",
       " 588,\n",
       " 130,\n",
       " 414,\n",
       " 172,\n",
       " 523,\n",
       " 119,\n",
       " 130,\n",
       " 122,\n",
       " 219,\n",
       " 264,\n",
       " 202,\n",
       " 218,\n",
       " 367,\n",
       " 230,\n",
       " 429,\n",
       " 985,\n",
       " 144,\n",
       " 128,\n",
       " 60,\n",
       " 78,\n",
       " 125,\n",
       " 131,\n",
       " 186,\n",
       " 283,\n",
       " 121,\n",
       " 226,\n",
       " 82,\n",
       " 57,\n",
       " 468,\n",
       " 336,\n",
       " 218,\n",
       " 110,\n",
       " 535,\n",
       " 603,\n",
       " 147,\n",
       " 117,\n",
       " 156,\n",
       " 72,\n",
       " 72,\n",
       " 69,\n",
       " 529,\n",
       " 148,\n",
       " 56,\n",
       " 263,\n",
       " 202,\n",
       " 348,\n",
       " 172,\n",
       " 104,\n",
       " 212,\n",
       " 146,\n",
       " 191,\n",
       " 251,\n",
       " 179,\n",
       " 722,\n",
       " 156,\n",
       " 141,\n",
       " 235,\n",
       " 97,\n",
       " 69,\n",
       " 222,\n",
       " 228,\n",
       " 233,\n",
       " 46,\n",
       " 130,\n",
       " 599,\n",
       " 146,\n",
       " 71,\n",
       " 144,\n",
       " 132,\n",
       " 89,\n",
       " 115,\n",
       " 267,\n",
       " 100,\n",
       " 148,\n",
       " 197,\n",
       " 627,\n",
       " 161,\n",
       " 263,\n",
       " 447,\n",
       " 97,\n",
       " 132,\n",
       " 357,\n",
       " 52,\n",
       " 329,\n",
       " 149,\n",
       " 253,\n",
       " 330,\n",
       " 549,\n",
       " 166,\n",
       " 190,\n",
       " 165,\n",
       " 202,\n",
       " 351,\n",
       " 633,\n",
       " 942,\n",
       " 123,\n",
       " 121,\n",
       " 184,\n",
       " 270,\n",
       " 139,\n",
       " 248,\n",
       " 382,\n",
       " 292,\n",
       " 215,\n",
       " 439,\n",
       " 177,\n",
       " 42,\n",
       " 173,\n",
       " 173,\n",
       " 233,\n",
       " 480,\n",
       " 377,\n",
       " 48,\n",
       " 177,\n",
       " 192,\n",
       " 84,\n",
       " 176,\n",
       " 150,\n",
       " 467,\n",
       " 210,\n",
       " 687,\n",
       " 631,\n",
       " 279,\n",
       " 136,\n",
       " 67,\n",
       " 167,\n",
       " 170,\n",
       " 359,\n",
       " 451,\n",
       " 135,\n",
       " 197,\n",
       " 1009,\n",
       " 87,\n",
       " 241,\n",
       " 492,\n",
       " 336,\n",
       " 88,\n",
       " 170,\n",
       " 425,\n",
       " 459,\n",
       " 331,\n",
       " 199,\n",
       " 158,\n",
       " 69,\n",
       " 121,\n",
       " 116,\n",
       " 120,\n",
       " 297,\n",
       " 173,\n",
       " 293,\n",
       " 103,\n",
       " 477,\n",
       " 723,\n",
       " 133,\n",
       " 413,\n",
       " 109,\n",
       " 101,\n",
       " 227,\n",
       " 141,\n",
       " 939,\n",
       " 199,\n",
       " 162,\n",
       " 377,\n",
       " 172,\n",
       " 532,\n",
       " 68,\n",
       " 41,\n",
       " 130,\n",
       " 83,\n",
       " 136,\n",
       " 787,\n",
       " 117,\n",
       " 165,\n",
       " 111,\n",
       " 124,\n",
       " 552,\n",
       " 172,\n",
       " 130,\n",
       " 96,\n",
       " 153,\n",
       " 181,\n",
       " 49,\n",
       " 119,\n",
       " 88,\n",
       " 100,\n",
       " 297,\n",
       " 363,\n",
       " 632,\n",
       " 218,\n",
       " 168,\n",
       " 100,\n",
       " 212,\n",
       " 120,\n",
       " 84,\n",
       " 135,\n",
       " 268,\n",
       " 127,\n",
       " 746,\n",
       " 127,\n",
       " 236,\n",
       " 335,\n",
       " 193,\n",
       " 843,\n",
       " 251,\n",
       " 165,\n",
       " 210,\n",
       " 239,\n",
       " 311,\n",
       " 214,\n",
       " 29,\n",
       " 334,\n",
       " 168,\n",
       " 127,\n",
       " 169,\n",
       " 110,\n",
       " 164,\n",
       " 147,\n",
       " 205,\n",
       " 133,\n",
       " 188,\n",
       " 125,\n",
       " 183,\n",
       " 326,\n",
       " 150,\n",
       " 290,\n",
       " 214,\n",
       " 328,\n",
       " 51,\n",
       " 343,\n",
       " 212,\n",
       " 454,\n",
       " 96,\n",
       " 471,\n",
       " 82,\n",
       " 523,\n",
       " 114,\n",
       " 147,\n",
       " 200,\n",
       " 387,\n",
       " 174,\n",
       " 150,\n",
       " 103,\n",
       " 187,\n",
       " 183,\n",
       " 115,\n",
       " 144,\n",
       " 131,\n",
       " 241,\n",
       " 57,\n",
       " 46,\n",
       " 23,\n",
       " 419,\n",
       " 227,\n",
       " 110,\n",
       " 91,\n",
       " 66,\n",
       " 137,\n",
       " 104,\n",
       " 164,\n",
       " 417,\n",
       " 127,\n",
       " 78,\n",
       " 181,\n",
       " 179,\n",
       " 181,\n",
       " 261,\n",
       " 243,\n",
       " 205,\n",
       " 155,\n",
       " 166,\n",
       " 180,\n",
       " 77,\n",
       " 440,\n",
       " 284,\n",
       " 328,\n",
       " 258,\n",
       " 61,\n",
       " 193,\n",
       " 39,\n",
       " 156,\n",
       " 124,\n",
       " 108,\n",
       " 322,\n",
       " 376,\n",
       " 162,\n",
       " 359,\n",
       " 139,\n",
       " 302,\n",
       " 646,\n",
       " 44,\n",
       " 253,\n",
       " 244,\n",
       " 438,\n",
       " 432,\n",
       " 226,\n",
       " 236,\n",
       " 336,\n",
       " 166,\n",
       " 444,\n",
       " 195,\n",
       " 74,\n",
       " 127,\n",
       " 213,\n",
       " 195,\n",
       " 148,\n",
       " 174,\n",
       " 148,\n",
       " 149,\n",
       " 136,\n",
       " 77,\n",
       " 53,\n",
       " 151,\n",
       " 215,\n",
       " 129,\n",
       " 196,\n",
       " 135,\n",
       " 146,\n",
       " 235,\n",
       " 166,\n",
       " 359,\n",
       " 132,\n",
       " 167,\n",
       " 141,\n",
       " 188,\n",
       " 365,\n",
       " 138,\n",
       " 118,\n",
       " 110,\n",
       " 309,\n",
       " 261,\n",
       " 127,\n",
       " 76,\n",
       " 900,\n",
       " 211,\n",
       " 273,\n",
       " 233,\n",
       " 149,\n",
       " 212,\n",
       " 302,\n",
       " 268,\n",
       " 295,\n",
       " 212,\n",
       " 143,\n",
       " 467,\n",
       " 256,\n",
       " 230,\n",
       " 129,\n",
       " 145,\n",
       " 119,\n",
       " 83,\n",
       " 322,\n",
       " 208,\n",
       " 132,\n",
       " 149,\n",
       " 278,\n",
       " 136,\n",
       " 198,\n",
       " 164,\n",
       " 349,\n",
       " 200,\n",
       " 278,\n",
       " 439,\n",
       " 130,\n",
       " 161,\n",
       " 223,\n",
       " 561,\n",
       " 397,\n",
       " 302,\n",
       " 282,\n",
       " 187,\n",
       " 192,\n",
       " 107,\n",
       " 361,\n",
       " 126,\n",
       " 201,\n",
       " 79,\n",
       " 415,\n",
       " 133,\n",
       " 300,\n",
       " 124,\n",
       " 355,\n",
       " 978,\n",
       " 323,\n",
       " 114,\n",
       " 85,\n",
       " 143,\n",
       " 221,\n",
       " 190,\n",
       " 215,\n",
       " 244,\n",
       " 626,\n",
       " 64,\n",
       " 127,\n",
       " 180,\n",
       " 128,\n",
       " 206,\n",
       " 221,\n",
       " 261,\n",
       " 122,\n",
       " 201,\n",
       " 221,\n",
       " 139,\n",
       " 315,\n",
       " 356,\n",
       " 254,\n",
       " 131,\n",
       " 128,\n",
       " 234,\n",
       " 129,\n",
       " 66,\n",
       " 134,\n",
       " 121,\n",
       " 470,\n",
       " 373,\n",
       " 129,\n",
       " 127,\n",
       " 92,\n",
       " 127,\n",
       " 223,\n",
       " 179,\n",
       " 651,\n",
       " 452,\n",
       " 935,\n",
       " 146,\n",
       " 170,\n",
       " 438,\n",
       " 94,\n",
       " 159,\n",
       " 312,\n",
       " 302,\n",
       " 128,\n",
       " 121,\n",
       " 280,\n",
       " 622,\n",
       " 166,\n",
       " 126,\n",
       " 157,\n",
       " 353,\n",
       " 45,\n",
       " 132,\n",
       " 324,\n",
       " 65,\n",
       " 304,\n",
       " 149,\n",
       " 243,\n",
       " 117,\n",
       " 719,\n",
       " 164,\n",
       " 116,\n",
       " 61,\n",
       " 368,\n",
       " 407,\n",
       " 73,\n",
       " 571,\n",
       " 170,\n",
       " 303,\n",
       " 159,\n",
       " 42,\n",
       " 400,\n",
       " 295,\n",
       " 183,\n",
       " 75,\n",
       " 215,\n",
       " 255,\n",
       " 229,\n",
       " 445,\n",
       " 1000,\n",
       " 494,\n",
       " 128,\n",
       " 580,\n",
       " 130,\n",
       " 59,\n",
       " 189,\n",
       " 526,\n",
       " 116,\n",
       " 114,\n",
       " 544,\n",
       " 118,\n",
       " 111,\n",
       " 420,\n",
       " 250,\n",
       " 258,\n",
       " 188,\n",
       " 139,\n",
       " 89,\n",
       " 135,\n",
       " 58,\n",
       " 173,\n",
       " 84,\n",
       " 150,\n",
       " 170,\n",
       " 159,\n",
       " 152,\n",
       " 170,\n",
       " 74,\n",
       " 213,\n",
       " 41,\n",
       " 250,\n",
       " 124,\n",
       " 533,\n",
       " 84,\n",
       " 186,\n",
       " 126,\n",
       " 183,\n",
       " 125,\n",
       " 153,\n",
       " 282,\n",
       " 146,\n",
       " 149,\n",
       " 215,\n",
       " 122,\n",
       " 68,\n",
       " 139,\n",
       " 128,\n",
       " 113,\n",
       " 252,\n",
       " 168,\n",
       " 434,\n",
       " ...]"
      ]
     },
     "execution_count": 53,
     "metadata": {},
     "output_type": "execute_result"
    }
   ],
   "source": [
    "[len(sentence) for sentence in train_data]"
   ]
  },
  {
   "cell_type": "markdown",
   "metadata": {
    "colab_type": "text"
   },
   "source": [
    "**Encoding the integer sequences via multi-hot encoding**"
   ]
  },
  {
   "cell_type": "code",
   "execution_count": 23,
   "metadata": {
    "colab_type": "code"
   },
   "outputs": [],
   "source": [
    "def vectorize_sequences(sequences, dimension=10000):\n",
    "    results = np.zeros((len(sequences), dimension))\n",
    "    \n",
    "    for i, sequence in enumerate(sequences):\n",
    "        results[i, sequence] = 1.  # ith row, and all columns that are actual in the sentence\n",
    "    return results\n",
    "\n",
    "x_train = vectorize_sequences(train_data)\n",
    "x_test = vectorize_sequences(test_data)"
   ]
  },
  {
   "cell_type": "code",
   "execution_count": 65,
   "metadata": {
    "colab_type": "code"
   },
   "outputs": [
    {
     "data": {
      "text/plain": [
       "(25000, 10000)"
      ]
     },
     "execution_count": 65,
     "metadata": {},
     "output_type": "execute_result"
    }
   ],
   "source": [
    "x_train.shape"
   ]
  },
  {
   "cell_type": "code",
   "execution_count": 58,
   "metadata": {
    "colab_type": "code"
   },
   "outputs": [],
   "source": [
    "y_train = np.asarray(train_labels).astype(\"float32\")\n",
    "y_test = np.asarray(test_labels).astype(\"float32\")"
   ]
  },
  {
   "cell_type": "markdown",
   "metadata": {
    "colab_type": "text"
   },
   "source": [
    "### Building your model"
   ]
  },
  {
   "cell_type": "markdown",
   "metadata": {},
   "source": [
    "The input data is vectors, and the labels are scalars (1s and 0s): this is one of the simplest problem setups you’ll ever encounter. A type of model that performs well on such a problem is a plain stack of densely-connected (Dense) layers with relu activations.\n",
    "\n",
    "There are two key architecture decisions to be made about such a stack of Dense layers:\n",
    "\n",
    "- How many layers to use\n",
    "- How many units to choose for each layer"
   ]
  },
  {
   "cell_type": "markdown",
   "metadata": {
    "colab_type": "text"
   },
   "source": [
    "**Model definition**"
   ]
  },
  {
   "cell_type": "markdown",
   "metadata": {},
   "source": [
    "![](https://drek4537l1klr.cloudfront.net/chollet2/v-7/Figures/3_layer_network.png)"
   ]
  },
  {
   "cell_type": "markdown",
   "metadata": {},
   "source": [
    "The intermediate layers use `relu` as their activation function, and the final layer uses a `sigmoid` activation so as to output a probability (a score between 0 and 1, indicating how likely the sample is to have the target \"1\": how likely the review is to be positive). A `relu` (rectified linear unit) is a function meant to **zero out negative values**, whereas a sigmoid \"squashes\" arbitrary values into the $[0, 1]$ interval (see figure 4.3), outputting something that can be interpreted as a **probability**.\n",
    "\n",
    "![](https://drek4537l1klr.cloudfront.net/chollet2/v-7/Figures/The-rectified-linear-unit-function.png)\n",
    "\n",
    "![](https://drek4537l1klr.cloudfront.net/chollet2/v-7/Figures/The-sigmoid-function.png)"
   ]
  },
  {
   "cell_type": "code",
   "execution_count": 59,
   "metadata": {
    "colab_type": "code"
   },
   "outputs": [],
   "source": [
    "from tensorflow import keras\n",
    "from tensorflow.keras import layers\n",
    "\n",
    "model = keras.Sequential([\n",
    "    layers.Dense(16, activation=\"relu\"),\n",
    "    layers.Dense(16, activation=\"relu\"),\n",
    "    layers.Dense(1, activation=\"sigmoid\")\n",
    "])"
   ]
  },
  {
   "cell_type": "markdown",
   "metadata": {
    "colab_type": "text"
   },
   "source": [
    "**Compiling the model**"
   ]
  },
  {
   "cell_type": "code",
   "execution_count": 60,
   "metadata": {
    "colab_type": "code"
   },
   "outputs": [],
   "source": [
    "model.compile(optimizer=\"rmsprop\",\n",
    "              loss=\"binary_crossentropy\",\n",
    "              metrics=[\"accuracy\"])"
   ]
  },
  {
   "cell_type": "markdown",
   "metadata": {
    "colab_type": "text"
   },
   "source": [
    "### Validating your approach"
   ]
  },
  {
   "cell_type": "markdown",
   "metadata": {
    "colab_type": "text"
   },
   "source": [
    "**Setting aside a validation set**"
   ]
  },
  {
   "cell_type": "code",
   "execution_count": 67,
   "metadata": {
    "colab_type": "code"
   },
   "outputs": [],
   "source": [
    "shuffled_index = np.random.permutation(range(x_train.shape[0]))\n",
    "\n",
    "x_val = x_train[shuffled_index][:10000]\n",
    "partial_x_train = x_train[shuffled_index][10000:]\n",
    "y_val = y_train[shuffled_index][:10000]\n",
    "partial_y_train = y_train[shuffled_index][10000:]"
   ]
  },
  {
   "cell_type": "markdown",
   "metadata": {
    "colab_type": "text"
   },
   "source": [
    "**Training your model**"
   ]
  },
  {
   "cell_type": "code",
   "execution_count": 68,
   "metadata": {
    "colab_type": "code",
    "scrolled": true
   },
   "outputs": [
    {
     "name": "stdout",
     "output_type": "stream",
     "text": [
      "Epoch 1/20\n",
      "30/30 [==============================] - 1s 22ms/step - loss: 0.5327 - accuracy: 0.7833 - val_loss: 0.4029 - val_accuracy: 0.8642\n",
      "Epoch 2/20\n",
      "30/30 [==============================] - 0s 9ms/step - loss: 0.3181 - accuracy: 0.8995 - val_loss: 0.3190 - val_accuracy: 0.8828\n",
      "Epoch 3/20\n",
      "30/30 [==============================] - 0s 10ms/step - loss: 0.2284 - accuracy: 0.9295 - val_loss: 0.2903 - val_accuracy: 0.8865\n",
      "Epoch 4/20\n",
      "30/30 [==============================] - 0s 9ms/step - loss: 0.1788 - accuracy: 0.9430 - val_loss: 0.2890 - val_accuracy: 0.8865\n",
      "Epoch 5/20\n",
      "30/30 [==============================] - 0s 10ms/step - loss: 0.1421 - accuracy: 0.9575 - val_loss: 0.2981 - val_accuracy: 0.8830\n",
      "Epoch 6/20\n",
      "30/30 [==============================] - 0s 9ms/step - loss: 0.1176 - accuracy: 0.9651 - val_loss: 0.3283 - val_accuracy: 0.8784\n",
      "Epoch 7/20\n",
      "30/30 [==============================] - 0s 9ms/step - loss: 0.0961 - accuracy: 0.9727 - val_loss: 0.3480 - val_accuracy: 0.8762\n",
      "Epoch 8/20\n",
      "30/30 [==============================] - 0s 9ms/step - loss: 0.0778 - accuracy: 0.9802 - val_loss: 0.3526 - val_accuracy: 0.8779\n",
      "Epoch 9/20\n",
      "30/30 [==============================] - 0s 10ms/step - loss: 0.0635 - accuracy: 0.9838 - val_loss: 0.4418 - val_accuracy: 0.8623\n",
      "Epoch 10/20\n",
      "30/30 [==============================] - 0s 9ms/step - loss: 0.0536 - accuracy: 0.9867 - val_loss: 0.4075 - val_accuracy: 0.8733\n",
      "Epoch 11/20\n",
      "30/30 [==============================] - 0s 10ms/step - loss: 0.0410 - accuracy: 0.9910 - val_loss: 0.4399 - val_accuracy: 0.8731\n",
      "Epoch 12/20\n",
      "30/30 [==============================] - 0s 9ms/step - loss: 0.0308 - accuracy: 0.9939 - val_loss: 0.4729 - val_accuracy: 0.8690\n",
      "Epoch 13/20\n",
      "30/30 [==============================] - 0s 9ms/step - loss: 0.0242 - accuracy: 0.9959 - val_loss: 0.5172 - val_accuracy: 0.8665\n",
      "Epoch 14/20\n",
      "30/30 [==============================] - 0s 9ms/step - loss: 0.0202 - accuracy: 0.9968 - val_loss: 0.5454 - val_accuracy: 0.8669\n",
      "Epoch 15/20\n",
      "30/30 [==============================] - 0s 9ms/step - loss: 0.0138 - accuracy: 0.9979 - val_loss: 0.5850 - val_accuracy: 0.8653\n",
      "Epoch 16/20\n",
      "30/30 [==============================] - 0s 9ms/step - loss: 0.0112 - accuracy: 0.9983 - val_loss: 0.6252 - val_accuracy: 0.8663\n",
      "Epoch 17/20\n",
      "30/30 [==============================] - 0s 9ms/step - loss: 0.0077 - accuracy: 0.9991 - val_loss: 0.6877 - val_accuracy: 0.8635\n",
      "Epoch 18/20\n",
      "30/30 [==============================] - 0s 9ms/step - loss: 0.0050 - accuracy: 0.9997 - val_loss: 0.7144 - val_accuracy: 0.8629\n",
      "Epoch 19/20\n",
      "30/30 [==============================] - 0s 9ms/step - loss: 0.0062 - accuracy: 0.9991 - val_loss: 0.7468 - val_accuracy: 0.8625\n",
      "Epoch 20/20\n",
      "30/30 [==============================] - 0s 8ms/step - loss: 0.0025 - accuracy: 0.9998 - val_loss: 0.7894 - val_accuracy: 0.8622\n"
     ]
    }
   ],
   "source": [
    "history = model.fit(partial_x_train,\n",
    "                    partial_y_train,\n",
    "                    epochs=20,\n",
    "                    batch_size=512,\n",
    "                    validation_data=(x_val, y_val))"
   ]
  },
  {
   "cell_type": "code",
   "execution_count": 69,
   "metadata": {
    "colab_type": "code"
   },
   "outputs": [
    {
     "data": {
      "text/plain": [
       "dict_keys(['loss', 'accuracy', 'val_loss', 'val_accuracy'])"
      ]
     },
     "execution_count": 69,
     "metadata": {},
     "output_type": "execute_result"
    }
   ],
   "source": [
    "history_dict = history.history\n",
    "history_dict.keys()"
   ]
  },
  {
   "cell_type": "markdown",
   "metadata": {
    "colab_type": "text"
   },
   "source": [
    "**Plotting the training and validation loss**"
   ]
  },
  {
   "cell_type": "code",
   "execution_count": 73,
   "metadata": {
    "colab_type": "code"
   },
   "outputs": [
    {
     "data": {
      "image/png": "[encoded data removed]",
      "text/plain": [
       "<Figure size 432x288 with 1 Axes>"
      ]
     },
     "metadata": {
      "needs_background": "light"
     },
     "output_type": "display_data"
    }
   ],
   "source": [
    "import matplotlib.pyplot as plt\n",
    "\n",
    "history_dict = history.history\n",
    "loss_values = history_dict[\"loss\"]\n",
    "val_loss_values = history_dict[\"val_loss\"]\n",
    "\n",
    "epochs = range(1, len(loss_values) + 1)\n",
    "\n",
    "plt.plot(epochs, loss_values, \"og\", label=\"Training loss\")\n",
    "plt.plot(epochs, val_loss_values, \"r\", label=\"Validation loss\")\n",
    "plt.title(\"Training and validation loss\")\n",
    "plt.xlabel(\"Epochs\")\n",
    "plt.ylabel(\"Loss\")\n",
    "plt.legend()\n",
    "plt.show()"
   ]
  },
  {
   "cell_type": "markdown",
   "metadata": {
    "colab_type": "text"
   },
   "source": [
    "**Plotting the training and validation accuracy**"
   ]
  },
  {
   "cell_type": "code",
   "execution_count": 74,
   "metadata": {
    "colab_type": "code",
    "scrolled": true
   },
   "outputs": [
    {
     "data": {
      "image/png": "[encoded data removed]",
      "text/plain": [
       "<Figure size 432x288 with 1 Axes>"
      ]
     },
     "metadata": {
      "needs_background": "light"
     },
     "output_type": "display_data"
    }
   ],
   "source": [
    "plt.clf()\n",
    "\n",
    "acc = history_dict[\"accuracy\"]\n",
    "val_acc = history_dict[\"val_accuracy\"]\n",
    "plt.plot(epochs, acc, \"go\", label=\"Training acc\")\n",
    "plt.plot(epochs, val_acc, \"r\", label=\"Validation acc\")\n",
    "plt.title(\"Training and validation accuracy\")\n",
    "plt.xlabel(\"Epochs\")\n",
    "plt.ylabel(\"Accuracy\")\n",
    "plt.legend()\n",
    "plt.show()"
   ]
  },
  {
   "cell_type": "markdown",
   "metadata": {},
   "source": [
    "As you can see, the training loss decreases with every epoch, and the training accuracy increases with every epoch. That’s what you would expect when running gradient-descent optimization—the quantity you’re trying to minimize should be less with every iteration. But that isn’t the case for the validation loss and accuracy: they seem to peak at the fourth epoch. This is an example of what we warned against earlier: a model that performs better on the training data isn’t necessarily a model that will do better on data it has never seen before. In precise terms, what you’re seeing is **overfitting**: after the fourth epoch, you’re over-optimizing on the training data, and you end up learning representations that are specific to the training data and don’t generalize to data outside of the training set."
   ]
  },
  {
   "cell_type": "markdown",
   "metadata": {
    "colab_type": "text"
   },
   "source": [
    "**Retraining a model from scratch**"
   ]
  },
  {
   "cell_type": "code",
   "execution_count": 76,
   "metadata": {
    "colab_type": "code"
   },
   "outputs": [
    {
     "name": "stdout",
     "output_type": "stream",
     "text": [
      "Epoch 1/4\n",
      "49/49 [==============================] - 1s 6ms/step - loss: 0.4915 - accuracy: 0.8150\n",
      "Epoch 2/4\n",
      "49/49 [==============================] - ETA: 0s - loss: 0.2826 - accuracy: 0.90 - 0s 6ms/step - loss: 0.2823 - accuracy: 0.9049\n",
      "Epoch 3/4\n",
      "49/49 [==============================] - 0s 6ms/step - loss: 0.2116 - accuracy: 0.9264\n",
      "Epoch 4/4\n",
      "49/49 [==============================] - 0s 6ms/step - loss: 0.1761 - accuracy: 0.9372\n",
      "782/782 [==============================] - 25s 31ms/step - loss: 0.2926 - accuracy: 0.8843\n"
     ]
    }
   ],
   "source": [
    "model = keras.Sequential([\n",
    "    layers.Dense(16, activation=\"relu\"),\n",
    "    layers.Dense(16, activation=\"relu\"),\n",
    "    layers.Dense(1, activation=\"sigmoid\")\n",
    "])\n",
    "model.compile(optimizer=\"rmsprop\",\n",
    "              loss=\"binary_crossentropy\",\n",
    "              metrics=[\"accuracy\"])\n",
    "model.fit(x_train, y_train, epochs=4, batch_size=512)\n",
    "results = model.evaluate(x_test, y_test, return_dict=True)"
   ]
  },
  {
   "cell_type": "code",
   "execution_count": 77,
   "metadata": {
    "colab_type": "code"
   },
   "outputs": [
    {
     "data": {
      "text/plain": [
       "{'loss': 0.29259607195854187, 'accuracy': 0.8842800259590149}"
      ]
     },
     "execution_count": 77,
     "metadata": {},
     "output_type": "execute_result"
    }
   ],
   "source": [
    "results"
   ]
  },
  {
   "cell_type": "markdown",
   "metadata": {
    "colab_type": "text"
   },
   "source": [
    "### Using a trained model to generate predictions on new data"
   ]
  },
  {
   "cell_type": "code",
   "execution_count": 78,
   "metadata": {
    "colab_type": "code"
   },
   "outputs": [
    {
     "data": {
      "text/plain": [
       "array([[0.16073775],\n",
       "       [0.99819577],\n",
       "       [0.8550322 ],\n",
       "       ...,\n",
       "       [0.09465057],\n",
       "       [0.06173232],\n",
       "       [0.5093109 ]], dtype=float32)"
      ]
     },
     "execution_count": 78,
     "metadata": {},
     "output_type": "execute_result"
    }
   ],
   "source": [
    "model.predict(x_test)"
   ]
  },
  {
   "cell_type": "markdown",
   "metadata": {
    "colab_type": "text"
   },
   "source": [
    "### Further experiments"
   ]
  },
  {
   "cell_type": "markdown",
   "metadata": {},
   "source": [
    "The following experiments will help convince you that the architecture choices you’ve made are all fairly reasonable, although there’s still room for improvement:\n",
    "\n",
    "- You used two representation layers before the final classification layer. Try using one or three representation layers, and see how doing so affects validation and test accuracy.\n",
    "- Try using layers with more units or fewer units: $32$ units, $64$ units, and so on.\n",
    "- Try using the `mse` loss function instead of `binary_crossentropy`.\n",
    "- Try using the `tanh` activation (an activation that was popular in the early days of neural networks) instead of `relu`."
   ]
  },
  {
   "cell_type": "markdown",
   "metadata": {
    "colab_type": "text"
   },
   "source": [
    "### Wrapping up"
   ]
  },
  {
   "cell_type": "markdown",
   "metadata": {},
   "source": [
    "- You usually need to do quite a bit of preprocessing on your raw data in order to be able to feed it—as tensors—into a neural network. Sequences of words can be encoded as binary vectors, but there are other encoding options, too.\n",
    "- Stacks of `Dense` layers with `relu` activations can solve a wide range of problems (including sentiment classification), and you’ll likely use them frequently.\n",
    "- In a binary classification problem (two output classes), your model should end with a `Dense` layer with one unit and a `sigmoid` activation: the output of your model should be a scalar between $0$ and $1$, encoding a probability.\n",
    "- With such a scalar `sigmoid` output on a binary classification problem, the loss function you should use is `binary_crossentropy`.\n",
    "- The `rmsprop` optimizer is generally a good enough choice, whatever your problem. That’s one less thing for you to worry about.\n",
    "- As they get better on their training data, neural networks eventually start **overfitting** and end up obtaining increasingly worse results on data they’ve never seen before. Be sure to always monitor performance on data that is outside of the training set."
   ]
  },
  {
   "cell_type": "markdown",
   "metadata": {
    "colab_type": "text"
   },
   "source": [
    "## Classifying newswires: a multiclass classification example"
   ]
  },
  {
   "cell_type": "markdown",
   "metadata": {
    "colab_type": "text"
   },
   "source": [
    "### The Reuters dataset"
   ]
  },
  {
   "cell_type": "markdown",
   "metadata": {},
   "source": [
    "In this section, you’ll build a model to classify Reuters newswires into $46$ mutually exclusive topics. Because you have many classes, this problem is an instance of **multiclass classification**; and because each data point should be classified into only one category, the problem is more specifically an instance of **single-label, multiclass classification**. If each data point could belong to multiple categories (in this case, topics), you’d be facing a multilabel, multiclass classification problem.\n",
    "\n",
    "You’ll work with the Reuters dataset, a set of short newswires and their topics, published by Reuters in 1986. It’s a simple, widely used toy dataset for text classification. There are $46$ different topics; some topics are more represented than others, but each topic has at least $10$ examples in the training set."
   ]
  },
  {
   "cell_type": "markdown",
   "metadata": {
    "colab_type": "text"
   },
   "source": [
    "**Loading the Reuters dataset**"
   ]
  },
  {
   "cell_type": "code",
   "execution_count": 4,
   "metadata": {
    "colab_type": "code"
   },
   "outputs": [
    {
     "name": "stderr",
     "output_type": "stream",
     "text": [
      "C:\\tools\\miniconda3\\envs\\dl\\lib\\site-packages\\tensorflow\\python\\keras\\datasets\\reuters.py:143: VisibleDeprecationWarning: Creating an ndarray from ragged nested sequences (which is a list-or-tuple of lists-or-tuples-or ndarrays with different lengths or shapes) is deprecated. If you meant to do this, you must specify 'dtype=object' when creating the ndarray.\n",
      "  x_train, y_train = np.array(xs[:idx]), np.array(labels[:idx])\n",
      "C:\\tools\\miniconda3\\envs\\dl\\lib\\site-packages\\tensorflow\\python\\keras\\datasets\\reuters.py:144: VisibleDeprecationWarning: Creating an ndarray from ragged nested sequences (which is a list-or-tuple of lists-or-tuples-or ndarrays with different lengths or shapes) is deprecated. If you meant to do this, you must specify 'dtype=object' when creating the ndarray.\n",
      "  x_test, y_test = np.array(xs[idx:]), np.array(labels[idx:])\n"
     ]
    }
   ],
   "source": [
    "from tensorflow.keras.datasets import reuters\n",
    "\n",
    "(train_data, train_labels), (test_data, test_labels) = reuters.load_data(\n",
    "    num_words=10000)"
   ]
  },
  {
   "cell_type": "code",
   "execution_count": 5,
   "metadata": {
    "colab_type": "code"
   },
   "outputs": [
    {
     "data": {
      "text/plain": [
       "8982"
      ]
     },
     "execution_count": 5,
     "metadata": {},
     "output_type": "execute_result"
    }
   ],
   "source": [
    "len(train_data)"
   ]
  },
  {
   "cell_type": "code",
   "execution_count": 6,
   "metadata": {
    "colab_type": "code"
   },
   "outputs": [
    {
     "data": {
      "text/plain": [
       "2246"
      ]
     },
     "execution_count": 6,
     "metadata": {},
     "output_type": "execute_result"
    }
   ],
   "source": [
    "len(test_data)"
   ]
  },
  {
   "cell_type": "code",
   "execution_count": 7,
   "metadata": {
    "colab_type": "code"
   },
   "outputs": [
    {
     "data": {
      "text/plain": [
       "[1,\n",
       " 245,\n",
       " 273,\n",
       " 207,\n",
       " 156,\n",
       " 53,\n",
       " 74,\n",
       " 160,\n",
       " 26,\n",
       " 14,\n",
       " 46,\n",
       " 296,\n",
       " 26,\n",
       " 39,\n",
       " 74,\n",
       " 2979,\n",
       " 3554,\n",
       " 14,\n",
       " 46,\n",
       " 4689,\n",
       " 4329,\n",
       " 86,\n",
       " 61,\n",
       " 3499,\n",
       " 4795,\n",
       " 14,\n",
       " 61,\n",
       " 451,\n",
       " 4329,\n",
       " 17,\n",
       " 12]"
      ]
     },
     "execution_count": 7,
     "metadata": {},
     "output_type": "execute_result"
    }
   ],
   "source": [
    "train_data[10]"
   ]
  },
  {
   "cell_type": "markdown",
   "metadata": {
    "colab_type": "text"
   },
   "source": [
    "**Decoding newswires back to text**"
   ]
  },
  {
   "cell_type": "code",
   "execution_count": 8,
   "metadata": {
    "colab_type": "code"
   },
   "outputs": [],
   "source": [
    "word_index = reuters.get_word_index()\n",
    "reverse_word_index = dict([(value, key) for (key, value) in word_index.items()])\n",
    "decoded_newswire = \" \".join([reverse_word_index.get(i - 3, \"?\") for i in\n",
    "    train_data[0]])"
   ]
  },
  {
   "cell_type": "code",
   "execution_count": 9,
   "metadata": {},
   "outputs": [
    {
     "data": {
      "text/plain": [
       "'? ? ? said as a result of its december acquisition of space co it expects earnings per share in 1987 of 1 15 to 1 30 dlrs per share up from 70 cts in 1986 the company said pretax net should rise to nine to 10 mln dlrs from six mln dlrs in 1986 and rental operation revenues to 19 to 22 mln dlrs from 12 5 mln dlrs it said cash flow per share this year should be 2 50 to three dlrs reuter 3'"
      ]
     },
     "execution_count": 9,
     "metadata": {},
     "output_type": "execute_result"
    }
   ],
   "source": [
    "decoded_newswire"
   ]
  },
  {
   "cell_type": "code",
   "execution_count": 10,
   "metadata": {
    "colab_type": "code"
   },
   "outputs": [
    {
     "data": {
      "text/plain": [
       "3"
      ]
     },
     "execution_count": 10,
     "metadata": {},
     "output_type": "execute_result"
    }
   ],
   "source": [
    "train_labels[10]"
   ]
  },
  {
   "cell_type": "markdown",
   "metadata": {
    "colab_type": "text"
   },
   "source": [
    "### Preparing the data"
   ]
  },
  {
   "cell_type": "markdown",
   "metadata": {
    "colab_type": "text"
   },
   "source": [
    "**Encoding the input data**"
   ]
  },
  {
   "cell_type": "code",
   "execution_count": 11,
   "metadata": {
    "colab_type": "code"
   },
   "outputs": [],
   "source": [
    "x_train = vectorize_sequences(train_data)\n",
    "x_test = vectorize_sequences(test_data)"
   ]
  },
  {
   "cell_type": "markdown",
   "metadata": {
    "colab_type": "text"
   },
   "source": [
    "**Encoding the labels**"
   ]
  },
  {
   "cell_type": "markdown",
   "metadata": {},
   "source": [
    "To vectorize the labels, there are two possibilities: you can cast the label list as an integer tensor, or you can use one-hot encoding. **One-hot encoding** is a widely used format for categorical data, also called categorical encoding.In this case, one-hot encoding of the labels consists of embedding each label as an all-zero vector with a 1 in the place of the label index. Here’s an example:"
   ]
  },
  {
   "cell_type": "code",
   "execution_count": 12,
   "metadata": {
    "colab_type": "code"
   },
   "outputs": [],
   "source": [
    "def to_one_hot(labels, dimension=46):\n",
    "    results = np.zeros((len(labels), dimension))\n",
    "    \n",
    "    for i, label in enumerate(labels):\n",
    "        results[i, label] = 1.\n",
    "    return results\n",
    "\n",
    "y_train = to_one_hot(train_labels)\n",
    "y_test = to_one_hot(test_labels)"
   ]
  },
  {
   "cell_type": "code",
   "execution_count": 13,
   "metadata": {},
   "outputs": [
    {
     "data": {
      "text/plain": [
       "(8982, 46)"
      ]
     },
     "execution_count": 13,
     "metadata": {},
     "output_type": "execute_result"
    }
   ],
   "source": [
    "y_train.shape"
   ]
  },
  {
   "cell_type": "code",
   "execution_count": 14,
   "metadata": {
    "colab_type": "code"
   },
   "outputs": [],
   "source": [
    "from tensorflow.keras.utils import to_categorical\n",
    "\n",
    "y_train = to_categorical(train_labels)\n",
    "y_test = to_categorical(test_labels)"
   ]
  },
  {
   "cell_type": "markdown",
   "metadata": {
    "colab_type": "text"
   },
   "source": [
    "### Building your model"
   ]
  },
  {
   "cell_type": "markdown",
   "metadata": {
    "colab_type": "text"
   },
   "source": [
    "**Model definition**"
   ]
  },
  {
   "cell_type": "markdown",
   "metadata": {},
   "source": [
    "There are two other things you should note about this architecture:\n",
    "\n",
    "You end the model with a `Dense` layer of size $46$. This means for each input sample, the network will output a $46$-dimensional vector. Each entry in this vector (each dimension) will encode a different output class.\n",
    "\n",
    "The last layer uses a `softmax` activation. You saw this pattern in the MNIST example. It means the model will output a **probability distribution over the $46$ different output classes**—for every input sample, the model will produce a $46$-dimensional output vector, where `output[i]` is the probability that the sample belongs to class $i$. The $46$ scores will sum to $1$.\n"
   ]
  },
  {
   "cell_type": "code",
   "execution_count": 24,
   "metadata": {
    "colab_type": "code"
   },
   "outputs": [],
   "source": [
    "from tensorflow.keras import layers\n",
    "\n",
    "model = keras.Sequential([\n",
    "    layers.Dense(64, activation=\"relu\"),\n",
    "    layers.Dense(64, activation=\"relu\"),\n",
    "    layers.Dense(46, activation=\"softmax\")\n",
    "])"
   ]
  },
  {
   "cell_type": "markdown",
   "metadata": {
    "colab_type": "text"
   },
   "source": [
    "**Compiling the model**"
   ]
  },
  {
   "cell_type": "markdown",
   "metadata": {},
   "source": [
    "The best loss function to use in this case is `categorical_crossentropy`. It measures the distance between two probability distributions: here, between the probability distribution output by the model and the true distribution of the labels. By minimizing the distance between these two distributions, you train the model to output something as close as possible to the true labels."
   ]
  },
  {
   "cell_type": "code",
   "execution_count": 25,
   "metadata": {
    "colab_type": "code"
   },
   "outputs": [],
   "source": [
    "model.compile(optimizer=\"rmsprop\",\n",
    "              loss=\"categorical_crossentropy\",\n",
    "              metrics=[\"accuracy\"])"
   ]
  },
  {
   "cell_type": "markdown",
   "metadata": {
    "colab_type": "text"
   },
   "source": [
    "### Validating your approach"
   ]
  },
  {
   "cell_type": "markdown",
   "metadata": {
    "colab_type": "text"
   },
   "source": [
    "**Setting aside a validation set**"
   ]
  },
  {
   "cell_type": "code",
   "execution_count": 18,
   "metadata": {
    "colab_type": "code"
   },
   "outputs": [],
   "source": [
    "shuffled_index = np.random.permutation(range(x_train.shape[0]))\n",
    "\n",
    "x_val = x_train[shuffled_index][:1000]\n",
    "partial_x_train = x_train[shuffled_index][1000:]\n",
    "y_val = y_train[shuffled_index][:1000]\n",
    "partial_y_train = y_train[shuffled_index][1000:]"
   ]
  },
  {
   "cell_type": "markdown",
   "metadata": {
    "colab_type": "text"
   },
   "source": [
    "**Training the model**"
   ]
  },
  {
   "cell_type": "code",
   "execution_count": 19,
   "metadata": {
    "colab_type": "code",
    "scrolled": true
   },
   "outputs": [
    {
     "name": "stdout",
     "output_type": "stream",
     "text": [
      "Epoch 1/20\n",
      "16/16 [==============================] - 1s 24ms/step - loss: 2.6813 - accuracy: 0.5119 - val_loss: 1.7369 - val_accuracy: 0.6430\n",
      "Epoch 2/20\n",
      "16/16 [==============================] - 0s 12ms/step - loss: 1.4278 - accuracy: 0.6964 - val_loss: 1.2834 - val_accuracy: 0.7230\n",
      "Epoch 3/20\n",
      "16/16 [==============================] - 0s 13ms/step - loss: 1.0427 - accuracy: 0.7740 - val_loss: 1.1270 - val_accuracy: 0.7520\n",
      "Epoch 4/20\n",
      "16/16 [==============================] - 0s 11ms/step - loss: 0.8159 - accuracy: 0.8232 - val_loss: 1.0416 - val_accuracy: 0.7700\n",
      "Epoch 5/20\n",
      "16/16 [==============================] - 0s 13ms/step - loss: 0.6473 - accuracy: 0.8633 - val_loss: 0.9972 - val_accuracy: 0.7840\n",
      "Epoch 6/20\n",
      "16/16 [==============================] - 0s 12ms/step - loss: 0.5137 - accuracy: 0.8920 - val_loss: 0.9388 - val_accuracy: 0.7950\n",
      "Epoch 7/20\n",
      "16/16 [==============================] - 0s 12ms/step - loss: 0.4068 - accuracy: 0.9143 - val_loss: 0.9348 - val_accuracy: 0.8010\n",
      "Epoch 8/20\n",
      "16/16 [==============================] - 0s 12ms/step - loss: 0.3306 - accuracy: 0.9288 - val_loss: 0.9192 - val_accuracy: 0.8040\n",
      "Epoch 9/20\n",
      "16/16 [==============================] - 0s 12ms/step - loss: 0.2736 - accuracy: 0.9386 - val_loss: 0.9269 - val_accuracy: 0.8070\n",
      "Epoch 10/20\n",
      "16/16 [==============================] - 0s 12ms/step - loss: 0.2317 - accuracy: 0.9449 - val_loss: 0.9884 - val_accuracy: 0.7910\n",
      "Epoch 11/20\n",
      "16/16 [==============================] - 0s 11ms/step - loss: 0.1990 - accuracy: 0.9468 - val_loss: 0.9724 - val_accuracy: 0.7960\n",
      "Epoch 12/20\n",
      "16/16 [==============================] - 0s 12ms/step - loss: 0.1770 - accuracy: 0.9520 - val_loss: 1.0165 - val_accuracy: 0.7840\n",
      "Epoch 13/20\n",
      "16/16 [==============================] - 0s 11ms/step - loss: 0.1589 - accuracy: 0.9538 - val_loss: 1.0108 - val_accuracy: 0.7940\n",
      "Epoch 14/20\n",
      "16/16 [==============================] - 0s 12ms/step - loss: 0.1463 - accuracy: 0.9559 - val_loss: 1.0128 - val_accuracy: 0.7980\n",
      "Epoch 15/20\n",
      "16/16 [==============================] - 0s 12ms/step - loss: 0.1334 - accuracy: 0.9555 - val_loss: 1.1127 - val_accuracy: 0.7840\n",
      "Epoch 16/20\n",
      "16/16 [==============================] - 0s 11ms/step - loss: 0.1280 - accuracy: 0.9564 - val_loss: 1.1221 - val_accuracy: 0.7870\n",
      "Epoch 17/20\n",
      "16/16 [==============================] - 0s 11ms/step - loss: 0.1266 - accuracy: 0.9554 - val_loss: 1.0896 - val_accuracy: 0.7970\n",
      "Epoch 18/20\n",
      "16/16 [==============================] - 0s 12ms/step - loss: 0.1149 - accuracy: 0.9572 - val_loss: 1.1113 - val_accuracy: 0.7950\n",
      "Epoch 19/20\n",
      "16/16 [==============================] - 0s 11ms/step - loss: 0.1175 - accuracy: 0.9565 - val_loss: 1.0908 - val_accuracy: 0.7970\n",
      "Epoch 20/20\n",
      "16/16 [==============================] - 0s 10ms/step - loss: 0.1095 - accuracy: 0.9569 - val_loss: 1.1678 - val_accuracy: 0.7820\n"
     ]
    }
   ],
   "source": [
    "history = model.fit(partial_x_train,\n",
    "                    partial_y_train,\n",
    "                    epochs=20,\n",
    "                    batch_size=512,\n",
    "                    validation_data=(x_val, y_val))"
   ]
  },
  {
   "cell_type": "markdown",
   "metadata": {
    "colab_type": "text"
   },
   "source": [
    "**Plotting the training and validation loss**"
   ]
  },
  {
   "cell_type": "code",
   "execution_count": 26,
   "metadata": {
    "colab_type": "code"
   },
   "outputs": [
    {
     "data": {
      "image/png": "[encoded data removed]",
      "text/plain": [
       "<Figure size 432x288 with 1 Axes>"
      ]
     },
     "metadata": {
      "needs_background": "light"
     },
     "output_type": "display_data"
    }
   ],
   "source": [
    "loss = history.history[\"loss\"]\n",
    "val_loss = history.history[\"val_loss\"]\n",
    "\n",
    "epochs = range(1, len(loss) + 1)\n",
    "plt.plot(epochs, loss, \"go\", label=\"Training loss\")\n",
    "plt.plot(epochs, val_loss, \"r\", label=\"Validation loss\")\n",
    "plt.title(\"Training and validation loss\")\n",
    "plt.xlabel(\"Epochs\")\n",
    "plt.ylabel(\"Loss\")\n",
    "plt.legend()\n",
    "plt.show()"
   ]
  },
  {
   "cell_type": "markdown",
   "metadata": {
    "colab_type": "text"
   },
   "source": [
    "**Plotting the training and validation accuracy**"
   ]
  },
  {
   "cell_type": "code",
   "execution_count": 27,
   "metadata": {
    "colab_type": "code"
   },
   "outputs": [
    {
     "data": {
      "image/png": "[encoded data removed]",
      "text/plain": [
       "<Figure size 432x288 with 1 Axes>"
      ]
     },
     "metadata": {
      "needs_background": "light"
     },
     "output_type": "display_data"
    }
   ],
   "source": [
    "plt.clf()\n",
    "\n",
    "acc = history.history[\"accuracy\"]\n",
    "val_acc = history.history[\"val_accuracy\"]\n",
    "plt.plot(epochs, acc, \"go\", label=\"Training accuracy\")\n",
    "plt.plot(epochs, val_acc, \"r\", label=\"Validation accuracy\")\n",
    "plt.title(\"Training and validation accuracy\")\n",
    "plt.xlabel(\"Epochs\")\n",
    "plt.ylabel(\"Accuracy\")\n",
    "plt.legend()\n",
    "plt.show()"
   ]
  },
  {
   "cell_type": "markdown",
   "metadata": {
    "colab_type": "text"
   },
   "source": [
    "**Retraining a model from scratch**"
   ]
  },
  {
   "cell_type": "code",
   "execution_count": 28,
   "metadata": {
    "colab_type": "code"
   },
   "outputs": [
    {
     "name": "stdout",
     "output_type": "stream",
     "text": [
      "Epoch 1/9\n",
      "18/18 [==============================] - 1s 9ms/step - loss: 2.4859 - accuracy: 0.5603\n",
      "Epoch 2/9\n",
      "18/18 [==============================] - 0s 10ms/step - loss: 1.3175 - accuracy: 0.7196\n",
      "Epoch 3/9\n",
      "18/18 [==============================] - 0s 11ms/step - loss: 0.9841 - accuracy: 0.7859\n",
      "Epoch 4/9\n",
      "18/18 [==============================] - 0s 9ms/step - loss: 0.7763 - accuracy: 0.8334\n",
      "Epoch 5/9\n",
      "18/18 [==============================] - 0s 10ms/step - loss: 0.6118 - accuracy: 0.8732\n",
      "Epoch 6/9\n",
      "18/18 [==============================] - 0s 9ms/step - loss: 0.4904 - accuracy: 0.8988\n",
      "Epoch 7/9\n",
      "18/18 [==============================] - 0s 9ms/step - loss: 0.3926 - accuracy: 0.9171\n",
      "Epoch 8/9\n",
      "18/18 [==============================] - 0s 9ms/step - loss: 0.3210 - accuracy: 0.9309\n",
      "Epoch 9/9\n",
      "18/18 [==============================] - 0s 8ms/step - loss: 0.2712 - accuracy: 0.9405\n",
      "71/71 [==============================] - 2s 32ms/step - loss: 0.9537 - accuracy: 0.7921\n"
     ]
    }
   ],
   "source": [
    "model = keras.Sequential([\n",
    "  layers.Dense(64, activation=\"relu\"),\n",
    "  layers.Dense(64, activation=\"relu\"),\n",
    "  layers.Dense(46, activation=\"softmax\")\n",
    "])\n",
    "\n",
    "model.compile(optimizer=\"rmsprop\",\n",
    "              loss=\"categorical_crossentropy\",\n",
    "              metrics=[\"accuracy\"])\n",
    "model.fit(x_train,\n",
    "          y_train,\n",
    "          epochs=9,\n",
    "          batch_size=512)\n",
    "results = model.evaluate(x_test, y_test, return_dict=True)"
   ]
  },
  {
   "cell_type": "code",
   "execution_count": 29,
   "metadata": {
    "colab_type": "code"
   },
   "outputs": [
    {
     "data": {
      "text/plain": [
       "{'loss': 0.9536892771720886, 'accuracy': 0.7920747995376587}"
      ]
     },
     "execution_count": 29,
     "metadata": {},
     "output_type": "execute_result"
    }
   ],
   "source": [
    "results"
   ]
  },
  {
   "cell_type": "markdown",
   "metadata": {},
   "source": [
    "This approach reaches an accuracy of ~$80\\%$. With a balanced binary classification problem, the accuracy reached by a purely random classifier would be $50\\%$. But in this case, we have $46$ classes, and they may not be equally represented. What would be the accuracy of a random baseline? We could try quickly implementing one to check this empirically:"
   ]
  },
  {
   "cell_type": "code",
   "execution_count": 30,
   "metadata": {
    "colab_type": "code"
   },
   "outputs": [
    {
     "data": {
      "text/plain": [
       "0.1651825467497774"
      ]
     },
     "execution_count": 30,
     "metadata": {},
     "output_type": "execute_result"
    }
   ],
   "source": [
    "import copy\n",
    "\n",
    "hits_array = np.random.permutation(test_labels) == np.array(test_labels)\n",
    "hits_array.mean()"
   ]
  },
  {
   "cell_type": "markdown",
   "metadata": {
    "colab_type": "text"
   },
   "source": [
    "### Generating predictions on new data"
   ]
  },
  {
   "cell_type": "code",
   "execution_count": 31,
   "metadata": {
    "colab_type": "code"
   },
   "outputs": [],
   "source": [
    "predictions = model.predict(x_test)"
   ]
  },
  {
   "cell_type": "code",
   "execution_count": 32,
   "metadata": {
    "colab_type": "code"
   },
   "outputs": [
    {
     "data": {
      "text/plain": [
       "(46,)"
      ]
     },
     "execution_count": 32,
     "metadata": {},
     "output_type": "execute_result"
    }
   ],
   "source": [
    "predictions[0].shape"
   ]
  },
  {
   "cell_type": "code",
   "execution_count": 33,
   "metadata": {
    "colab_type": "code"
   },
   "outputs": [
    {
     "data": {
      "text/plain": [
       "1.0000001"
      ]
     },
     "execution_count": 33,
     "metadata": {},
     "output_type": "execute_result"
    }
   ],
   "source": [
    "np.sum(predictions[0])"
   ]
  },
  {
   "cell_type": "code",
   "execution_count": 34,
   "metadata": {
    "colab_type": "code"
   },
   "outputs": [
    {
     "data": {
      "text/plain": [
       "3"
      ]
     },
     "execution_count": 34,
     "metadata": {},
     "output_type": "execute_result"
    }
   ],
   "source": [
    "np.argmax(predictions[0])"
   ]
  },
  {
   "cell_type": "markdown",
   "metadata": {
    "colab_type": "text"
   },
   "source": [
    "### A different way to handle the labels and the loss"
   ]
  },
  {
   "cell_type": "markdown",
   "metadata": {},
   "source": [
    "The only thing this approach would change is the choice of the loss function. The loss function `categorical_crossentropy`, expects the labels to follow a categorical encoding. With integer labels, you should use `sparse_categorical_crossentropy`:"
   ]
  },
  {
   "cell_type": "code",
   "execution_count": 35,
   "metadata": {
    "colab_type": "code"
   },
   "outputs": [],
   "source": [
    "y_train = np.array(train_labels)\n",
    "y_test = np.array(test_labels)"
   ]
  },
  {
   "cell_type": "code",
   "execution_count": 39,
   "metadata": {},
   "outputs": [
    {
     "data": {
      "text/plain": [
       "(8982,)"
      ]
     },
     "execution_count": 39,
     "metadata": {},
     "output_type": "execute_result"
    }
   ],
   "source": [
    "y_train.shape"
   ]
  },
  {
   "cell_type": "code",
   "execution_count": 41,
   "metadata": {
    "colab_type": "code"
   },
   "outputs": [],
   "source": [
    "model.compile(optimizer=\"rmsprop\",\n",
    "              loss=\"sparse_categorical_crossentropy\",\n",
    "              metrics=[\"accuracy\"])"
   ]
  },
  {
   "cell_type": "markdown",
   "metadata": {
    "colab_type": "text"
   },
   "source": [
    "### The importance of having sufficiently large intermediate layers"
   ]
  },
  {
   "cell_type": "markdown",
   "metadata": {},
   "source": [
    "We mentioned earlier that because the final outputs are $46$-dimensional, you should avoid intermediate layers with many fewer than $46$ units. Now let’s see what happens when you introduce an information bottleneck by having intermediate layers that are significantly less than $46$-dimensional: for example, 4-dimensional."
   ]
  },
  {
   "cell_type": "markdown",
   "metadata": {
    "colab_type": "text"
   },
   "source": [
    "**A model with an information bottleneck**"
   ]
  },
  {
   "cell_type": "code",
   "execution_count": 43,
   "metadata": {
    "colab_type": "code",
    "scrolled": true
   },
   "outputs": [
    {
     "name": "stdout",
     "output_type": "stream",
     "text": [
      "Epoch 1/20\n",
      "63/63 [==============================] - 2s 24ms/step - loss: 3.0718 - accuracy: 0.2722 - val_loss: 2.4650 - val_accuracy: 0.4220\n",
      "Epoch 2/20\n",
      "63/63 [==============================] - 1s 22ms/step - loss: 2.0874 - accuracy: 0.4545 - val_loss: 1.9415 - val_accuracy: 0.4430\n",
      "Epoch 3/20\n",
      "63/63 [==============================] - 1s 22ms/step - loss: 1.6674 - accuracy: 0.4894 - val_loss: 1.5998 - val_accuracy: 0.5840\n",
      "Epoch 4/20\n",
      "63/63 [==============================] - 1s 18ms/step - loss: 1.3439 - accuracy: 0.6537 - val_loss: 1.3945 - val_accuracy: 0.6380\n",
      "Epoch 5/20\n",
      "63/63 [==============================] - 1s 22ms/step - loss: 1.1773 - accuracy: 0.6973 - val_loss: 1.3437 - val_accuracy: 0.6720\n",
      "Epoch 6/20\n",
      "63/63 [==============================] - 1s 23ms/step - loss: 1.0704 - accuracy: 0.7286 - val_loss: 1.3441 - val_accuracy: 0.6790\n",
      "Epoch 7/20\n",
      "63/63 [==============================] - 1s 21ms/step - loss: 0.9973 - accuracy: 0.7390 - val_loss: 1.3311 - val_accuracy: 0.6850\n",
      "Epoch 8/20\n",
      "63/63 [==============================] - 1s 19ms/step - loss: 0.9396 - accuracy: 0.7430 - val_loss: 1.3543 - val_accuracy: 0.6890\n",
      "Epoch 9/20\n",
      "63/63 [==============================] - 2s 25ms/step - loss: 0.8946 - accuracy: 0.7457 - val_loss: 1.3822 - val_accuracy: 0.6890\n",
      "Epoch 10/20\n",
      "63/63 [==============================] - 1s 23ms/step - loss: 0.8558 - accuracy: 0.7478 - val_loss: 1.4152 - val_accuracy: 0.6890\n",
      "Epoch 11/20\n",
      "63/63 [==============================] - 1s 21ms/step - loss: 0.8229 - accuracy: 0.7512 - val_loss: 1.4542 - val_accuracy: 0.6870\n",
      "Epoch 12/20\n",
      "63/63 [==============================] - 1s 20ms/step - loss: 0.7914 - accuracy: 0.7588 - val_loss: 1.4903 - val_accuracy: 0.6870\n",
      "Epoch 13/20\n",
      "63/63 [==============================] - 1s 20ms/step - loss: 0.7668 - accuracy: 0.7645 - val_loss: 1.5221 - val_accuracy: 0.6900\n",
      "Epoch 14/20\n",
      "63/63 [==============================] - 1s 23ms/step - loss: 0.7396 - accuracy: 0.7675 - val_loss: 1.5942 - val_accuracy: 0.6850\n",
      "Epoch 15/20\n",
      "63/63 [==============================] - 1s 17ms/step - loss: 0.7166 - accuracy: 0.7702 - val_loss: 1.6380 - val_accuracy: 0.6750\n",
      "Epoch 16/20\n",
      "63/63 [==============================] - 2s 24ms/step - loss: 0.6965 - accuracy: 0.7766 - val_loss: 1.6760 - val_accuracy: 0.6860\n",
      "Epoch 17/20\n",
      "63/63 [==============================] - 1s 19ms/step - loss: 0.6756 - accuracy: 0.7865 - val_loss: 1.7305 - val_accuracy: 0.6790\n",
      "Epoch 18/20\n",
      "63/63 [==============================] - 1s 23ms/step - loss: 0.6595 - accuracy: 0.7954 - val_loss: 1.7923 - val_accuracy: 0.6830\n",
      "Epoch 19/20\n",
      "63/63 [==============================] - 1s 20ms/step - loss: 0.6418 - accuracy: 0.8043 - val_loss: 1.8570 - val_accuracy: 0.6800\n",
      "Epoch 20/20\n",
      "63/63 [==============================] - 1s 22ms/step - loss: 0.6256 - accuracy: 0.8120 - val_loss: 1.9655 - val_accuracy: 0.6750\n"
     ]
    }
   ],
   "source": [
    "model = keras.Sequential([\n",
    "    layers.Dense(64, activation=\"relu\"),\n",
    "    layers.Dense(4, activation=\"relu\"),  # information bottlenack\n",
    "    layers.Dense(46, activation=\"softmax\")\n",
    "])\n",
    "model.compile(optimizer=\"rmsprop\",\n",
    "              loss=\"categorical_crossentropy\",\n",
    "              metrics=[\"accuracy\"])\n",
    "history = model.fit(partial_x_train,\n",
    "          partial_y_train,\n",
    "          epochs=20,\n",
    "          batch_size=128,\n",
    "          validation_data=(x_val, y_val))"
   ]
  },
  {
   "cell_type": "code",
   "execution_count": 44,
   "metadata": {},
   "outputs": [
    {
     "data": {
      "image/png": "[encoded data removed]",
      "text/plain": [
       "<Figure size 432x288 with 1 Axes>"
      ]
     },
     "metadata": {
      "needs_background": "light"
     },
     "output_type": "display_data"
    }
   ],
   "source": [
    "loss = history.history[\"loss\"]\n",
    "val_loss = history.history[\"val_loss\"]\n",
    "\n",
    "epochs = range(1, len(loss) + 1)\n",
    "plt.plot(epochs, loss, \"go\", label=\"Training loss\")\n",
    "plt.plot(epochs, val_loss, \"r\", label=\"Validation loss\")\n",
    "plt.title(\"Training and validation loss\")\n",
    "plt.xlabel(\"Epochs\")\n",
    "plt.ylabel(\"Loss\")\n",
    "plt.legend()\n",
    "plt.show()"
   ]
  },
  {
   "cell_type": "code",
   "execution_count": 45,
   "metadata": {},
   "outputs": [
    {
     "data": {
      "image/png": "[encoded data removed]",
      "text/plain": [
       "<Figure size 432x288 with 1 Axes>"
      ]
     },
     "metadata": {
      "needs_background": "light"
     },
     "output_type": "display_data"
    }
   ],
   "source": [
    "plt.clf()\n",
    "\n",
    "acc = history.history[\"accuracy\"]\n",
    "val_acc = history.history[\"val_accuracy\"]\n",
    "plt.plot(epochs, acc, \"go\", label=\"Training accuracy\")\n",
    "plt.plot(epochs, val_acc, \"r\", label=\"Validation accuracy\")\n",
    "plt.title(\"Training and validation accuracy\")\n",
    "plt.xlabel(\"Epochs\")\n",
    "plt.ylabel(\"Accuracy\")\n",
    "plt.legend()\n",
    "plt.show()"
   ]
  },
  {
   "cell_type": "markdown",
   "metadata": {
    "colab_type": "text"
   },
   "source": [
    "### Further experiments"
   ]
  },
  {
   "cell_type": "markdown",
   "metadata": {},
   "source": [
    "- Try using larger or smaller layers: 32 units, 128 units, and so on.\n",
    "- You used two intermediate layers before the final softmax classification layer. Now try using a single intermediate layer, or three intermediate layers."
   ]
  },
  {
   "cell_type": "markdown",
   "metadata": {
    "colab_type": "text"
   },
   "source": [
    "### Wrapping up"
   ]
  },
  {
   "cell_type": "markdown",
   "metadata": {},
   "source": [
    "Here’s what you should take away from this example:\n",
    "\n",
    "- If you’re trying to classify data points among $N$ classes, your model should end with a `Dense` layer of size $N$.\n",
    "- In a single-label, multiclass classification problem, your model should end with a `softmax` activation so that it will output a **probability distribution** over the $N$ output classes.\n",
    "- **Categorical crossentropy** is almost always the **loss function** you should use for such problems. It __minimizes the distance between the probability distributions__ output by the model and the true distribution of the targets.\n",
    "- There are two ways to handle labels in multiclass classification:\n",
    "   - Encoding the labels via **categorical encoding** (also known as **one-hot encoding**) and using `categorical_crossentropy` as a loss function\n",
    "   - Encoding the labels as **integers** and using the `sparse_categorical_crossentropy` loss function\n",
    "- If you need to classify data into a large number of categories, you should avoid creating **information bottlenecks** in your model due to intermediate layers that are too small."
   ]
  },
  {
   "cell_type": "markdown",
   "metadata": {
    "colab_type": "text"
   },
   "source": [
    "## Predicting house prices: a regression example"
   ]
  },
  {
   "cell_type": "markdown",
   "metadata": {},
   "source": [
    "The two previous examples were considered **classification problems**, where the goal was to predict a single discrete label of an input data point. Another common type of machine-learning problem is **regression**, which consists of predicting a continuous value instead of a discrete label: for instance, predicting the temperature tomorrow, given meteorological data; or predicting the time that a software project will take to complete, given its specifications."
   ]
  },
  {
   "cell_type": "markdown",
   "metadata": {
    "colab_type": "text"
   },
   "source": [
    "### The Boston Housing Price dataset"
   ]
  },
  {
   "cell_type": "markdown",
   "metadata": {},
   "source": [
    "You’ll attempt to **predict the median price of homes in a given Boston suburb** in the mid-1970s, given data points about the suburb at the time, such as the `crime rate`, the local `property tax rate`, and so on. The dataset you’ll use has an interesting difference from the two previous examples. It has relatively few data points: only $506$, split between $404$ training samples and $102$ test samples. And each feature in the input data (for example, the crime rate) has a different scale. For instance, some values are proportions, which take values between $0$ and $1$; others take values between $1$ and $12$, others between $0$ and $100$, and so on."
   ]
  },
  {
   "cell_type": "markdown",
   "metadata": {
    "colab_type": "text"
   },
   "source": [
    "**Loading the Boston housing dataset**"
   ]
  },
  {
   "cell_type": "code",
   "execution_count": 105,
   "metadata": {
    "colab_type": "code"
   },
   "outputs": [],
   "source": [
    "from tensorflow.keras.datasets import boston_housing\n",
    "(train_data, train_targets), (test_data, test_targets) = boston_housing.load_data()"
   ]
  },
  {
   "cell_type": "code",
   "execution_count": 106,
   "metadata": {},
   "outputs": [
    {
     "data": {
      "text/plain": [
       "{'data': array([[6.3200e-03, 1.8000e+01, 2.3100e+00, ..., 1.5300e+01, 3.9690e+02,\n",
       "         4.9800e+00],\n",
       "        [2.7310e-02, 0.0000e+00, 7.0700e+00, ..., 1.7800e+01, 3.9690e+02,\n",
       "         9.1400e+00],\n",
       "        [2.7290e-02, 0.0000e+00, 7.0700e+00, ..., 1.7800e+01, 3.9283e+02,\n",
       "         4.0300e+00],\n",
       "        ...,\n",
       "        [6.0760e-02, 0.0000e+00, 1.1930e+01, ..., 2.1000e+01, 3.9690e+02,\n",
       "         5.6400e+00],\n",
       "        [1.0959e-01, 0.0000e+00, 1.1930e+01, ..., 2.1000e+01, 3.9345e+02,\n",
       "         6.4800e+00],\n",
       "        [4.7410e-02, 0.0000e+00, 1.1930e+01, ..., 2.1000e+01, 3.9690e+02,\n",
       "         7.8800e+00]]),\n",
       " 'target': array([24. , 21.6, 34.7, 33.4, 36.2, 28.7, 22.9, 27.1, 16.5, 18.9, 15. ,\n",
       "        18.9, 21.7, 20.4, 18.2, 19.9, 23.1, 17.5, 20.2, 18.2, 13.6, 19.6,\n",
       "        15.2, 14.5, 15.6, 13.9, 16.6, 14.8, 18.4, 21. , 12.7, 14.5, 13.2,\n",
       "        13.1, 13.5, 18.9, 20. , 21. , 24.7, 30.8, 34.9, 26.6, 25.3, 24.7,\n",
       "        21.2, 19.3, 20. , 16.6, 14.4, 19.4, 19.7, 20.5, 25. , 23.4, 18.9,\n",
       "        35.4, 24.7, 31.6, 23.3, 19.6, 18.7, 16. , 22.2, 25. , 33. , 23.5,\n",
       "        19.4, 22. , 17.4, 20.9, 24.2, 21.7, 22.8, 23.4, 24.1, 21.4, 20. ,\n",
       "        20.8, 21.2, 20.3, 28. , 23.9, 24.8, 22.9, 23.9, 26.6, 22.5, 22.2,\n",
       "        23.6, 28.7, 22.6, 22. , 22.9, 25. , 20.6, 28.4, 21.4, 38.7, 43.8,\n",
       "        33.2, 27.5, 26.5, 18.6, 19.3, 20.1, 19.5, 19.5, 20.4, 19.8, 19.4,\n",
       "        21.7, 22.8, 18.8, 18.7, 18.5, 18.3, 21.2, 19.2, 20.4, 19.3, 22. ,\n",
       "        20.3, 20.5, 17.3, 18.8, 21.4, 15.7, 16.2, 18. , 14.3, 19.2, 19.6,\n",
       "        23. , 18.4, 15.6, 18.1, 17.4, 17.1, 13.3, 17.8, 14. , 14.4, 13.4,\n",
       "        15.6, 11.8, 13.8, 15.6, 14.6, 17.8, 15.4, 21.5, 19.6, 15.3, 19.4,\n",
       "        17. , 15.6, 13.1, 41.3, 24.3, 23.3, 27. , 50. , 50. , 50. , 22.7,\n",
       "        25. , 50. , 23.8, 23.8, 22.3, 17.4, 19.1, 23.1, 23.6, 22.6, 29.4,\n",
       "        23.2, 24.6, 29.9, 37.2, 39.8, 36.2, 37.9, 32.5, 26.4, 29.6, 50. ,\n",
       "        32. , 29.8, 34.9, 37. , 30.5, 36.4, 31.1, 29.1, 50. , 33.3, 30.3,\n",
       "        34.6, 34.9, 32.9, 24.1, 42.3, 48.5, 50. , 22.6, 24.4, 22.5, 24.4,\n",
       "        20. , 21.7, 19.3, 22.4, 28.1, 23.7, 25. , 23.3, 28.7, 21.5, 23. ,\n",
       "        26.7, 21.7, 27.5, 30.1, 44.8, 50. , 37.6, 31.6, 46.7, 31.5, 24.3,\n",
       "        31.7, 41.7, 48.3, 29. , 24. , 25.1, 31.5, 23.7, 23.3, 22. , 20.1,\n",
       "        22.2, 23.7, 17.6, 18.5, 24.3, 20.5, 24.5, 26.2, 24.4, 24.8, 29.6,\n",
       "        42.8, 21.9, 20.9, 44. , 50. , 36. , 30.1, 33.8, 43.1, 48.8, 31. ,\n",
       "        36.5, 22.8, 30.7, 50. , 43.5, 20.7, 21.1, 25.2, 24.4, 35.2, 32.4,\n",
       "        32. , 33.2, 33.1, 29.1, 35.1, 45.4, 35.4, 46. , 50. , 32.2, 22. ,\n",
       "        20.1, 23.2, 22.3, 24.8, 28.5, 37.3, 27.9, 23.9, 21.7, 28.6, 27.1,\n",
       "        20.3, 22.5, 29. , 24.8, 22. , 26.4, 33.1, 36.1, 28.4, 33.4, 28.2,\n",
       "        22.8, 20.3, 16.1, 22.1, 19.4, 21.6, 23.8, 16.2, 17.8, 19.8, 23.1,\n",
       "        21. , 23.8, 23.1, 20.4, 18.5, 25. , 24.6, 23. , 22.2, 19.3, 22.6,\n",
       "        19.8, 17.1, 19.4, 22.2, 20.7, 21.1, 19.5, 18.5, 20.6, 19. , 18.7,\n",
       "        32.7, 16.5, 23.9, 31.2, 17.5, 17.2, 23.1, 24.5, 26.6, 22.9, 24.1,\n",
       "        18.6, 30.1, 18.2, 20.6, 17.8, 21.7, 22.7, 22.6, 25. , 19.9, 20.8,\n",
       "        16.8, 21.9, 27.5, 21.9, 23.1, 50. , 50. , 50. , 50. , 50. , 13.8,\n",
       "        13.8, 15. , 13.9, 13.3, 13.1, 10.2, 10.4, 10.9, 11.3, 12.3,  8.8,\n",
       "         7.2, 10.5,  7.4, 10.2, 11.5, 15.1, 23.2,  9.7, 13.8, 12.7, 13.1,\n",
       "        12.5,  8.5,  5. ,  6.3,  5.6,  7.2, 12.1,  8.3,  8.5,  5. , 11.9,\n",
       "        27.9, 17.2, 27.5, 15. , 17.2, 17.9, 16.3,  7. ,  7.2,  7.5, 10.4,\n",
       "         8.8,  8.4, 16.7, 14.2, 20.8, 13.4, 11.7,  8.3, 10.2, 10.9, 11. ,\n",
       "         9.5, 14.5, 14.1, 16.1, 14.3, 11.7, 13.4,  9.6,  8.7,  8.4, 12.8,\n",
       "        10.5, 17.1, 18.4, 15.4, 10.8, 11.8, 14.9, 12.6, 14.1, 13. , 13.4,\n",
       "        15.2, 16.1, 17.8, 14.9, 14.1, 12.7, 13.5, 14.9, 20. , 16.4, 17.7,\n",
       "        19.5, 20.2, 21.4, 19.9, 19. , 19.1, 19.1, 20.1, 19.9, 19.6, 23.2,\n",
       "        29.8, 13.8, 13.3, 16.7, 12. , 14.6, 21.4, 23. , 23.7, 25. , 21.8,\n",
       "        20.6, 21.2, 19.1, 20.6, 15.2,  7. ,  8.1, 13.6, 20.1, 21.8, 24.5,\n",
       "        23.1, 19.7, 18.3, 21.2, 17.5, 16.8, 22.4, 20.6, 23.9, 22. , 11.9]),\n",
       " 'feature_names': array(['CRIM', 'ZN', 'INDUS', 'CHAS', 'NOX', 'RM', 'AGE', 'DIS', 'RAD',\n",
       "        'TAX', 'PTRATIO', 'B', 'LSTAT'], dtype='<U7'),\n",
       " 'DESCR': \".. _boston_dataset:\\n\\nBoston house prices dataset\\n---------------------------\\n\\n**Data Set Characteristics:**  \\n\\n    :Number of Instances: 506 \\n\\n    :Number of Attributes: 13 numeric/categorical predictive. Median Value (attribute 14) is usually the target.\\n\\n    :Attribute Information (in order):\\n        - CRIM     per capita crime rate by town\\n        - ZN       proportion of residential land zoned for lots over 25,000 sq.ft.\\n        - INDUS    proportion of non-retail business acres per town\\n        - CHAS     Charles River dummy variable (= 1 if tract bounds river; 0 otherwise)\\n        - NOX      nitric oxides concentration (parts per 10 million)\\n        - RM       average number of rooms per dwelling\\n        - AGE      proportion of owner-occupied units built prior to 1940\\n        - DIS      weighted distances to five Boston employment centres\\n        - RAD      index of accessibility to radial highways\\n        - TAX      full-value property-tax rate per $10,000\\n        - PTRATIO  pupil-teacher ratio by town\\n        - B        1000(Bk - 0.63)^2 where Bk is the proportion of black people by town\\n        - LSTAT    % lower status of the population\\n        - MEDV     Median value of owner-occupied homes in $1000's\\n\\n    :Missing Attribute Values: None\\n\\n    :Creator: Harrison, D. and Rubinfeld, D.L.\\n\\nThis is a copy of UCI ML housing dataset.\\nhttps://archive.ics.uci.edu/ml/machine-learning-databases/housing/\\n\\n\\nThis dataset was taken from the StatLib library which is maintained at Carnegie Mellon University.\\n\\nThe Boston house-price data of Harrison, D. and Rubinfeld, D.L. 'Hedonic\\nprices and the demand for clean air', J. Environ. Economics & Management,\\nvol.5, 81-102, 1978.   Used in Belsley, Kuh & Welsch, 'Regression diagnostics\\n...', Wiley, 1980.   N.B. Various transformations are used in the table on\\npages 244-261 of the latter.\\n\\nThe Boston house-price data has been used in many machine learning papers that address regression\\nproblems.   \\n     \\n.. topic:: References\\n\\n   - Belsley, Kuh & Welsch, 'Regression diagnostics: Identifying Influential Data and Sources of Collinearity', Wiley, 1980. 244-261.\\n   - Quinlan,R. (1993). Combining Instance-Based and Model-Based Learning. In Proceedings on the Tenth International Conference of Machine Learning, 236-243, University of Massachusetts, Amherst. Morgan Kaufmann.\\n\",\n",
       " 'filename': 'C:\\\\tools\\\\miniconda3\\\\envs\\\\dl\\\\lib\\\\site-packages\\\\sklearn\\\\datasets\\\\data\\\\boston_house_prices.csv'}"
      ]
     },
     "execution_count": 106,
     "metadata": {},
     "output_type": "execute_result"
    }
   ],
   "source": [
    "from sklearn.datasets import load_boston\n",
    "\n",
    "load_boston()"
   ]
  },
  {
   "cell_type": "code",
   "execution_count": 107,
   "metadata": {
    "colab_type": "code"
   },
   "outputs": [
    {
     "data": {
      "text/plain": [
       "(404, 13)"
      ]
     },
     "execution_count": 107,
     "metadata": {},
     "output_type": "execute_result"
    }
   ],
   "source": [
    "train_data.shape"
   ]
  },
  {
   "cell_type": "code",
   "execution_count": 108,
   "metadata": {
    "colab_type": "code"
   },
   "outputs": [
    {
     "data": {
      "text/plain": [
       "(102, 13)"
      ]
     },
     "execution_count": 108,
     "metadata": {},
     "output_type": "execute_result"
    }
   ],
   "source": [
    "test_data.shape"
   ]
  },
  {
   "cell_type": "code",
   "execution_count": 109,
   "metadata": {
    "colab_type": "code"
   },
   "outputs": [
    {
     "data": {
      "text/plain": [
       "array([15.2, 42.3, 50. , 21.1, 17.7, 18.5, 11.3, 15.6, 15.6, 14.4, 12.1,\n",
       "       17.9, 23.1, 19.9, 15.7,  8.8, 50. , 22.5, 24.1, 27.5, 10.9, 30.8,\n",
       "       32.9, 24. , 18.5, 13.3, 22.9, 34.7, 16.6, 17.5, 22.3, 16.1, 14.9,\n",
       "       23.1, 34.9, 25. , 13.9, 13.1, 20.4, 20. , 15.2, 24.7, 22.2, 16.7,\n",
       "       12.7, 15.6, 18.4, 21. , 30.1, 15.1, 18.7,  9.6, 31.5, 24.8, 19.1,\n",
       "       22. , 14.5, 11. , 32. , 29.4, 20.3, 24.4, 14.6, 19.5, 14.1, 14.3,\n",
       "       15.6, 10.5,  6.3, 19.3, 19.3, 13.4, 36.4, 17.8, 13.5, 16.5,  8.3,\n",
       "       14.3, 16. , 13.4, 28.6, 43.5, 20.2, 22. , 23. , 20.7, 12.5, 48.5,\n",
       "       14.6, 13.4, 23.7, 50. , 21.7, 39.8, 38.7, 22.2, 34.9, 22.5, 31.1,\n",
       "       28.7, 46. , 41.7, 21. , 26.6, 15. , 24.4, 13.3, 21.2, 11.7, 21.7,\n",
       "       19.4, 50. , 22.8, 19.7, 24.7, 36.2, 14.2, 18.9, 18.3, 20.6, 24.6,\n",
       "       18.2,  8.7, 44. , 10.4, 13.2, 21.2, 37. , 30.7, 22.9, 20. , 19.3,\n",
       "       31.7, 32. , 23.1, 18.8, 10.9, 50. , 19.6,  5. , 14.4, 19.8, 13.8,\n",
       "       19.6, 23.9, 24.5, 25. , 19.9, 17.2, 24.6, 13.5, 26.6, 21.4, 11.9,\n",
       "       22.6, 19.6,  8.5, 23.7, 23.1, 22.4, 20.5, 23.6, 18.4, 35.2, 23.1,\n",
       "       27.9, 20.6, 23.7, 28. , 13.6, 27.1, 23.6, 20.6, 18.2, 21.7, 17.1,\n",
       "        8.4, 25.3, 13.8, 22.2, 18.4, 20.7, 31.6, 30.5, 20.3,  8.8, 19.2,\n",
       "       19.4, 23.1, 23. , 14.8, 48.8, 22.6, 33.4, 21.1, 13.6, 32.2, 13.1,\n",
       "       23.4, 18.9, 23.9, 11.8, 23.3, 22.8, 19.6, 16.7, 13.4, 22.2, 20.4,\n",
       "       21.8, 26.4, 14.9, 24.1, 23.8, 12.3, 29.1, 21. , 19.5, 23.3, 23.8,\n",
       "       17.8, 11.5, 21.7, 19.9, 25. , 33.4, 28.5, 21.4, 24.3, 27.5, 33.1,\n",
       "       16.2, 23.3, 48.3, 22.9, 22.8, 13.1, 12.7, 22.6, 15. , 15.3, 10.5,\n",
       "       24. , 18.5, 21.7, 19.5, 33.2, 23.2,  5. , 19.1, 12.7, 22.3, 10.2,\n",
       "       13.9, 16.3, 17. , 20.1, 29.9, 17.2, 37.3, 45.4, 17.8, 23.2, 29. ,\n",
       "       22. , 18. , 17.4, 34.6, 20.1, 25. , 15.6, 24.8, 28.2, 21.2, 21.4,\n",
       "       23.8, 31. , 26.2, 17.4, 37.9, 17.5, 20. ,  8.3, 23.9,  8.4, 13.8,\n",
       "        7.2, 11.7, 17.1, 21.6, 50. , 16.1, 20.4, 20.6, 21.4, 20.6, 36.5,\n",
       "        8.5, 24.8, 10.8, 21.9, 17.3, 18.9, 36.2, 14.9, 18.2, 33.3, 21.8,\n",
       "       19.7, 31.6, 24.8, 19.4, 22.8,  7.5, 44.8, 16.8, 18.7, 50. , 50. ,\n",
       "       19.5, 20.1, 50. , 17.2, 20.8, 19.3, 41.3, 20.4, 20.5, 13.8, 16.5,\n",
       "       23.9, 20.6, 31.5, 23.3, 16.8, 14. , 33.8, 36.1, 12.8, 18.3, 18.7,\n",
       "       19.1, 29. , 30.1, 50. , 50. , 22. , 11.9, 37.6, 50. , 22.7, 20.8,\n",
       "       23.5, 27.9, 50. , 19.3, 23.9, 22.6, 15.2, 21.7, 19.2, 43.8, 20.3,\n",
       "       33.2, 19.9, 22.5, 32.7, 22. , 17.1, 19. , 15. , 16.1, 25.1, 23.7,\n",
       "       28.7, 37.2, 22.6, 16.4, 25. , 29.8, 22.1, 17.4, 18.1, 30.3, 17.5,\n",
       "       24.7, 12.6, 26.5, 28.7, 13.3, 10.4, 24.4, 23. , 20. , 17.8,  7. ,\n",
       "       11.8, 24.4, 13.8, 19.4, 25.2, 19.4, 19.4, 29.1])"
      ]
     },
     "execution_count": 109,
     "metadata": {},
     "output_type": "execute_result"
    }
   ],
   "source": [
    "train_targets"
   ]
  },
  {
   "cell_type": "code",
   "execution_count": 110,
   "metadata": {},
   "outputs": [
    {
     "data": {
      "text/plain": [
       "(array([ 15.,  48.,  72., 120.,  64.,  31.,  21.,   8.,   8.,  17.]),\n",
       " array([ 5. ,  9.5, 14. , 18.5, 23. , 27.5, 32. , 36.5, 41. , 45.5, 50. ]),\n",
       " <BarContainer object of 10 artists>)"
      ]
     },
     "execution_count": 110,
     "metadata": {},
     "output_type": "execute_result"
    },
    {
     "data": {
      "image/png": "[encoded data removed]",
      "text/plain": [
       "<Figure size 432x288 with 1 Axes>"
      ]
     },
     "metadata": {
      "needs_background": "light"
     },
     "output_type": "display_data"
    }
   ],
   "source": [
    "plt.hist(train_targets)"
   ]
  },
  {
   "cell_type": "markdown",
   "metadata": {},
   "source": [
    "The prices are typically between $\\$10,000$ and $\\$50,000$. If that sounds cheap, remember that this was the mid-1970s, and these prices aren’t adjusted for inflation."
   ]
  },
  {
   "cell_type": "markdown",
   "metadata": {
    "colab_type": "text"
   },
   "source": [
    "### Preparing the data"
   ]
  },
  {
   "cell_type": "markdown",
   "metadata": {
    "colab_type": "text"
   },
   "source": [
    "**Normalizing the data**"
   ]
  },
  {
   "cell_type": "markdown",
   "metadata": {},
   "source": [
    "It would be problematic to feed into a neural network values that all take wildly different ranges. The model might be able to automatically adapt to such heterogeneous data, but it would definitely make learning more difficult. A widespread best practice to deal with such data is to do **feature-wise normalization**"
   ]
  },
  {
   "cell_type": "markdown",
   "metadata": {},
   "source": [
    "Note that the quantities used for normalizing the test data are computed using the **training data**. You should never use in your workflow any quantity computed on the test data, even for something as simple as data normalization."
   ]
  },
  {
   "cell_type": "code",
   "execution_count": 111,
   "metadata": {
    "colab_type": "code"
   },
   "outputs": [],
   "source": [
    "mean = train_data.mean(axis=0)\n",
    "train_data -= mean\n",
    "std = train_data.std(axis=0)\n",
    "train_data /= std\n",
    "test_data -= mean\n",
    "test_data /= std"
   ]
  },
  {
   "cell_type": "markdown",
   "metadata": {
    "colab_type": "text"
   },
   "source": [
    "### Building your model"
   ]
  },
  {
   "cell_type": "markdown",
   "metadata": {},
   "source": [
    "Because so few samples are available, you’ll use a very small model with two intermediate layers, each with $64$ units. In general, the less training data you have, the worse overfitting will be, and using a small model is one way to mitigate overfitting."
   ]
  },
  {
   "cell_type": "markdown",
   "metadata": {
    "colab_type": "text"
   },
   "source": [
    "**Model definition**"
   ]
  },
  {
   "cell_type": "markdown",
   "metadata": {},
   "source": [
    "The model ends with a **single unit and no activation** (it will be a linear layer). This is a typical setup for **scalar regression** (a regression where you’re trying to predict a single continuous value). Applying an activation function would constrain the range the output can take; for instance, if you applied a `sigmoid` activation function to the last layer, the model could only learn to predict values between 0 and 1. Here, because the last layer is purely linear, the model is free to learn to predict values in any range.\n",
    "\n",
    "Note that you compile the model with the `mse` loss function — mean squared error, the square of the difference between the predictions and the targets. This is a widely used loss function for regression problems.\n",
    "\n",
    "You’re also monitoring a new metric during training: **mean absolute error** (MAE). It’s the absolute value of the difference between the predictions and the targets. For instance, an MAE of 0.5 on this problem would mean your predictions are off by $500 on average.\n"
   ]
  },
  {
   "cell_type": "code",
   "execution_count": 62,
   "metadata": {
    "colab_type": "code"
   },
   "outputs": [],
   "source": [
    "def build_model():\n",
    "    model = keras.Sequential([\n",
    "        layers.Dense(64, activation=\"relu\"),\n",
    "        layers.Dense(64, activation=\"relu\"),\n",
    "        layers.Dense(1)\n",
    "    ])\n",
    "    model.compile(optimizer=\"rmsprop\", loss=\"mse\", metrics=[\"mae\"])\n",
    "    return model"
   ]
  },
  {
   "cell_type": "markdown",
   "metadata": {
    "colab_type": "text"
   },
   "source": [
    "### Validating your approach using K-fold validation"
   ]
  },
  {
   "cell_type": "markdown",
   "metadata": {},
   "source": [
    "To evaluate your model while you keep adjusting its parameters (such as the number of epochs used for training), you could split the data into a training set and a validation set, as you did in the previous examples. But because you have so few data points, the validation set would end up being very small (for instance, about 100 examples). As a consequence, the validation scores might change a lot depending on which data points you chose to use for validation and which you chose for training: the validation scores might have a high variance with regard to the validation split. This would prevent you from reliably evaluating your model.\n",
    "\n",
    "The best practice in such situations is to use **K-fold cross-validation** (see figure 4.8). It consists of splitting the available data into $K$ partitions (typically K = 4 or 5), instantiating $K$ identical models, and training each one on $K – 1$ partitions while evaluating on the remaining partition. The validation score for the model used is then the average of the $K$ validation scores obtained. In terms of code, this is straightforward.\n",
    "\n",
    "![](https://drek4537l1klr.cloudfront.net/chollet2/v-7/Figures/3-fold-cross-validation.png)"
   ]
  },
  {
   "cell_type": "markdown",
   "metadata": {
    "colab_type": "text"
   },
   "source": [
    "**K-fold validation**"
   ]
  },
  {
   "cell_type": "code",
   "execution_count": 112,
   "metadata": {
    "colab_type": "code"
   },
   "outputs": [
    {
     "name": "stdout",
     "output_type": "stream",
     "text": [
      "Processing fold #0\n",
      "Processing fold #1\n",
      "Processing fold #2\n",
      "Processing fold #3\n"
     ]
    }
   ],
   "source": [
    "k = 4\n",
    "num_val_samples = len(train_data) // k\n",
    "num_epochs = 100\n",
    "all_scores = []\n",
    "for i in range(k):\n",
    "    print(f\"Processing fold #{i}\")\n",
    "    val_data = train_data[i * num_val_samples: (i + 1) * num_val_samples]\n",
    "    val_targets = train_targets[i * num_val_samples: (i + 1) * num_val_samples]\n",
    "    partial_train_data = np.concatenate(\n",
    "        [train_data[:i * num_val_samples],\n",
    "         train_data[(i + 1) * num_val_samples:]],\n",
    "        axis=0)\n",
    "    partial_train_targets = np.concatenate(\n",
    "        [train_targets[:i * num_val_samples],\n",
    "         train_targets[(i + 1) * num_val_samples:]],\n",
    "        axis=0)\n",
    "    model = build_model()\n",
    "    model.fit(partial_train_data, partial_train_targets,\n",
    "              epochs=num_epochs, batch_size=16, verbose=0)\n",
    "    val_mse, val_mae = model.evaluate(val_data, val_targets, verbose=0)\n",
    "    all_scores.append(val_mae)"
   ]
  },
  {
   "cell_type": "code",
   "execution_count": 115,
   "metadata": {
    "scrolled": true
   },
   "outputs": [],
   "source": [
    "from sklearn.model_selection import KFold\n",
    "\n",
    "kf = KFold(n_splits=k)\n",
    "all_scores = []\n",
    "for train_index, val_index in kf.split(train_data, train_targets):\n",
    "    val_data, val_targets = train_data[val_index], train_targets[val_index]\n",
    "    partial_train_data, partial_train_targets = train_data[train_index], train_targets[train_index]\n",
    "    \n",
    "    model = build_model()\n",
    "    model.fit(partial_train_data, partial_train_targets,\n",
    "              epochs=num_epochs, batch_size=16, verbose=0)\n",
    "    val_mse, val_mae = model.evaluate(val_data, val_targets, verbose=0)\n",
    "    all_scores.append(val_mae)   \n",
    "    \n",
    "    "
   ]
  },
  {
   "cell_type": "code",
   "execution_count": 116,
   "metadata": {
    "colab_type": "code"
   },
   "outputs": [
    {
     "data": {
      "text/plain": [
       "[2.066729784011841, 2.31536602973938, 2.6480789184570312, 2.422050952911377]"
      ]
     },
     "execution_count": 116,
     "metadata": {},
     "output_type": "execute_result"
    }
   ],
   "source": [
    "all_scores"
   ]
  },
  {
   "cell_type": "code",
   "execution_count": 117,
   "metadata": {
    "colab_type": "code"
   },
   "outputs": [
    {
     "data": {
      "text/plain": [
       "2.3630564212799072"
      ]
     },
     "execution_count": 117,
     "metadata": {},
     "output_type": "execute_result"
    }
   ],
   "source": [
    "np.mean(all_scores)"
   ]
  },
  {
   "cell_type": "markdown",
   "metadata": {
    "colab_type": "text"
   },
   "source": [
    "**Saving the validation logs at each fold**"
   ]
  },
  {
   "cell_type": "code",
   "execution_count": 118,
   "metadata": {
    "colab_type": "code"
   },
   "outputs": [],
   "source": [
    "num_epochs = 500\n",
    "\n",
    "all_mae_histories = []\n",
    "for train_index, val_index in kf.split(train_data):\n",
    "    val_data, val_targets = train_data[val_index], train_targets[val_index]\n",
    "    partial_train_data, partial_train_targets = train_data[train_index], train_targets[train_index]\n",
    "    \n",
    "    model = build_model()\n",
    "    history = model.fit(partial_train_data, partial_train_targets,\n",
    "                        validation_data=(val_data, val_targets),\n",
    "                        epochs=num_epochs, batch_size=16, verbose=0)\n",
    "    mae_history = history.history[\"val_mae\"]\n",
    "    all_mae_histories.append(mae_history)"
   ]
  },
  {
   "cell_type": "markdown",
   "metadata": {
    "colab_type": "text"
   },
   "source": [
    "**Building the history of successive mean K-fold validation scores**"
   ]
  },
  {
   "cell_type": "code",
   "execution_count": 119,
   "metadata": {
    "colab_type": "code"
   },
   "outputs": [],
   "source": [
    "average_mae_history = [\n",
    "    np.mean([x[i] for x in all_mae_histories]) for i in range(num_epochs)]"
   ]
  },
  {
   "cell_type": "markdown",
   "metadata": {
    "colab_type": "text"
   },
   "source": [
    "**Plotting validation scores**"
   ]
  },
  {
   "cell_type": "code",
   "execution_count": 120,
   "metadata": {
    "colab_type": "code"
   },
   "outputs": [
    {
     "data": {
      "image/png": "[encoded data removed]",
      "text/plain": [
       "<Figure size 432x288 with 1 Axes>"
      ]
     },
     "metadata": {
      "needs_background": "light"
     },
     "output_type": "display_data"
    }
   ],
   "source": [
    "plt.plot(average_mae_history)\n",
    "plt.xlabel(\"Epochs\")\n",
    "plt.ylabel(\"Validation MAE\")\n",
    "plt.show()"
   ]
  },
  {
   "cell_type": "markdown",
   "metadata": {
    "colab_type": "text"
   },
   "source": [
    "**Plotting validation scores, excluding the first 10 data points**"
   ]
  },
  {
   "cell_type": "code",
   "execution_count": 121,
   "metadata": {
    "colab_type": "code"
   },
   "outputs": [
    {
     "data": {
      "image/png": "[encoded data removed]",
      "text/plain": [
       "<Figure size 432x288 with 1 Axes>"
      ]
     },
     "metadata": {
      "needs_background": "light"
     },
     "output_type": "display_data"
    }
   ],
   "source": [
    "truncated_mae_history = average_mae_history[10:]\n",
    "plt.plot(truncated_mae_history)\n",
    "plt.xlabel(\"Epochs\")\n",
    "plt.ylabel(\"Validation MAE\")\n",
    "plt.show()"
   ]
  },
  {
   "cell_type": "markdown",
   "metadata": {
    "colab_type": "text"
   },
   "source": [
    "**Training the final model**"
   ]
  },
  {
   "cell_type": "markdown",
   "metadata": {},
   "source": [
    "Once you’re finished tuning other parameters of the model (in addition to the number of epochs, you could also adjust the size of the intermediate layers), you can train a final production model on all of the training data, with the best parameters, and then look at its performance on the test data."
   ]
  },
  {
   "cell_type": "code",
   "execution_count": 122,
   "metadata": {
    "colab_type": "code"
   },
   "outputs": [
    {
     "name": "stdout",
     "output_type": "stream",
     "text": [
      "4/4 [==============================] - 0s 1ms/step - loss: 14.7815 - mae: 2.5467\n"
     ]
    }
   ],
   "source": [
    "model = build_model()\n",
    "model.fit(train_data, train_targets,\n",
    "          epochs=130, batch_size=16, verbose=0)\n",
    "test_mse_score, test_mae_score = model.evaluate(test_data, test_targets)"
   ]
  },
  {
   "cell_type": "code",
   "execution_count": 123,
   "metadata": {
    "colab_type": "code"
   },
   "outputs": [
    {
     "data": {
      "text/plain": [
       "2.5467073917388916"
      ]
     },
     "execution_count": 123,
     "metadata": {},
     "output_type": "execute_result"
    }
   ],
   "source": [
    "test_mae_score"
   ]
  },
  {
   "cell_type": "markdown",
   "metadata": {},
   "source": [
    "You’re still off by about $\\$2,500$."
   ]
  },
  {
   "cell_type": "markdown",
   "metadata": {
    "colab_type": "text"
   },
   "source": [
    "### Generating predictions on new data"
   ]
  },
  {
   "cell_type": "code",
   "execution_count": 124,
   "metadata": {
    "colab_type": "code"
   },
   "outputs": [
    {
     "data": {
      "text/plain": [
       "array([8.31038], dtype=float32)"
      ]
     },
     "execution_count": 124,
     "metadata": {},
     "output_type": "execute_result"
    }
   ],
   "source": [
    "predictions = model.predict(test_data)\n",
    "predictions[0]"
   ]
  },
  {
   "cell_type": "markdown",
   "metadata": {
    "colab_type": "text"
   },
   "source": [
    "### Wrapping up"
   ]
  },
  {
   "cell_type": "markdown",
   "metadata": {},
   "source": [
    "Here’s what you should take away from this scalar regression example:\n",
    "\n",
    "- Regression is done using different loss functions than what we used for classification. **Mean squared error** (MSE) is a loss function commonly used for regression.\n",
    "- Similarly, evaluation metrics to be used for regression differ from those used for classification; naturally, the concept of accuracy doesn’t apply for regression. A common regression metric is **mean absolute error** (MAE).\n",
    "- When features in the input data have values in different ranges, each feature should be **scaled independently** as a preprocessing step.\n",
    "- When there is little data available, using **K-fold cross-validation** is a great way to reliably evaluate a model.\n",
    "- When little training data is available, it’s preferable to use a small model with **few intermediate layers** (typically only one or two), in order to avoid severe overfitting.\n"
   ]
  },
  {
   "cell_type": "markdown",
   "metadata": {
    "colab_type": "text"
   },
   "source": [
    "## Chapter summary"
   ]
  },
  {
   "cell_type": "markdown",
   "metadata": {},
   "source": [
    "- The three most common kinds of machine-learning tasks on vector data are **binary classification, multiclass classification, and scalar regression**.\n",
    "- You’ll usually need to preprocess raw data before feeding it into a neural network.\n",
    "- When your data has features with different ranges, scale each feature independently as part of preprocessing.\n",
    "- As training progresses, neural networks eventually begin to overfit and obtain worse results on never-before-seen data.\n",
    "- If you don’t have much training data, use a small model with only one or two intermediate layers, to avoid severe overfitting.\n",
    "- If your data is divided into many categories, you may cause information bottlenecks if you make the intermediate layers too small.\n",
    "- When you’re working with little data, K-fold validation can help reliably evaluate your model"
   ]
  },
  {
   "cell_type": "code",
   "execution_count": null,
   "metadata": {},
   "outputs": [],
   "source": []
  }
 ],
 "metadata": {
  "colab": {
   "collapsed_sections": [],
   "name": "chapter04_getting-started-with-neural-networks.i",
   "private_outputs": false,
   "provenance": [],
   "toc_visible": true
  },
  "kernelspec": {
   "display_name": "Python 3.8 (dl)",
   "language": "python",
   "name": "dl"
  },
  "language_info": {
   "codemirror_mode": {
    "name": "ipython",
    "version": 3
   },
   "file_extension": ".py",
   "mimetype": "text/x-python",
   "name": "python",
   "nbconvert_exporter": "python",
   "pygments_lexer": "ipython3",
   "version": "3.8.10"
  }
 },
 "nbformat": 4,
 "nbformat_minor": 1
}
