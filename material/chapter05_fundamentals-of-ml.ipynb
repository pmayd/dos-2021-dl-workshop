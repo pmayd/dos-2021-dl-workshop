{
 "cells": [
  {
   "cell_type": "markdown",
   "metadata": {
    "colab_type": "text"
   },
   "source": [
    "This is a companion notebook for the book [Deep Learning with Python, Second Edition](https://www.manning.com/books/deep-learning-with-python-second-edition?a_aid=keras&a_bid=76564dff). For readability, it only contains runnable code blocks and section titles, and omits everything else in the book: text paragraphs, figures, and pseudocode.\n",
    "\n",
    "**If you want to be able to follow what's going on, I recommend reading the notebook side by side with your copy of the book.**\n",
    "\n",
    "This notebook was generated for TensorFlow 2.6."
   ]
  },
  {
   "cell_type": "markdown",
   "metadata": {
    "colab_type": "text"
   },
   "source": [
    "# Fundamentals of machine learning"
   ]
  },
  {
   "cell_type": "markdown",
   "metadata": {
    "colab_type": "text"
   },
   "source": [
    "## Generalization: the goal of machine learning"
   ]
  },
  {
   "cell_type": "markdown",
   "metadata": {},
   "source": [
    "The fundamental issue in machine learning is the tension between optimization and generalization. **Optimization** refers to the process of adjusting a model to get the best performance possible on the training data (the learning in machine learning), whereas **generalization** refers to how well the trained model performs on data it has never seen before. The goal of the game is to get good generalization, of course, but you don’t control generalization; you can only fit the model to its training data. If you do that too well, overfitting kicks in and generalization suffers."
   ]
  },
  {
   "cell_type": "markdown",
   "metadata": {
    "colab_type": "text"
   },
   "source": [
    "### Underfitting and overfitting"
   ]
  },
  {
   "cell_type": "markdown",
   "metadata": {},
   "source": [
    "![](https://drek4537l1klr.cloudfront.net/chollet2/v-7/Figures/typical_overfitting.png)"
   ]
  },
  {
   "cell_type": "markdown",
   "metadata": {},
   "source": [
    "At the beginning of training, optimization and generalization are **correlated**: the lower the loss on training data, the lower the loss on test data. While this is happening, your model is said to be **underfit**: there is still progress to be made; the network hasn’t yet modeled all relevant patterns in the training data. But after a certain number of iterations on the training data, **generalization stops improving**, validation metrics stall and then begin to degrade: the model is starting to **overfit**. That is, it’s beginning to learn patterns that are specific to the training data but that are misleading or irrelevant when it comes to new data."
   ]
  },
  {
   "cell_type": "markdown",
   "metadata": {},
   "source": [
    "Overfitting is particularly likely to occur when your **data is noisy, if it involves uncertainty, or if it includes rare features. Let’s look at concrete examples**."
   ]
  },
  {
   "cell_type": "markdown",
   "metadata": {
    "colab_type": "text"
   },
   "source": [
    "#### Noisy training data"
   ]
  },
  {
   "cell_type": "markdown",
   "metadata": {},
   "source": [
    "![](https://drek4537l1klr.cloudfront.net/chollet2/v-7/Figures/fucked_up_mnist.png)\n",
    "\n",
    "![](https://drek4537l1klr.cloudfront.net/chollet2/v-7/Figures/mislabeled_mnist.png)"
   ]
  },
  {
   "cell_type": "markdown",
   "metadata": {},
   "source": [
    "If a model goes out of its way to incorporate such **outliers**, its generalization performance will degrade. For instance, a 4 that looks very close to the mislabeled 4 above may end up getting classified as a 9.\n",
    "\n",
    "![](https://drek4537l1klr.cloudfront.net/chollet2/v-7/Figures/outliers_and_overfitting.png)"
   ]
  },
  {
   "cell_type": "markdown",
   "metadata": {
    "colab_type": "text"
   },
   "source": [
    "#### Ambiguous features"
   ]
  },
  {
   "cell_type": "markdown",
   "metadata": {},
   "source": [
    "![](https://drek4537l1klr.cloudfront.net/chollet2/v-7/Figures/overfitting_with_uncertainty.png)"
   ]
  },
  {
   "cell_type": "markdown",
   "metadata": {
    "colab_type": "text"
   },
   "source": [
    "#### Rare features and spurious correlations"
   ]
  },
  {
   "cell_type": "markdown",
   "metadata": {},
   "source": [
    "Likewise, machine learning models trained on datasets that include **rare feature values are highly susceptible to overfitting**. In a sentiment classification task, if the word \"cherimoya\" (a fruit native to the Andes) only appears in one text in the training data, and this text happens to be negative in sentiment, a poorly-regularized model might put a very high weight on this word and always classify new texts that mention cherimoyas as negative. Whereas, objectively, there’s nothing negative about the cherimoya. [9]"
   ]
  },
  {
   "cell_type": "markdown",
   "metadata": {
    "colab_type": "text"
   },
   "source": [
    "**Adding white-noise channels or all-zeros channels to MNIST**"
   ]
  },
  {
   "cell_type": "code",
   "execution_count": 1,
   "metadata": {
    "colab_type": "code"
   },
   "outputs": [],
   "source": [
    "from tensorflow.keras.datasets import mnist\n",
    "import numpy as np\n",
    "\n",
    "(train_images, train_labels), _ = mnist.load_data()\n",
    "train_images = train_images.reshape((60000, 28 * 28))\n",
    "train_images = train_images.astype(\"float32\") / 255\n",
    "\n",
    "train_images_with_noise_channels = np.concatenate(\n",
    "    [train_images, np.random.random((len(train_images), 784))], axis=1)\n",
    "\n",
    "train_images_with_zeros_channels = np.concatenate(\n",
    "    [train_images, np.zeros((len(train_images), 784))], axis=1)"
   ]
  },
  {
   "cell_type": "code",
   "execution_count": 12,
   "metadata": {},
   "outputs": [
    {
     "data": {
      "text/plain": [
       "<matplotlib.image.AxesImage at 0x21eac3a4040>"
      ]
     },
     "execution_count": 12,
     "metadata": {},
     "output_type": "execute_result"
    },
    {
     "data": {
      "image/png": "[encoded data removed]",
      "text/plain": [
       "<Figure size 432x288 with 1 Axes>"
      ]
     },
     "metadata": {
      "needs_background": "light"
     },
     "output_type": "display_data"
    }
   ],
   "source": [
    "import matplotlib.pyplot as plt\n",
    "\n",
    "plt.figure()\n",
    "\n",
    "plt.imshow(np.random.random((1, 784)).reshape(28,28), cmap=\"binary\")"
   ]
  },
  {
   "cell_type": "markdown",
   "metadata": {
    "colab_type": "text"
   },
   "source": [
    "**Training the same model on MNIST data with noise channels or all-zero channels**"
   ]
  },
  {
   "cell_type": "code",
   "execution_count": 2,
   "metadata": {
    "colab_type": "code"
   },
   "outputs": [
    {
     "name": "stdout",
     "output_type": "stream",
     "text": [
      "Epoch 1/10\n",
      "375/375 [==============================] - 3s 6ms/step - loss: 0.6204 - accuracy: 0.8120 - val_loss: 0.2579 - val_accuracy: 0.9208\n",
      "Epoch 2/10\n",
      "375/375 [==============================] - 2s 5ms/step - loss: 0.2526 - accuracy: 0.9216 - val_loss: 0.2172 - val_accuracy: 0.9317\n",
      "Epoch 3/10\n",
      "375/375 [==============================] - 2s 5ms/step - loss: 0.1646 - accuracy: 0.9493 - val_loss: 0.1725 - val_accuracy: 0.9488\n",
      "Epoch 4/10\n",
      "375/375 [==============================] - 2s 5ms/step - loss: 0.1159 - accuracy: 0.9639 - val_loss: 0.1329 - val_accuracy: 0.9630\n",
      "Epoch 5/10\n",
      "375/375 [==============================] - 2s 5ms/step - loss: 0.0849 - accuracy: 0.9735 - val_loss: 0.1384 - val_accuracy: 0.9590\n",
      "Epoch 6/10\n",
      "375/375 [==============================] - 2s 5ms/step - loss: 0.0649 - accuracy: 0.9799 - val_loss: 0.1210 - val_accuracy: 0.9653\n",
      "Epoch 7/10\n",
      "375/375 [==============================] - 2s 5ms/step - loss: 0.0469 - accuracy: 0.9850 - val_loss: 0.1181 - val_accuracy: 0.9670\n",
      "Epoch 8/10\n",
      "375/375 [==============================] - 2s 5ms/step - loss: 0.0353 - accuracy: 0.9890 - val_loss: 0.2013 - val_accuracy: 0.9503\n",
      "Epoch 9/10\n",
      "375/375 [==============================] - 2s 5ms/step - loss: 0.0277 - accuracy: 0.9911 - val_loss: 0.1218 - val_accuracy: 0.9693\n",
      "Epoch 10/10\n",
      "375/375 [==============================] - 2s 5ms/step - loss: 0.0211 - accuracy: 0.9931 - val_loss: 0.1669 - val_accuracy: 0.9629\n",
      "Epoch 1/10\n",
      "375/375 [==============================] - 2s 5ms/step - loss: 0.2880 - accuracy: 0.9173 - val_loss: 0.1586 - val_accuracy: 0.9531\n",
      "Epoch 2/10\n",
      "375/375 [==============================] - 2s 5ms/step - loss: 0.1192 - accuracy: 0.9646 - val_loss: 0.1160 - val_accuracy: 0.9638\n",
      "Epoch 3/10\n",
      "375/375 [==============================] - 2s 5ms/step - loss: 0.0777 - accuracy: 0.9774 - val_loss: 0.0949 - val_accuracy: 0.9707\n",
      "Epoch 4/10\n",
      "375/375 [==============================] - 2s 5ms/step - loss: 0.0568 - accuracy: 0.9835 - val_loss: 0.0862 - val_accuracy: 0.9753\n",
      "Epoch 5/10\n",
      "375/375 [==============================] - 2s 5ms/step - loss: 0.0429 - accuracy: 0.9875 - val_loss: 0.0804 - val_accuracy: 0.9765\n",
      "Epoch 6/10\n",
      "375/375 [==============================] - 2s 5ms/step - loss: 0.0318 - accuracy: 0.9905 - val_loss: 0.0812 - val_accuracy: 0.9781\n",
      "Epoch 7/10\n",
      "375/375 [==============================] - 2s 5ms/step - loss: 0.0242 - accuracy: 0.9925 - val_loss: 0.0866 - val_accuracy: 0.9763\n",
      "Epoch 8/10\n",
      "375/375 [==============================] - 2s 5ms/step - loss: 0.0181 - accuracy: 0.9950 - val_loss: 0.0801 - val_accuracy: 0.9781\n",
      "Epoch 9/10\n",
      "375/375 [==============================] - 2s 5ms/step - loss: 0.0136 - accuracy: 0.9963 - val_loss: 0.0889 - val_accuracy: 0.9766\n",
      "Epoch 10/10\n",
      "375/375 [==============================] - 2s 5ms/step - loss: 0.0113 - accuracy: 0.9967 - val_loss: 0.0821 - val_accuracy: 0.9797\n"
     ]
    }
   ],
   "source": [
    "from tensorflow import keras\n",
    "from tensorflow.keras import layers\n",
    "\n",
    "def get_model():\n",
    "    model = keras.Sequential([\n",
    "        layers.Dense(512, activation=\"relu\"),\n",
    "        layers.Dense(10, activation=\"softmax\")\n",
    "    ])\n",
    "    model.compile(optimizer=\"rmsprop\",\n",
    "                  loss=\"sparse_categorical_crossentropy\",\n",
    "                  metrics=[\"accuracy\"])\n",
    "    return model\n",
    "\n",
    "model = get_model()\n",
    "history_noise = model.fit(\n",
    "    train_images_with_noise_channels, train_labels,\n",
    "    epochs=10,\n",
    "    batch_size=128,\n",
    "    validation_split=0.2)\n",
    "\n",
    "model = get_model()\n",
    "history_zeros = model.fit(\n",
    "    train_images_with_zeros_channels, train_labels,\n",
    "    epochs=10,\n",
    "    batch_size=128,\n",
    "    validation_split=0.2)"
   ]
  },
  {
   "cell_type": "markdown",
   "metadata": {
    "colab_type": "text"
   },
   "source": [
    "**Plotting a validation accuracy comparison**"
   ]
  },
  {
   "cell_type": "code",
   "execution_count": 17,
   "metadata": {
    "colab_type": "code"
   },
   "outputs": [
    {
     "data": {
      "text/plain": [
       "<matplotlib.legend.Legend at 0x21ead696c70>"
      ]
     },
     "execution_count": 17,
     "metadata": {},
     "output_type": "execute_result"
    },
    {
     "data": {
      "image/png": "[encoded data removed]",
      "text/plain": [
       "<Figure size 432x288 with 1 Axes>"
      ]
     },
     "metadata": {
      "needs_background": "light"
     },
     "output_type": "display_data"
    }
   ],
   "source": [
    "import matplotlib.pyplot as plt\n",
    "\n",
    "val_acc_noise = history_noise.history[\"val_accuracy\"]\n",
    "val_acc_zeros = history_zeros.history[\"val_accuracy\"]\n",
    "\n",
    "epochs = range(1, 11)\n",
    "plt.plot(epochs, val_acc_noise, \"b-\",\n",
    "         label=\"Validation accuracy with noise channels\")\n",
    "plt.plot(epochs, val_acc_zeros, \"b--\",\n",
    "         label=\"Validation accuracy with zeros channels\")\n",
    "\n",
    "plt.title(\"Effect of noise channels on validation accuracy\")\n",
    "plt.xlabel(\"Epochs\")\n",
    "plt.ylabel(\"Accuracy\")\n",
    "plt.legend()"
   ]
  },
  {
   "cell_type": "markdown",
   "metadata": {},
   "source": [
    "Despite the data holding the same information in both cases, the validation accuracy of the model trained with noise channels ends up about one percentage point lower—purely through the **influence of spurious correlations**. The more noise channels you would add, the further accuracy would degrade."
   ]
  },
  {
   "cell_type": "markdown",
   "metadata": {
    "colab_type": "text"
   },
   "source": [
    "### The nature of generalization in deep learning"
   ]
  },
  {
   "cell_type": "markdown",
   "metadata": {},
   "source": [
    "A remarkable fact about deep learning models is that they can be **trained to fit anything**, as long as they have enough representational power."
   ]
  },
  {
   "cell_type": "markdown",
   "metadata": {
    "colab_type": "text"
   },
   "source": [
    "**Fitting a MNIST model with randomly shuffled labels**"
   ]
  },
  {
   "cell_type": "markdown",
   "metadata": {},
   "source": [
    "Don’t believe me? Try shuffling the MNIST labels and train a model on that. Even though there is no relationship whatsoever between the inputs and the shuffled labels, the **training loss goes down just fine**, even with a relatively small model. Naturally, the validation loss does not improve at all over time, since there is no possibility of generalization in this setting."
   ]
  },
  {
   "cell_type": "code",
   "execution_count": 25,
   "metadata": {
    "colab_type": "code"
   },
   "outputs": [
    {
     "name": "stdout",
     "output_type": "stream",
     "text": [
      "Epoch 1/100\n",
      "375/375 [==============================] - 2s 3ms/step - loss: 2.3188 - accuracy: 0.1043 - val_loss: 2.3100 - val_accuracy: 0.1023\n",
      "Epoch 2/100\n",
      "375/375 [==============================] - 1s 3ms/step - loss: 2.3003 - accuracy: 0.1153 - val_loss: 2.3158 - val_accuracy: 0.1044\n",
      "Epoch 3/100\n",
      "375/375 [==============================] - 1s 3ms/step - loss: 2.2897 - accuracy: 0.1285 - val_loss: 2.3208 - val_accuracy: 0.1011\n",
      "Epoch 4/100\n",
      "375/375 [==============================] - 1s 3ms/step - loss: 2.2769 - accuracy: 0.1409 - val_loss: 2.3241 - val_accuracy: 0.1019\n",
      "Epoch 5/100\n",
      "375/375 [==============================] - 1s 3ms/step - loss: 2.2601 - accuracy: 0.1558 - val_loss: 2.3320 - val_accuracy: 0.0978\n",
      "Epoch 6/100\n",
      "375/375 [==============================] - 1s 3ms/step - loss: 2.2381 - accuracy: 0.1684 - val_loss: 2.3513 - val_accuracy: 0.1018\n",
      "Epoch 7/100\n",
      "375/375 [==============================] - 1s 3ms/step - loss: 2.2144 - accuracy: 0.1850 - val_loss: 2.3645 - val_accuracy: 0.1035\n",
      "Epoch 8/100\n",
      "375/375 [==============================] - 1s 3ms/step - loss: 2.1873 - accuracy: 0.1995 - val_loss: 2.3791 - val_accuracy: 0.1072\n",
      "Epoch 9/100\n",
      "375/375 [==============================] - 1s 3ms/step - loss: 2.1577 - accuracy: 0.2178 - val_loss: 2.3991 - val_accuracy: 0.1013\n",
      "Epoch 10/100\n",
      "375/375 [==============================] - 1s 3ms/step - loss: 2.1266 - accuracy: 0.2331 - val_loss: 2.4183 - val_accuracy: 0.1062\n",
      "Epoch 11/100\n",
      "375/375 [==============================] - 1s 3ms/step - loss: 2.0936 - accuracy: 0.2482 - val_loss: 2.4460 - val_accuracy: 0.1019\n",
      "Epoch 12/100\n",
      "375/375 [==============================] - 1s 3ms/step - loss: 2.0593 - accuracy: 0.2642 - val_loss: 2.4733 - val_accuracy: 0.1006\n",
      "Epoch 13/100\n",
      "375/375 [==============================] - 1s 3ms/step - loss: 2.0250 - accuracy: 0.2765 - val_loss: 2.5045 - val_accuracy: 0.1051\n",
      "Epoch 14/100\n",
      "375/375 [==============================] - 1s 3ms/step - loss: 1.9897 - accuracy: 0.2954 - val_loss: 2.5170 - val_accuracy: 0.1041\n",
      "Epoch 15/100\n",
      "375/375 [==============================] - 1s 3ms/step - loss: 1.9549 - accuracy: 0.3071 - val_loss: 2.5565 - val_accuracy: 0.1029\n",
      "Epoch 16/100\n",
      "375/375 [==============================] - 1s 3ms/step - loss: 1.9188 - accuracy: 0.3232 - val_loss: 2.6057 - val_accuracy: 0.1047\n",
      "Epoch 17/100\n",
      "375/375 [==============================] - 1s 3ms/step - loss: 1.8853 - accuracy: 0.3374 - val_loss: 2.6259 - val_accuracy: 0.1027\n",
      "Epoch 18/100\n",
      "375/375 [==============================] - 1s 3ms/step - loss: 1.8509 - accuracy: 0.3513 - val_loss: 2.6651 - val_accuracy: 0.1029\n",
      "Epoch 19/100\n",
      "375/375 [==============================] - 1s 3ms/step - loss: 1.8169 - accuracy: 0.3652 - val_loss: 2.7014 - val_accuracy: 0.0993\n",
      "Epoch 20/100\n",
      "375/375 [==============================] - 1s 3ms/step - loss: 1.7848 - accuracy: 0.3791 - val_loss: 2.7198 - val_accuracy: 0.1003\n",
      "Epoch 21/100\n",
      "375/375 [==============================] - 1s 3ms/step - loss: 1.7522 - accuracy: 0.3901 - val_loss: 2.7835 - val_accuracy: 0.1033\n",
      "Epoch 22/100\n",
      "375/375 [==============================] - 1s 3ms/step - loss: 1.7214 - accuracy: 0.4024 - val_loss: 2.7929 - val_accuracy: 0.1052\n",
      "Epoch 23/100\n",
      "375/375 [==============================] - 1s 3ms/step - loss: 1.6906 - accuracy: 0.4152 - val_loss: 2.8594 - val_accuracy: 0.1011\n",
      "Epoch 24/100\n",
      "375/375 [==============================] - 1s 3ms/step - loss: 1.6595 - accuracy: 0.4263 - val_loss: 2.8759 - val_accuracy: 0.1041\n",
      "Epoch 25/100\n",
      "375/375 [==============================] - 1s 3ms/step - loss: 1.6298 - accuracy: 0.4370 - val_loss: 2.9335 - val_accuracy: 0.1032\n",
      "Epoch 26/100\n",
      "375/375 [==============================] - 1s 3ms/step - loss: 1.6000 - accuracy: 0.4499 - val_loss: 2.9648 - val_accuracy: 0.1048\n",
      "Epoch 27/100\n",
      "375/375 [==============================] - 1s 3ms/step - loss: 1.5725 - accuracy: 0.4581 - val_loss: 3.0201 - val_accuracy: 0.1007\n",
      "Epoch 28/100\n",
      "375/375 [==============================] - 1s 3ms/step - loss: 1.5443 - accuracy: 0.4681 - val_loss: 3.0723 - val_accuracy: 0.1031\n",
      "Epoch 29/100\n",
      "375/375 [==============================] - 1s 3ms/step - loss: 1.5180 - accuracy: 0.4785 - val_loss: 3.0986 - val_accuracy: 0.1066\n",
      "Epoch 30/100\n",
      "375/375 [==============================] - 1s 3ms/step - loss: 1.4900 - accuracy: 0.4892 - val_loss: 3.1714 - val_accuracy: 0.1052\n",
      "Epoch 31/100\n",
      "375/375 [==============================] - 1s 3ms/step - loss: 1.4656 - accuracy: 0.4977 - val_loss: 3.1727 - val_accuracy: 0.1037\n",
      "Epoch 32/100\n",
      "375/375 [==============================] - 1s 3ms/step - loss: 1.4381 - accuracy: 0.5092 - val_loss: 3.2389 - val_accuracy: 0.1013\n",
      "Epoch 33/100\n",
      "375/375 [==============================] - 1s 3ms/step - loss: 1.4164 - accuracy: 0.5160 - val_loss: 3.2813 - val_accuracy: 0.1040\n",
      "Epoch 34/100\n",
      "375/375 [==============================] - 1s 3ms/step - loss: 1.3919 - accuracy: 0.5254 - val_loss: 3.3694 - val_accuracy: 0.1010\n",
      "Epoch 35/100\n",
      "375/375 [==============================] - 1s 3ms/step - loss: 1.3685 - accuracy: 0.5337 - val_loss: 3.4254 - val_accuracy: 0.1007\n",
      "Epoch 36/100\n",
      "375/375 [==============================] - 1s 3ms/step - loss: 1.3443 - accuracy: 0.5408 - val_loss: 3.4312 - val_accuracy: 0.1053\n",
      "Epoch 37/100\n",
      "375/375 [==============================] - 1s 3ms/step - loss: 1.3228 - accuracy: 0.5526 - val_loss: 3.4778 - val_accuracy: 0.1006\n",
      "Epoch 38/100\n",
      "375/375 [==============================] - 1s 3ms/step - loss: 1.2996 - accuracy: 0.5596 - val_loss: 3.5427 - val_accuracy: 0.0996\n",
      "Epoch 39/100\n",
      "375/375 [==============================] - 1s 3ms/step - loss: 1.2778 - accuracy: 0.5646 - val_loss: 3.5692 - val_accuracy: 0.1032\n",
      "Epoch 40/100\n",
      "375/375 [==============================] - 1s 3ms/step - loss: 1.2566 - accuracy: 0.5755 - val_loss: 3.6400 - val_accuracy: 0.1028\n",
      "Epoch 41/100\n",
      "375/375 [==============================] - 1s 3ms/step - loss: 1.2339 - accuracy: 0.5846 - val_loss: 3.6996 - val_accuracy: 0.1044\n",
      "Epoch 42/100\n",
      "375/375 [==============================] - 1s 3ms/step - loss: 1.2141 - accuracy: 0.5870 - val_loss: 3.7665 - val_accuracy: 0.1028\n",
      "Epoch 43/100\n",
      "375/375 [==============================] - 1s 3ms/step - loss: 1.1959 - accuracy: 0.5969 - val_loss: 3.8273 - val_accuracy: 0.1019\n",
      "Epoch 44/100\n",
      "375/375 [==============================] - 1s 3ms/step - loss: 1.1751 - accuracy: 0.6056 - val_loss: 3.8542 - val_accuracy: 0.1033\n",
      "Epoch 45/100\n",
      "375/375 [==============================] - 1s 3ms/step - loss: 1.1563 - accuracy: 0.6099 - val_loss: 3.8946 - val_accuracy: 0.1044\n",
      "Epoch 46/100\n",
      "375/375 [==============================] - 1s 3ms/step - loss: 1.1359 - accuracy: 0.6195 - val_loss: 3.9549 - val_accuracy: 0.1032\n",
      "Epoch 47/100\n",
      "375/375 [==============================] - 1s 3ms/step - loss: 1.1188 - accuracy: 0.6222 - val_loss: 4.0228 - val_accuracy: 0.1013\n",
      "Epoch 48/100\n",
      "375/375 [==============================] - 1s 3ms/step - loss: 1.1019 - accuracy: 0.6310 - val_loss: 4.0663 - val_accuracy: 0.0988\n",
      "Epoch 49/100\n",
      "375/375 [==============================] - 1s 3ms/step - loss: 1.0810 - accuracy: 0.6389 - val_loss: 4.1413 - val_accuracy: 0.1051\n",
      "Epoch 50/100\n",
      "375/375 [==============================] - 1s 3ms/step - loss: 1.0641 - accuracy: 0.6434 - val_loss: 4.1819 - val_accuracy: 0.1034\n",
      "Epoch 51/100\n",
      "375/375 [==============================] - 1s 3ms/step - loss: 1.0483 - accuracy: 0.6482 - val_loss: 4.2637 - val_accuracy: 0.1035\n",
      "Epoch 52/100\n",
      "375/375 [==============================] - 1s 3ms/step - loss: 1.0301 - accuracy: 0.6547 - val_loss: 4.3077 - val_accuracy: 0.1013\n",
      "Epoch 53/100\n",
      "375/375 [==============================] - 1s 3ms/step - loss: 1.0157 - accuracy: 0.6595 - val_loss: 4.3191 - val_accuracy: 0.1032\n",
      "Epoch 54/100\n",
      "375/375 [==============================] - 1s 3ms/step - loss: 0.9995 - accuracy: 0.6653 - val_loss: 4.4134 - val_accuracy: 0.1028\n",
      "Epoch 55/100\n",
      "375/375 [==============================] - 1s 3ms/step - loss: 0.9838 - accuracy: 0.6716 - val_loss: 4.4366 - val_accuracy: 0.1036\n",
      "Epoch 56/100\n",
      "375/375 [==============================] - 1s 3ms/step - loss: 0.9666 - accuracy: 0.6773 - val_loss: 4.4948 - val_accuracy: 0.1037\n",
      "Epoch 57/100\n",
      "375/375 [==============================] - 1s 3ms/step - loss: 0.9540 - accuracy: 0.6824 - val_loss: 4.5449 - val_accuracy: 0.1042\n"
     ]
    },
    {
     "name": "stdout",
     "output_type": "stream",
     "text": [
      "Epoch 58/100\n",
      "375/375 [==============================] - 1s 3ms/step - loss: 0.9377 - accuracy: 0.6886 - val_loss: 4.6931 - val_accuracy: 0.1008\n",
      "Epoch 59/100\n",
      "375/375 [==============================] - 1s 3ms/step - loss: 0.9225 - accuracy: 0.6938 - val_loss: 4.7061 - val_accuracy: 0.1006\n",
      "Epoch 60/100\n",
      "375/375 [==============================] - 1s 3ms/step - loss: 0.9096 - accuracy: 0.6992 - val_loss: 4.7591 - val_accuracy: 0.1051\n",
      "Epoch 61/100\n",
      "375/375 [==============================] - 1s 3ms/step - loss: 0.8955 - accuracy: 0.7045 - val_loss: 4.8084 - val_accuracy: 0.0991\n",
      "Epoch 62/100\n",
      "375/375 [==============================] - 1s 3ms/step - loss: 0.8815 - accuracy: 0.7079 - val_loss: 4.8561 - val_accuracy: 0.1032\n",
      "Epoch 63/100\n",
      "375/375 [==============================] - 1s 3ms/step - loss: 0.8688 - accuracy: 0.7131 - val_loss: 4.9335 - val_accuracy: 0.1000\n",
      "Epoch 64/100\n",
      "375/375 [==============================] - 1s 3ms/step - loss: 0.8551 - accuracy: 0.7171 - val_loss: 5.0540 - val_accuracy: 0.0993\n",
      "Epoch 65/100\n",
      "375/375 [==============================] - 1s 3ms/step - loss: 0.8429 - accuracy: 0.7209 - val_loss: 5.0695 - val_accuracy: 0.1041\n",
      "Epoch 66/100\n",
      "375/375 [==============================] - 1s 3ms/step - loss: 0.8289 - accuracy: 0.7268 - val_loss: 5.1357 - val_accuracy: 0.1019\n",
      "Epoch 67/100\n",
      "375/375 [==============================] - 1s 3ms/step - loss: 0.8166 - accuracy: 0.7307 - val_loss: 5.2035 - val_accuracy: 0.1017\n",
      "Epoch 68/100\n",
      "375/375 [==============================] - 1s 3ms/step - loss: 0.8046 - accuracy: 0.7361 - val_loss: 5.2799 - val_accuracy: 0.0983\n",
      "Epoch 69/100\n",
      "375/375 [==============================] - 1s 3ms/step - loss: 0.7945 - accuracy: 0.7370 - val_loss: 5.2998 - val_accuracy: 0.1015\n",
      "Epoch 70/100\n",
      "375/375 [==============================] - 1s 3ms/step - loss: 0.7793 - accuracy: 0.7448 - val_loss: 5.3689 - val_accuracy: 0.0985\n",
      "Epoch 71/100\n",
      "375/375 [==============================] - 1s 3ms/step - loss: 0.7683 - accuracy: 0.7461 - val_loss: 5.4246 - val_accuracy: 0.1007\n",
      "Epoch 72/100\n",
      "375/375 [==============================] - 1s 3ms/step - loss: 0.7577 - accuracy: 0.7523 - val_loss: 5.4771 - val_accuracy: 0.1016\n",
      "Epoch 73/100\n",
      "375/375 [==============================] - 1s 3ms/step - loss: 0.7479 - accuracy: 0.7558 - val_loss: 5.5709 - val_accuracy: 0.0976\n",
      "Epoch 74/100\n",
      "375/375 [==============================] - 1s 3ms/step - loss: 0.7372 - accuracy: 0.7586 - val_loss: 5.6257 - val_accuracy: 0.0995\n",
      "Epoch 75/100\n",
      "375/375 [==============================] - 1s 3ms/step - loss: 0.7238 - accuracy: 0.7640 - val_loss: 5.6543 - val_accuracy: 0.1022\n",
      "Epoch 76/100\n",
      "375/375 [==============================] - 1s 3ms/step - loss: 0.7130 - accuracy: 0.7668 - val_loss: 5.7514 - val_accuracy: 0.1018\n",
      "Epoch 77/100\n",
      "375/375 [==============================] - 1s 3ms/step - loss: 0.7023 - accuracy: 0.7715 - val_loss: 5.7924 - val_accuracy: 0.0993\n",
      "Epoch 78/100\n",
      "375/375 [==============================] - 1s 3ms/step - loss: 0.6930 - accuracy: 0.7734 - val_loss: 5.8545 - val_accuracy: 0.1017\n",
      "Epoch 79/100\n",
      "375/375 [==============================] - 1s 3ms/step - loss: 0.6843 - accuracy: 0.7746 - val_loss: 5.9777 - val_accuracy: 0.0976\n",
      "Epoch 80/100\n",
      "375/375 [==============================] - 1s 3ms/step - loss: 0.6760 - accuracy: 0.7800 - val_loss: 6.0082 - val_accuracy: 0.1036\n",
      "Epoch 81/100\n",
      "375/375 [==============================] - 1s 3ms/step - loss: 0.6636 - accuracy: 0.7825 - val_loss: 6.0900 - val_accuracy: 0.0983\n",
      "Epoch 82/100\n",
      "375/375 [==============================] - 1s 3ms/step - loss: 0.6544 - accuracy: 0.7893 - val_loss: 6.1533 - val_accuracy: 0.1025\n",
      "Epoch 83/100\n",
      "375/375 [==============================] - 1s 3ms/step - loss: 0.6432 - accuracy: 0.7920 - val_loss: 6.1877 - val_accuracy: 0.1017\n",
      "Epoch 84/100\n",
      "375/375 [==============================] - 1s 3ms/step - loss: 0.6345 - accuracy: 0.7936 - val_loss: 6.3114 - val_accuracy: 0.0983\n",
      "Epoch 85/100\n",
      "375/375 [==============================] - 1s 3ms/step - loss: 0.6269 - accuracy: 0.7980 - val_loss: 6.3384 - val_accuracy: 0.1028\n",
      "Epoch 86/100\n",
      "375/375 [==============================] - 1s 3ms/step - loss: 0.6164 - accuracy: 0.8009 - val_loss: 6.4062 - val_accuracy: 0.0997\n",
      "Epoch 87/100\n",
      "375/375 [==============================] - 1s 3ms/step - loss: 0.6070 - accuracy: 0.8040 - val_loss: 6.4971 - val_accuracy: 0.1004\n",
      "Epoch 88/100\n",
      "375/375 [==============================] - 1s 3ms/step - loss: 0.5974 - accuracy: 0.8052 - val_loss: 6.5589 - val_accuracy: 0.0991\n",
      "Epoch 89/100\n",
      "375/375 [==============================] - 1s 3ms/step - loss: 0.5902 - accuracy: 0.8097 - val_loss: 6.6372 - val_accuracy: 0.1002\n",
      "Epoch 90/100\n",
      "375/375 [==============================] - 1s 3ms/step - loss: 0.5838 - accuracy: 0.8096 - val_loss: 6.6610 - val_accuracy: 0.1011\n",
      "Epoch 91/100\n",
      "375/375 [==============================] - 1s 3ms/step - loss: 0.5732 - accuracy: 0.8159 - val_loss: 6.7252 - val_accuracy: 0.0976\n",
      "Epoch 92/100\n",
      "375/375 [==============================] - 1s 3ms/step - loss: 0.5664 - accuracy: 0.8176 - val_loss: 6.8135 - val_accuracy: 0.1025\n",
      "Epoch 93/100\n",
      "375/375 [==============================] - 1s 3ms/step - loss: 0.5584 - accuracy: 0.8205 - val_loss: 6.8774 - val_accuracy: 0.1032\n",
      "Epoch 94/100\n",
      "375/375 [==============================] - 1s 3ms/step - loss: 0.5490 - accuracy: 0.8238 - val_loss: 6.9519 - val_accuracy: 0.1028\n",
      "Epoch 95/100\n",
      "375/375 [==============================] - 1s 3ms/step - loss: 0.5434 - accuracy: 0.8239 - val_loss: 6.9912 - val_accuracy: 0.1003\n",
      "Epoch 96/100\n",
      "375/375 [==============================] - 1s 3ms/step - loss: 0.5341 - accuracy: 0.8293 - val_loss: 7.1584 - val_accuracy: 0.0976\n",
      "Epoch 97/100\n",
      "375/375 [==============================] - 1s 3ms/step - loss: 0.5258 - accuracy: 0.8303 - val_loss: 7.2232 - val_accuracy: 0.1023\n",
      "Epoch 98/100\n",
      "375/375 [==============================] - 1s 3ms/step - loss: 0.5192 - accuracy: 0.8330 - val_loss: 7.2793 - val_accuracy: 0.1007\n",
      "Epoch 99/100\n",
      "375/375 [==============================] - 1s 3ms/step - loss: 0.5119 - accuracy: 0.8360 - val_loss: 7.3134 - val_accuracy: 0.0989\n",
      "Epoch 100/100\n",
      "375/375 [==============================] - 1s 3ms/step - loss: 0.5046 - accuracy: 0.8390 - val_loss: 7.3581 - val_accuracy: 0.0975\n"
     ]
    },
    {
     "data": {
      "text/plain": [
       "<tensorflow.python.keras.callbacks.History at 0x21ec66ee220>"
      ]
     },
     "execution_count": 25,
     "metadata": {},
     "output_type": "execute_result"
    }
   ],
   "source": [
    "(train_images, train_labels), _ = mnist.load_data()\n",
    "train_images = train_images.reshape((60000, 28 * 28))\n",
    "train_images = train_images.astype(\"float32\") / 255\n",
    "\n",
    "random_train_labels = train_labels[:]\n",
    "np.random.shuffle(random_train_labels)\n",
    "\n",
    "model = keras.Sequential([\n",
    "    layers.Dense(512, activation=\"relu\"),\n",
    "    layers.Dense(10, activation=\"softmax\")\n",
    "])\n",
    "model.compile(optimizer=\"rmsprop\",\n",
    "              loss=\"sparse_categorical_crossentropy\",\n",
    "              metrics=[\"accuracy\"])\n",
    "model.fit(train_images, random_train_labels,\n",
    "          epochs=100,\n",
    "          batch_size=128,\n",
    "          validation_split=0.2)"
   ]
  },
  {
   "cell_type": "markdown",
   "metadata": {},
   "source": [
    "In fact, you don’t even need to do this with MNIST data—you could just **generate white-noise inputs and random labels. You could fit a model on that, too**, as long as it has enough parameters. It would just end up memorizing specific inputs, much like a Python dictionary."
   ]
  },
  {
   "cell_type": "markdown",
   "metadata": {
    "colab_type": "text"
   },
   "source": [
    "#### The manifold hypothesis"
   ]
  },
  {
   "cell_type": "markdown",
   "metadata": {},
   "source": [
    "The input to a MNIST classifier (before preprocessing) is a $28 \\times 28$ array of integers between $0$ and $255$. The total number of possible input values is thus $256$ to the power of $784$—much greater than the number of atoms in the universe. However, very few of these inputs would look like valid MNIST samples: actual handwritten digits only occupy a **tiny subspace of the parent space** of all possible $28 \\times 28$ `uint8` arrays. What’s more, this subspace isn’t just a set of points sprinkled at random in the parent space: it is **highly structured**.\n",
    "\n",
    "First, the subspace of valid handwritten digits is **continuous**: if you take a sample and modify it a little, it will still be recognizable as the same handwritten digit. Further, all samples in the valid subspace are **connected by smooth paths** that run through the subspace. This means that if you take two random MNIST digits A and B, there exists a sequence of \"intermediate\" images that morph A into B, such that two consecutive digits are very close to each other (see figure 5.7). Perhaps there will be a few ambiguous shapes close to the boundary between two classes, but even these shapes would still look very digit-like.\n",
    "\n",
    "![](https://drek4537l1klr.cloudfront.net/chollet2/v-7/Figures/mnist_manifold.png)\n",
    "\n",
    "In technical terms, you would say that **handwritten digits form a manifold within the space of possible $28 \\times 28$ `uint8` arrays**. That’s a big word, but the concept is pretty intuitive. A \"manifold\" is a lower-dimensional subspace of some parent space, that is **locally similar to a linear (Euclidian) space**. For instance, a smooth curve in the plane is a 1D manifold within a 2D space, because for every point of the curve, you can draw a tangent (the curve can be approximated by a line in every point). A smooth surface within a 3D space is a 2D manifold. And so on.\n",
    "\n",
    "More generally, the **manifold hypothesis** posits that **all natural data lies on a low-dimensional manifold** within the high-dimensional space where it is encoded. That’s a pretty strong statement about the structure of information in the universe. As far as we know, **it’s accurate, and it’s the reason why deep learning works**. It’s true for MNIST digits, but also for human faces, tree morphology, the sounds of the human voice, and even natural language."
   ]
  },
  {
   "cell_type": "markdown",
   "metadata": {},
   "source": [
    "The manifold hypothesis implies that:\n",
    "\n",
    "- Machine learning models only have to fit relatively **simple, low-dimensional, highly-structured subspaces** within their potential input space (latent manifolds).\n",
    "- Within one of these manifolds, it’s **always possible to interpolate between two inputs**, that is to say, morph one into another via a continuous path along which all points fall on the manifold."
   ]
  },
  {
   "cell_type": "markdown",
   "metadata": {
    "colab_type": "text"
   },
   "source": [
    "#### Interpolation as a source of generalization"
   ]
  },
  {
   "cell_type": "markdown",
   "metadata": {},
   "source": [
    "Note that interpolation on the latent manifold is different from linear interpolation in the parent space. For instance, the average of pixels between two MNIST digits is usually not a valid digit.\n",
    "\n",
    "![](https://drek4537l1klr.cloudfront.net/chollet2/v-7/Figures/linear_interpolation_vs_manifold_interpolation.png)\n",
    "\n",
    "Humans are capable of **extreme generalization**, which is enabled by cognitive mechanisms other than interpolation—abstraction, symbolic models of the world, reasoning, logic, common sense, innate priors about the world. What we generally call reason, as opposed to intuition and pattern recognition. The latter are largely interpolative in nature, but the former isn’t. Both are essential to intelligence."
   ]
  },
  {
   "cell_type": "markdown",
   "metadata": {
    "colab_type": "text"
   },
   "source": [
    "#### Why deep learning works"
   ]
  },
  {
   "cell_type": "markdown",
   "metadata": {},
   "source": [
    "The curve involves enough parameters that it could fit anything—indeed, if you let your model train for long enough, it will effectively end up purely memorizing its training data and won’t generalize at all. However, the data you’re fitting to isn’t made of isolated points sparsely distributed across the underlying space. Your data forms a highly-structured, low-dimensional manifold within the input space—that’s the manifold hypothesis. And because fitting your model curve to this data happens gradually and smoothly over time, as gradient descent progresses, there will be an **intermediate point during training at which the model roughly approximates the natural manifold of the data**.\n",
    "\n",
    "![](https://drek4537l1klr.cloudfront.net/chollet2/v-7/Figures/the_cartoon_of_fitting.png)"
   ]
  },
  {
   "cell_type": "markdown",
   "metadata": {
    "colab_type": "text"
   },
   "source": [
    "#### Training data is paramount"
   ]
  },
  {
   "cell_type": "markdown",
   "metadata": {},
   "source": [
    "Further, because deep learning is curve-fitting, for a model to perform well, it needs to be trained on a **dense sampling of its input space**. A \"dense sampling\" in this context means that the training data should densely cover the entirety of the input data manifold. This is especially true near decision boundaries. With a sufficiently dense sampling, it becomes possible to make sense of new inputs by interpolating between past training inputs, without having to use common-sense, abstract reasoning, or external knowledge about the world—all things that machine learning models have no access to.\n",
    "\n",
    "![](https://drek4537l1klr.cloudfront.net/chollet2/v-7/Figures/dense_sampling.png)"
   ]
  },
  {
   "cell_type": "markdown",
   "metadata": {},
   "source": [
    "When getting more data isn’t possible, the next-best solution is to **modulate the quantity of information that your model is allowed to store, or to add constraints on the smoothness of the model curve**. If a network can only afford to memorize a small number of patterns, or very regular patterns, the optimization process will force it to focus on the most prominent patterns, which have a better chance of generalizing well. The processing of fighting overfitting this way is called **regularization**.  "
   ]
  },
  {
   "cell_type": "markdown",
   "metadata": {
    "colab_type": "text"
   },
   "source": [
    "## Evaluating machine-learning models"
   ]
  },
  {
   "cell_type": "markdown",
   "metadata": {
    "colab_type": "text"
   },
   "source": [
    "### Training, validation, and test sets"
   ]
  },
  {
   "cell_type": "markdown",
   "metadata": {},
   "source": [
    "Evaluating a model always boils down to splitting the available data into three sets: training, validation, and test. You train on the training data and evaluate your model on the validation data. Once your model is ready for prime time, you test it one final time on the test data, which is meant to be as similar as possible to production data. Then you can deploy the model in production.\n",
    "\n",
    "Central to this phenomenon is the notion of information leaks. Every time you tune a hyperparameter of your model based on the model’s performance on the validation set, some information about the validation data **leaks into the model**. If you do this only once, for one parameter, then very few bits of information will leak, and your validation set will remain reliable to evaluate the model. But if you repeat this many times—running one experiment, evaluating on the validation set, and modifying your model as a result—then you’ll leak an increasingly significant amount of information about the validation set into the model.\n",
    "\n",
    "As a result, tuning the configuration of the model based on its performance on the validation set can quickly result in **overfitting to the validation set**, even though your model is never directly trained on it."
   ]
  },
  {
   "cell_type": "markdown",
   "metadata": {
    "colab_type": "text"
   },
   "source": [
    "#### Simple hold-out validation"
   ]
  },
  {
   "cell_type": "markdown",
   "metadata": {},
   "source": [
    "![](https://drek4537l1klr.cloudfront.net/chollet2/v-7/Figures/holdout_validation.png)"
   ]
  },
  {
   "cell_type": "markdown",
   "metadata": {
    "colab_type": "text"
   },
   "source": [
    "#### K-fold validation"
   ]
  },
  {
   "cell_type": "markdown",
   "metadata": {},
   "source": [
    "![](https://drek4537l1klr.cloudfront.net/chollet2/v-7/Figures/k_fold_validation.png)"
   ]
  },
  {
   "cell_type": "markdown",
   "metadata": {
    "colab_type": "text"
   },
   "source": [
    "#### Iterated K-fold validation with shuffling"
   ]
  },
  {
   "cell_type": "markdown",
   "metadata": {},
   "source": [
    "Note that you end up training and evaluating $P * K$ models (where $P$ is the number of iterations you use), which can be very expensive."
   ]
  },
  {
   "cell_type": "markdown",
   "metadata": {
    "colab_type": "text"
   },
   "source": [
    "### Beating a common-sense baseline"
   ]
  },
  {
   "cell_type": "markdown",
   "metadata": {},
   "source": [
    "Before you start working with a dataset, you should always pick a **trivial baseline that you’ll try to beat**. If you cross that threshold, you’ll know you’re doing something right: your model is actually using the information in the input data to make predictions that generalize—you can keep going. This baseline could be performance of a random classifier, or the performance of the simplest non-machine learning technique you can imagine.\n",
    "\n",
    "For instance, in the MNIST digit-classification example, a simple baseline would be a validation accuracy greater than $0.1$ (random classifier); in the IMDB example, it would be a validation accuracy greater than $0.5$. In the Reuters example, it would be around $0.18-0.19$, due to class imbalance. If you have a binary classification problem where $90\\%$ of samples belong to class A and $10\\%$ belong to class B, then a classifier that always predicts A already achieves $0.9$ in validation accuracy, and you’ll need to do better than that."
   ]
  },
  {
   "cell_type": "markdown",
   "metadata": {
    "colab_type": "text"
   },
   "source": [
    "### Things to keep in mind about model evaluation"
   ]
  },
  {
   "cell_type": "markdown",
   "metadata": {},
   "source": [
    "Keep an eye out for the following when you’re choosing an evaluation protocol:\n",
    "\n",
    "- Data representativeness — You want both your training set and test set to be **representative of the data at hand**. For instance, if you’re trying to classify images of digits, and you’re starting from an array of samples where the samples are ordered by their class, taking the first $80\\%$ of the array as your training set and the remaining $20\\%$ as your test set will result in your training set containing only classes $0–7$, whereas your test set contains only classes $8–9$. This seems like a ridiculous mistake, but it’s surprisingly common. For this reason, you usually should **randomly shuffle** your data before splitting it into training and test sets.\n",
    "- The arrow of time — If you’re trying to predict the future given the past (for example, tomorrow’s weather, stock movements, and so on), you should **not randomly shuffle your data** before splitting it, because doing so will create a **temporal leak**: your model will effectively be trained on data from the future. In such situations, you should always make sure all data in your test set is posterior to the data in the training set.\n",
    "- Redundancy in your data — If some data points in your data appear twice (fairly common with real-world data), then shuffling the data and splitting it into a training set and a validation set will result in redundancy between the training and validation sets. In effect, you’ll be testing on part of your training data, which is the worst thing you can do! Make sure your training set and validation set are disjoint."
   ]
  },
  {
   "cell_type": "markdown",
   "metadata": {
    "colab_type": "text"
   },
   "source": [
    "## Improving model fit"
   ]
  },
  {
   "cell_type": "markdown",
   "metadata": {},
   "source": [
    "Your initial goal as you start working on a problem is to achieve a model that shows **some generalization power**, and that is able to overfit. Once you have such a model, you’ll focus on refining generalization by fighting overfitting.\n",
    "\n",
    "There are three common problems you’ll encounter at this stage:\n",
    "\n",
    "- Training doesn’t get started: your training loss doesn’t go down over time.\n",
    "- Training gets started just fine, but your model doesn’t meaningfully generalize: you can’t beat the common-sense baseline you set.\n",
    "- Training and validation loss both go down over time and you can beat your baseline, but you don’t seem to be able to overfit—which indicates you’re still underfitting."
   ]
  },
  {
   "cell_type": "markdown",
   "metadata": {
    "colab_type": "text"
   },
   "source": [
    "### Tuning key gradient descent parameters"
   ]
  },
  {
   "cell_type": "markdown",
   "metadata": {},
   "source": [
    "Sometimes, training doesn’t get started, or stalls too early. Your loss is stuck. **This is always something you can overcome**: remember that you can fit a model to random data. Even if nothing about your problem makes sense, you should still be able to train something—if only by memorizing the training data.\n",
    "\n",
    "When this happens, it’s always a problem with the configuration of the **gradient descent process**: your choice of **optimizer**, the distribution of **initial values in the weights** of your model, your **learning rate**, or your **batch size**. All these parameters are interdependent, and as such, it is usually sufficient to tune the learning rate and the batch size while maintaining the rest of the parameters constant.\n"
   ]
  },
  {
   "cell_type": "markdown",
   "metadata": {
    "colab_type": "text"
   },
   "source": [
    "**Training a MNIST model with an incorrectly high learning rate**"
   ]
  },
  {
   "cell_type": "code",
   "execution_count": 10,
   "metadata": {
    "colab_type": "code"
   },
   "outputs": [
    {
     "name": "stdout",
     "output_type": "stream",
     "text": [
      "Epoch 1/10\n",
      "375/375 [==============================] - 2s 3ms/step - loss: 958.0541 - accuracy: 0.3922 - val_loss: 2.2759 - val_accuracy: 0.2436\n",
      "Epoch 2/10\n",
      "375/375 [==============================] - 1s 3ms/step - loss: 6.2640 - accuracy: 0.2843 - val_loss: 2.3187 - val_accuracy: 0.2657\n",
      "Epoch 3/10\n",
      "375/375 [==============================] - 1s 3ms/step - loss: 3.3586 - accuracy: 0.2631 - val_loss: 4.1385 - val_accuracy: 0.3471\n",
      "Epoch 4/10\n",
      "375/375 [==============================] - 1s 3ms/step - loss: 2.8014 - accuracy: 0.2787 - val_loss: 2.4037 - val_accuracy: 0.2595\n",
      "Epoch 5/10\n",
      "375/375 [==============================] - 1s 3ms/step - loss: 2.6436 - accuracy: 0.2899 - val_loss: 1.9497 - val_accuracy: 0.2957\n",
      "Epoch 6/10\n",
      "375/375 [==============================] - 1s 3ms/step - loss: 2.8937 - accuracy: 0.2974 - val_loss: 2.5511 - val_accuracy: 0.2729\n",
      "Epoch 7/10\n",
      "375/375 [==============================] - 1s 3ms/step - loss: 2.6239 - accuracy: 0.2711 - val_loss: 2.3309 - val_accuracy: 0.3207\n",
      "Epoch 8/10\n",
      "375/375 [==============================] - 1s 3ms/step - loss: 2.6714 - accuracy: 0.2905 - val_loss: 2.2097 - val_accuracy: 0.2660\n",
      "Epoch 9/10\n",
      "375/375 [==============================] - 1s 3ms/step - loss: 2.5578 - accuracy: 0.3022 - val_loss: 1.9959 - val_accuracy: 0.2939\n",
      "Epoch 10/10\n",
      "375/375 [==============================] - 1s 3ms/step - loss: 2.7077 - accuracy: 0.3016 - val_loss: 2.2190 - val_accuracy: 0.3254\n"
     ]
    }
   ],
   "source": [
    "from tensorflow import keras\n",
    "from tensorflow.keras import layers\n",
    "from tensorflow.keras.datasets import mnist\n",
    "\n",
    "(train_images, train_labels), _ = mnist.load_data()\n",
    "train_images = train_images.reshape((60000, 28 * 28))\n",
    "train_images = train_images.astype(\"float32\") / 255\n",
    "\n",
    "model = keras.Sequential([\n",
    "    layers.Dense(512, activation=\"relu\"),\n",
    "    layers.Dense(10, activation=\"softmax\")\n",
    "])\n",
    "model.compile(optimizer=keras.optimizers.RMSprop(1.),\n",
    "              loss=\"sparse_categorical_crossentropy\",\n",
    "              metrics=[\"accuracy\"])\n",
    "history = model.fit(train_images, train_labels,\n",
    "          epochs=10,\n",
    "          batch_size=128,\n",
    "          validation_split=0.2)"
   ]
  },
  {
   "cell_type": "code",
   "execution_count": 19,
   "metadata": {},
   "outputs": [
    {
     "data": {
      "text/plain": [
       "<matplotlib.legend.Legend at 0x1a84dfb04c0>"
      ]
     },
     "execution_count": 19,
     "metadata": {},
     "output_type": "execute_result"
    },
    {
     "data": {
      "image/png": "[encoded data removed]",
      "text/plain": [
       "<Figure size 432x288 with 1 Axes>"
      ]
     },
     "metadata": {
      "needs_background": "light"
     },
     "output_type": "display_data"
    }
   ],
   "source": [
    "import matplotlib.pyplot as plt\n",
    "\n",
    "epochs = range(1, 11)\n",
    "plt.plot(epochs, history.history[\"loss\"], \"b-\",\n",
    "         label=\"Training loss\")\n",
    "plt.plot(epochs, history.history[\"val_loss\"], \"b--\",\n",
    "         label=\"Validation loss\")\n",
    "\n",
    "plt.title(\"Effect of learning rate on loss\")\n",
    "plt.xlabel(\"Epochs\")\n",
    "plt.ylabel(\"Loss\")\n",
    "plt.yscale(\"log\")\n",
    "plt.legend()"
   ]
  },
  {
   "cell_type": "code",
   "execution_count": 20,
   "metadata": {},
   "outputs": [
    {
     "data": {
      "text/plain": [
       "<matplotlib.legend.Legend at 0x1a84e0a2250>"
      ]
     },
     "execution_count": 20,
     "metadata": {},
     "output_type": "execute_result"
    },
    {
     "data": {
      "image/png": "[encoded data removed]",
      "text/plain": [
       "<Figure size 432x288 with 1 Axes>"
      ]
     },
     "metadata": {
      "needs_background": "light"
     },
     "output_type": "display_data"
    }
   ],
   "source": [
    "import matplotlib.pyplot as plt\n",
    "\n",
    "epochs = range(1, 11)\n",
    "plt.plot(epochs, history.history[\"accuracy\"], \"b-\",\n",
    "         label=\"Training accuracy\")\n",
    "plt.plot(epochs, history.history[\"val_accuracy\"], \"b--\",\n",
    "         label=\"Validation accuracy\")\n",
    "\n",
    "plt.title(\"Effect of learning rate on accuracy\")\n",
    "plt.xlabel(\"Epochs\")\n",
    "plt.ylabel(\"Accuracy\")\n",
    "plt.legend()"
   ]
  },
  {
   "cell_type": "markdown",
   "metadata": {
    "colab_type": "text"
   },
   "source": [
    "**The same model with a more appropriate learning rate**"
   ]
  },
  {
   "cell_type": "code",
   "execution_count": 21,
   "metadata": {
    "colab_type": "code",
    "scrolled": false
   },
   "outputs": [
    {
     "name": "stdout",
     "output_type": "stream",
     "text": [
      "Epoch 1/10\n",
      "375/375 [==============================] - 2s 4ms/step - loss: 0.3598 - accuracy: 0.9112 - val_loss: 0.1647 - val_accuracy: 0.9541\n",
      "Epoch 2/10\n",
      "375/375 [==============================] - 1s 3ms/step - loss: 0.1396 - accuracy: 0.9632 - val_loss: 0.1341 - val_accuracy: 0.9672\n",
      "Epoch 3/10\n",
      "375/375 [==============================] - 1s 3ms/step - loss: 0.1160 - accuracy: 0.9719 - val_loss: 0.1865 - val_accuracy: 0.9657\n",
      "Epoch 4/10\n",
      "375/375 [==============================] - 1s 3ms/step - loss: 0.0973 - accuracy: 0.9780 - val_loss: 0.1653 - val_accuracy: 0.9713\n",
      "Epoch 5/10\n",
      "375/375 [==============================] - 1s 3ms/step - loss: 0.0900 - accuracy: 0.9811 - val_loss: 0.1966 - val_accuracy: 0.9728\n",
      "Epoch 6/10\n",
      "375/375 [==============================] - 1s 3ms/step - loss: 0.0811 - accuracy: 0.9836 - val_loss: 0.2272 - val_accuracy: 0.9686\n",
      "Epoch 7/10\n",
      "375/375 [==============================] - 1s 3ms/step - loss: 0.0654 - accuracy: 0.9870 - val_loss: 0.2198 - val_accuracy: 0.9743\n",
      "Epoch 8/10\n",
      "375/375 [==============================] - 1s 3ms/step - loss: 0.0638 - accuracy: 0.9878 - val_loss: 0.2523 - val_accuracy: 0.9720\n",
      "Epoch 9/10\n",
      "375/375 [==============================] - 1s 3ms/step - loss: 0.0616 - accuracy: 0.9888 - val_loss: 0.3394 - val_accuracy: 0.9701\n",
      "Epoch 10/10\n",
      "375/375 [==============================] - 1s 3ms/step - loss: 0.0551 - accuracy: 0.9902 - val_loss: 0.3124 - val_accuracy: 0.9726\n"
     ]
    }
   ],
   "source": [
    "model = keras.Sequential([\n",
    "    layers.Dense(512, activation=\"relu\"),\n",
    "    layers.Dense(10, activation=\"softmax\")\n",
    "])\n",
    "model.compile(optimizer=keras.optimizers.RMSprop(1e-2),\n",
    "              loss=\"sparse_categorical_crossentropy\",\n",
    "              metrics=[\"accuracy\"])\n",
    "history = model.fit(train_images, train_labels,\n",
    "          epochs=10,\n",
    "          batch_size=128,\n",
    "          validation_split=0.2)"
   ]
  },
  {
   "cell_type": "code",
   "execution_count": 22,
   "metadata": {},
   "outputs": [
    {
     "data": {
      "text/plain": [
       "<matplotlib.legend.Legend at 0x1a84f3f4ac0>"
      ]
     },
     "execution_count": 22,
     "metadata": {},
     "output_type": "execute_result"
    },
    {
     "data": {
      "image/png": "[encoded data removed]",
      "text/plain": [
       "<Figure size 432x288 with 1 Axes>"
      ]
     },
     "metadata": {
      "needs_background": "light"
     },
     "output_type": "display_data"
    }
   ],
   "source": [
    "import matplotlib.pyplot as plt\n",
    "\n",
    "epochs = range(1, 11)\n",
    "plt.plot(epochs, history.history[\"loss\"], \"b-\",\n",
    "         label=\"Training loss\")\n",
    "plt.plot(epochs, history.history[\"val_loss\"], \"b--\",\n",
    "         label=\"Validation loss\")\n",
    "\n",
    "plt.title(\"Effect of learning rate on loss\")\n",
    "plt.xlabel(\"Epochs\")\n",
    "plt.ylabel(\"Loss\")\n",
    "plt.yscale(\"log\")\n",
    "plt.legend()"
   ]
  },
  {
   "cell_type": "code",
   "execution_count": 23,
   "metadata": {
    "scrolled": true
   },
   "outputs": [
    {
     "data": {
      "text/plain": [
       "<matplotlib.legend.Legend at 0x1a84f4a7b80>"
      ]
     },
     "execution_count": 23,
     "metadata": {},
     "output_type": "execute_result"
    },
    {
     "data": {
      "image/png": "[encoded data removed]",
      "text/plain": [
       "<Figure size 432x288 with 1 Axes>"
      ]
     },
     "metadata": {
      "needs_background": "light"
     },
     "output_type": "display_data"
    }
   ],
   "source": [
    "import matplotlib.pyplot as plt\n",
    "\n",
    "epochs = range(1, 11)\n",
    "plt.plot(epochs, history.history[\"accuracy\"], \"b-\",\n",
    "         label=\"Training accuracy\")\n",
    "plt.plot(epochs, history.history[\"val_accuracy\"], \"b--\",\n",
    "         label=\"Validation accuracy\")\n",
    "\n",
    "plt.title(\"Effect of learning rate on accuracy\")\n",
    "plt.xlabel(\"Epochs\")\n",
    "plt.ylabel(\"Accuracy\")\n",
    "plt.legend()"
   ]
  },
  {
   "cell_type": "markdown",
   "metadata": {},
   "source": [
    "The model is now able to train.\n",
    "\n",
    "If you find yourself in a similar situation, try:\n",
    "\n",
    "- Lowering or increasing the **learning rate**. A learning rate that is too high may lead to updates that vastly overshoot a proper fit, like in the example above, and a learning rate that is too low may make training so slow that it appears to stall.\n",
    "- Increasing the **batch size**. A batch with more samples will lead to gradients that are more informative and less noisy (lower variance)."
   ]
  },
  {
   "cell_type": "code",
   "execution_count": 28,
   "metadata": {},
   "outputs": [],
   "source": [
    "# try a different batch size, what do you see?"
   ]
  },
  {
   "cell_type": "markdown",
   "metadata": {
    "colab_type": "text"
   },
   "source": [
    "### Leveraging better architecture priors"
   ]
  },
  {
   "cell_type": "markdown",
   "metadata": {},
   "source": [
    "You have a model that fits, but for some reason your validation metrics aren’t improving at all. They remain no better than what a random classifier would achieve: your model trains, but doesn’t generalize. What’s going on?\n",
    "\n",
    "This is perhaps the **worst machine learning situation** you can find yourself in. It indicates that something is **fundamentally wrong with your approach**, and it may not be easy to tell what. Here are some tips.\n",
    "\n",
    "First, it may be that the input data you’re using simply doesn’t contain **sufficient information** to predict your targets: the problem as formulated is not solvable. This is what happened earlier when we tried to fit a MNIST model where the labels were shuffled: the model would train just fine, but validation accuracy would stay stuck at 10%, because it was plainly **impossible to generalize** with such a dataset.\n",
    "\n",
    "It may also be that the kind of model you’re using is **not suited for the problem at hand**. For instance, in chapter 10, you’ll see an example of a timeseries prediction problem where a densely-connected architecture isn’t able to beat a trivial baseline, whereas a more appropriate recurrent architecture does manage to generalize well. Using a model that makes the **right assumptions** about the problem is essential to achieve generalization: you should leverage the right **architecture priors**.\n"
   ]
  },
  {
   "cell_type": "markdown",
   "metadata": {
    "colab_type": "text"
   },
   "source": [
    "### Increasing model capacity"
   ]
  },
  {
   "cell_type": "markdown",
   "metadata": {},
   "source": [
    "If you manage to get to a model that fits, where validation metrics are going down, and that seems to achieve at least some level of generalization power, congratulations: **you’re almost there**. Next, you need to get your model to start overfitting."
   ]
  },
  {
   "cell_type": "markdown",
   "metadata": {
    "colab_type": "text"
   },
   "source": [
    "**A simple logistic regression on MNIST**"
   ]
  },
  {
   "cell_type": "markdown",
   "metadata": {},
   "source": [
    "Consider the following small model—a simple logistic regression—trained on MNIST pixels."
   ]
  },
  {
   "cell_type": "code",
   "execution_count": 32,
   "metadata": {
    "colab_type": "code"
   },
   "outputs": [],
   "source": [
    "model = keras.Sequential([layers.Dense(10, activation=\"softmax\")])\n",
    "model.compile(optimizer=\"rmsprop\",\n",
    "              loss=\"sparse_categorical_crossentropy\",\n",
    "              metrics=[\"accuracy\"])\n",
    "history_small_model = model.fit(\n",
    "    train_images, train_labels,\n",
    "    epochs=20,\n",
    "    batch_size=128,\n",
    "    validation_split=0.2,\n",
    "    verbose=0)"
   ]
  },
  {
   "cell_type": "code",
   "execution_count": 33,
   "metadata": {
    "colab_type": "code"
   },
   "outputs": [
    {
     "data": {
      "text/plain": [
       "<matplotlib.legend.Legend at 0x1a8529bd5e0>"
      ]
     },
     "execution_count": 33,
     "metadata": {},
     "output_type": "execute_result"
    },
    {
     "data": {
      "image/png": "[encoded data removed]",
      "text/plain": [
       "<Figure size 432x288 with 1 Axes>"
      ]
     },
     "metadata": {
      "needs_background": "light"
     },
     "output_type": "display_data"
    }
   ],
   "source": [
    "import matplotlib.pyplot as plt\n",
    "\n",
    "val_loss = history_small_model.history[\"val_loss\"]\n",
    "epochs = range(1, 21)\n",
    "plt.plot(epochs, val_loss, \"b--\",\n",
    "         label=\"Validation loss\")\n",
    "\n",
    "plt.title(\"Effect of insufficient model capacity on validation loss\")\n",
    "plt.xlabel(\"Epochs\")\n",
    "plt.ylabel(\"Loss\")\n",
    "plt.legend()"
   ]
  },
  {
   "cell_type": "markdown",
   "metadata": {},
   "source": [
    "Validation metrics seems to **stall, or to improve very slowly, instead of peaking and reversing course**. The validation loss goes to $0.26$ and just stays there. You can fit, but you **can’t clearly overfit**, even after many iterations over the training data. You’re likely to encounter similar curves often in your career.\n",
    "\n",
    "Remember that it should **always be possible to overfit**. Much like the problem \"the training loss doesn’t go down\", this is an issue that can always be solved. If you can’t seem to be able to overfit, it’s likely a problem with the **representational power** of your model: you’re going to need a bigger model. One with more **capacity**, that is to say, able to store more information. You can increase representational power by **adding more layers, using bigger layers** (layers with more parameters), or using kinds of layers that are more appropriate for the problem at hand (better **architecture priors**)."
   ]
  },
  {
   "cell_type": "code",
   "execution_count": 36,
   "metadata": {
    "colab_type": "code"
   },
   "outputs": [
    {
     "name": "stdout",
     "output_type": "stream",
     "text": [
      "Epoch 1/20\n",
      "375/375 [==============================] - 1s 2ms/step - loss: 0.3603 - accuracy: 0.8969 - val_loss: 0.1793 - val_accuracy: 0.9495\n",
      "Epoch 2/20\n",
      "375/375 [==============================] - 1s 2ms/step - loss: 0.1610 - accuracy: 0.9514 - val_loss: 0.1489 - val_accuracy: 0.9554\n",
      "Epoch 3/20\n",
      "375/375 [==============================] - 1s 2ms/step - loss: 0.1149 - accuracy: 0.9660 - val_loss: 0.1117 - val_accuracy: 0.9688\n",
      "Epoch 4/20\n",
      "375/375 [==============================] - 1s 2ms/step - loss: 0.0883 - accuracy: 0.9731 - val_loss: 0.1058 - val_accuracy: 0.9704\n",
      "Epoch 5/20\n",
      "375/375 [==============================] - 1s 2ms/step - loss: 0.0715 - accuracy: 0.9783 - val_loss: 0.0929 - val_accuracy: 0.9726\n",
      "Epoch 6/20\n",
      "375/375 [==============================] - 1s 2ms/step - loss: 0.0590 - accuracy: 0.9822 - val_loss: 0.0913 - val_accuracy: 0.9738\n",
      "Epoch 7/20\n",
      "375/375 [==============================] - 1s 2ms/step - loss: 0.0498 - accuracy: 0.9846 - val_loss: 0.0937 - val_accuracy: 0.9746\n",
      "Epoch 8/20\n",
      "375/375 [==============================] - 1s 2ms/step - loss: 0.0414 - accuracy: 0.9878 - val_loss: 0.0898 - val_accuracy: 0.9757\n",
      "Epoch 9/20\n",
      "375/375 [==============================] - 1s 2ms/step - loss: 0.0352 - accuracy: 0.9891 - val_loss: 0.1102 - val_accuracy: 0.9704\n",
      "Epoch 10/20\n",
      "375/375 [==============================] - 1s 2ms/step - loss: 0.0291 - accuracy: 0.9911 - val_loss: 0.0957 - val_accuracy: 0.9759\n",
      "Epoch 11/20\n",
      "375/375 [==============================] - 1s 2ms/step - loss: 0.0243 - accuracy: 0.9925 - val_loss: 0.1114 - val_accuracy: 0.9726\n",
      "Epoch 12/20\n",
      "375/375 [==============================] - 1s 2ms/step - loss: 0.0217 - accuracy: 0.9936 - val_loss: 0.1000 - val_accuracy: 0.9758\n",
      "Epoch 13/20\n",
      "375/375 [==============================] - 1s 2ms/step - loss: 0.0174 - accuracy: 0.9946 - val_loss: 0.1053 - val_accuracy: 0.9762\n",
      "Epoch 14/20\n",
      "375/375 [==============================] - 1s 2ms/step - loss: 0.0148 - accuracy: 0.9956 - val_loss: 0.1163 - val_accuracy: 0.9750\n",
      "Epoch 15/20\n",
      "375/375 [==============================] - 1s 2ms/step - loss: 0.0121 - accuracy: 0.9961 - val_loss: 0.1232 - val_accuracy: 0.9754\n",
      "Epoch 16/20\n",
      "375/375 [==============================] - 1s 2ms/step - loss: 0.0105 - accuracy: 0.9968 - val_loss: 0.1149 - val_accuracy: 0.9749\n",
      "Epoch 17/20\n",
      "375/375 [==============================] - 1s 2ms/step - loss: 0.0092 - accuracy: 0.9969 - val_loss: 0.1291 - val_accuracy: 0.9748\n",
      "Epoch 18/20\n",
      "375/375 [==============================] - 1s 2ms/step - loss: 0.0074 - accuracy: 0.9974 - val_loss: 0.1222 - val_accuracy: 0.9761\n",
      "Epoch 19/20\n",
      "375/375 [==============================] - 1s 2ms/step - loss: 0.0062 - accuracy: 0.9979 - val_loss: 0.1390 - val_accuracy: 0.9770\n",
      "Epoch 20/20\n",
      "375/375 [==============================] - 1s 2ms/step - loss: 0.0062 - accuracy: 0.9978 - val_loss: 0.1327 - val_accuracy: 0.9771\n"
     ]
    }
   ],
   "source": [
    "model = keras.Sequential([\n",
    "    layers.Dense(96, activation=\"relu\"),\n",
    "    layers.Dense(96, activation=\"relu\"),\n",
    "    layers.Dense(10, activation=\"softmax\"),\n",
    "])\n",
    "model.compile(optimizer=\"rmsprop\",\n",
    "              loss=\"sparse_categorical_crossentropy\",\n",
    "              metrics=[\"accuracy\"])\n",
    "history_large_model = model.fit(\n",
    "    train_images, train_labels,\n",
    "    epochs=20,\n",
    "    batch_size=128,\n",
    "    validation_split=0.2)"
   ]
  },
  {
   "cell_type": "code",
   "execution_count": 38,
   "metadata": {},
   "outputs": [
    {
     "data": {
      "text/plain": [
       "<matplotlib.legend.Legend at 0x1a85b862640>"
      ]
     },
     "execution_count": 38,
     "metadata": {},
     "output_type": "execute_result"
    },
    {
     "data": {
      "image/png": "[encoded data removed]",
      "text/plain": [
       "<Figure size 432x288 with 1 Axes>"
      ]
     },
     "metadata": {
      "needs_background": "light"
     },
     "output_type": "display_data"
    }
   ],
   "source": [
    "import matplotlib.pyplot as plt\n",
    "\n",
    "val_loss = history_large_model.history[\"val_loss\"]\n",
    "epochs = range(1, 21)\n",
    "plt.plot(epochs, val_loss, \"b--\",\n",
    "         label=\"Validation loss\")\n",
    "\n",
    "plt.title(\"Effect of sufficient model capacity on validation loss\")\n",
    "plt.xlabel(\"Epochs\")\n",
    "plt.ylabel(\"Loss\")\n",
    "plt.legend()"
   ]
  },
  {
   "cell_type": "markdown",
   "metadata": {
    "colab_type": "text"
   },
   "source": [
    "## Improving generalization"
   ]
  },
  {
   "cell_type": "markdown",
   "metadata": {},
   "source": [
    "Once your model has shown to have some generalization power and to be able to overfit, it’s time to switch your focus towards **maximizing generalization**."
   ]
  },
  {
   "cell_type": "markdown",
   "metadata": {
    "colab_type": "text"
   },
   "source": [
    "### Dataset curation"
   ]
  },
  {
   "cell_type": "markdown",
   "metadata": {},
   "source": [
    "As such, it is essential that you make sure that you’re working with an appropriate dataset. Spending more effort and money on data collection almost always yields a much greater return on investment than spending the same on developing a better model.\n",
    "\n",
    "- Make sure you have **enough data**. Remember that you need a **dense sampling of the input-cross-output space**. More data will yield a better model. Sometimes, problems that seem impossible at first become solvable with a larger dataset.\n",
    "- **Minimize labeling errors**—visualize your inputs to check for anomalies, and proof-read your labels.\n",
    "- Clean your data and deal with missing values (we cover this in the next chapter).\n",
    "- If you have many features and you aren’t sure which ones are actually useful, do **feature selection**.\n",
    "\n",
    "A particularly important way you can improve the generalization potential of your data is **feature engineering**. For most machine learning problems, feature engineering is a key ingredient for success. Let’s take a look."
   ]
  },
  {
   "cell_type": "markdown",
   "metadata": {
    "colab_type": "text"
   },
   "source": [
    "### Feature engineering"
   ]
  },
  {
   "cell_type": "markdown",
   "metadata": {},
   "source": [
    "Let’s look at an intuitive example. Suppose you’re trying to develop a model that can take as input an image of a clock and can output the time of day\n",
    "\n",
    "![](https://drek4537l1klr.cloudfront.net/chollet2/v-7/Figures/clock_diagram.png)"
   ]
  },
  {
   "cell_type": "markdown",
   "metadata": {},
   "source": [
    "That’s the essence of feature engineering: making a problem **easier by expressing it in a simpler way**. Make the latent manifold smoother, simpler, better-organized. It usually requires understanding the problem in depth.\n",
    "\n",
    "Before deep learning, feature engineering used to be the most important part of the machine learning workflow, because **classical shallow algorithms didn’t have hypothesis spaces rich enough to learn useful features** by themselves. The way you presented the data to the algorithm was absolutely critical to its success. For instance, before convolutional neural networks became successful on the MNIST digit-classification problem, solutions were typically based on hardcoded features such as the number of loops in a digit image, the height of each digit in an image, a histogram of pixel values, and so on.\n",
    "\n",
    "Fortunately, modern deep learning **removes the need for most feature engineering**, because neural networks are capable of **automatically extracting useful features** from raw data. Does this mean you don’t have to worry about feature engineering as long as you’re using deep neural networks? No, for two reasons:\n",
    "\n",
    "- Good features still allow you to **solve problems more elegantly** while using fewer resources. For instance, it would be ridiculous to solve the problem of reading a clock face using a convolutional neural network.\n",
    "- Good features let you solve a problem with **far less data**. The ability of deep-learning models to learn features on their own relies on having lots of training data available; if you have only a few samples, then the information value in their features becomes critical."
   ]
  },
  {
   "cell_type": "markdown",
   "metadata": {
    "colab_type": "text"
   },
   "source": [
    "### Using early stopping"
   ]
  },
  {
   "cell_type": "markdown",
   "metadata": {},
   "source": [
    "In deep learning, we always use models that are vastly **over-parameterized**: they have way more degrees of freedom than the minimum necessary to fit to the latent manifold of the data. This over-parameterization is not an issue, because you never fully fit a deep learning model. Such a fit wouldn’t generalize at all. You will always interrupt training long before you’ve reached the minimum possible training loss.\n",
    "\n",
    "Finding the exact point during training where you’ve reached the most generalizable fit—the exact boundary between an underfit curve and an overfit curve—is one of the most effective things you can do to improve generalization.\n",
    "\n",
    "In the examples from the previous chapter, we would start by training our models for longer than needed to figure out the number of epochs that yielded the best validation metrics, then we would re-train a new model for exactly that number of epochs. This is pretty standard. However, it requires you to do redundant work, which can sometimes be expensive. Naturally, you could just save your model at the end of each epoch, then once you’ve found the best epoch, reuse the closest saved model you have. In Keras, it’s typical to do this with an `EarlyStopping` callback, which will interrupt training as soon as validation metrics have stopped improving, while remembering the best known model state.\n"
   ]
  },
  {
   "cell_type": "markdown",
   "metadata": {
    "colab_type": "text"
   },
   "source": [
    "### Regularizing your model"
   ]
  },
  {
   "cell_type": "markdown",
   "metadata": {},
   "source": [
    "Regularization techniques are a set of best practices that actively impede the model’s ability to fit perfectly to the training data, with the **goal of making the model perform better during validation**. This is called \"regularizing\" the model, because it tends to make the model **simpler, more \"regular\", its curve smoother, more \"generic\"** —thus less specific to the training set and better able to generalize by more closely approximating the latent manifold of the data.\n",
    "\n",
    "Keep in mind that \"regularizing\" a model is a process that should always be guided by an accurate evaluation procedure. You will only achieve generalization if you can measure it.\n"
   ]
  },
  {
   "cell_type": "markdown",
   "metadata": {
    "colab_type": "text"
   },
   "source": [
    "#### Reducing the network's size"
   ]
  },
  {
   "cell_type": "markdown",
   "metadata": {},
   "source": [
    "You’ve already learned that a model that is too small will not overfit. The simplest way to **mitigate overfitting is to reduce the size of the model** (the number of learnable parameters in the model, determined by the number of layers and the number of units per layer). If the model has **limited memorization resources**, it won’t be able to simply memorize its training data; thus, in order to minimize its loss, it will have to resort to learning compressed representations that have predictive power regarding the targets—precisely the type of representations we’re interested in. At the same time, keep in mind that you should use models that have enough parameters that they don’t underfit: your model shouldn’t be starved for memorization resources. There is a compromise to be found between too much capacity and not enough capacity.\n",
    "\n",
    "Unfortunately, **there is no magical formula to determine the right number of layers or the right size for each layer**. You must evaluate an array of different architectures (on your validation set, not on your test set, of course) in order to find the correct model size for your data. The general workflow to find an appropriate model size is to start with relatively few layers and parameters, and increase the size of the layers or add new layers until you see diminishing returns with regard to validation loss.\n"
   ]
  },
  {
   "cell_type": "markdown",
   "metadata": {
    "colab_type": "text"
   },
   "source": [
    "**Original model**"
   ]
  },
  {
   "cell_type": "code",
   "execution_count": 43,
   "metadata": {
    "colab_type": "code"
   },
   "outputs": [
    {
     "name": "stdout",
     "output_type": "stream",
     "text": [
      "Epoch 1/20\n",
      "30/30 [==============================] - 2s 18ms/step - loss: 0.5207 - accuracy: 0.7835 - val_loss: 0.3897 - val_accuracy: 0.8725\n",
      "Epoch 2/20\n",
      "30/30 [==============================] - 0s 9ms/step - loss: 0.3143 - accuracy: 0.9011 - val_loss: 0.3080 - val_accuracy: 0.8879\n",
      "Epoch 3/20\n",
      "30/30 [==============================] - 0s 9ms/step - loss: 0.2297 - accuracy: 0.9274 - val_loss: 0.2950 - val_accuracy: 0.8807\n",
      "Epoch 4/20\n",
      "30/30 [==============================] - 0s 9ms/step - loss: 0.1806 - accuracy: 0.9421 - val_loss: 0.2733 - val_accuracy: 0.8936\n",
      "Epoch 5/20\n",
      "30/30 [==============================] - 0s 9ms/step - loss: 0.1480 - accuracy: 0.9532 - val_loss: 0.3035 - val_accuracy: 0.8825\n",
      "Epoch 6/20\n",
      "30/30 [==============================] - 0s 9ms/step - loss: 0.1206 - accuracy: 0.9628 - val_loss: 0.3162 - val_accuracy: 0.8803\n",
      "Epoch 7/20\n",
      "30/30 [==============================] - 0s 9ms/step - loss: 0.1008 - accuracy: 0.9705 - val_loss: 0.3210 - val_accuracy: 0.8826\n",
      "Epoch 8/20\n",
      "30/30 [==============================] - 0s 9ms/step - loss: 0.0849 - accuracy: 0.9758 - val_loss: 0.3321 - val_accuracy: 0.8841\n",
      "Epoch 9/20\n",
      "30/30 [==============================] - 0s 9ms/step - loss: 0.0714 - accuracy: 0.9798 - val_loss: 0.3559 - val_accuracy: 0.8800\n",
      "Epoch 10/20\n",
      "30/30 [==============================] - 0s 9ms/step - loss: 0.0547 - accuracy: 0.9866 - val_loss: 0.4096 - val_accuracy: 0.8715\n",
      "Epoch 11/20\n",
      "30/30 [==============================] - 0s 9ms/step - loss: 0.0493 - accuracy: 0.9875 - val_loss: 0.4067 - val_accuracy: 0.8762\n",
      "Epoch 12/20\n",
      "30/30 [==============================] - 0s 9ms/step - loss: 0.0389 - accuracy: 0.9904 - val_loss: 0.4372 - val_accuracy: 0.8744\n",
      "Epoch 13/20\n",
      "30/30 [==============================] - 0s 9ms/step - loss: 0.0309 - accuracy: 0.9937 - val_loss: 0.4835 - val_accuracy: 0.8702\n",
      "Epoch 14/20\n",
      "30/30 [==============================] - 0s 9ms/step - loss: 0.0262 - accuracy: 0.9938 - val_loss: 0.4972 - val_accuracy: 0.8713\n",
      "Epoch 15/20\n",
      "30/30 [==============================] - 0s 9ms/step - loss: 0.0224 - accuracy: 0.9951 - val_loss: 0.5343 - val_accuracy: 0.8686\n",
      "Epoch 16/20\n",
      "30/30 [==============================] - 0s 9ms/step - loss: 0.0138 - accuracy: 0.9982 - val_loss: 0.5651 - val_accuracy: 0.8692\n",
      "Epoch 17/20\n",
      "30/30 [==============================] - 0s 9ms/step - loss: 0.0154 - accuracy: 0.9967 - val_loss: 0.5992 - val_accuracy: 0.8678\n",
      "Epoch 18/20\n",
      "30/30 [==============================] - 0s 10ms/step - loss: 0.0099 - accuracy: 0.9992 - val_loss: 0.6392 - val_accuracy: 0.8669\n",
      "Epoch 19/20\n",
      "30/30 [==============================] - 0s 10ms/step - loss: 0.0089 - accuracy: 0.9987 - val_loss: 0.6704 - val_accuracy: 0.8648\n",
      "Epoch 20/20\n",
      "30/30 [==============================] - 0s 8ms/step - loss: 0.0081 - accuracy: 0.9985 - val_loss: 0.7039 - val_accuracy: 0.8643\n"
     ]
    }
   ],
   "source": [
    "import numpy as np\n",
    "\n",
    "from tensorflow.keras.datasets import imdb\n",
    "from tensorflow.keras.utils import to_categorical\n",
    "(train_data, train_labels), _ = imdb.load_data(num_words=10000)\n",
    "\n",
    "def vectorize_sequences(sequences, dimension=10000):\n",
    "    results = np.zeros((len(sequences), dimension))\n",
    "    for i, sequence in enumerate(sequences):\n",
    "        results[i, sequence] = 1.\n",
    "    return results\n",
    "train_data = vectorize_sequences(train_data)\n",
    "\n",
    "model = keras.Sequential([\n",
    "    layers.Dense(16, activation=\"relu\"),\n",
    "    layers.Dense(16, activation=\"relu\"),\n",
    "    layers.Dense(1, activation=\"sigmoid\")\n",
    "])\n",
    "model.compile(optimizer=\"rmsprop\",\n",
    "              loss=\"binary_crossentropy\",\n",
    "              metrics=[\"accuracy\"])\n",
    "history_original = model.fit(train_data, train_labels,\n",
    "                             epochs=20, batch_size=512, validation_split=0.4)"
   ]
  },
  {
   "cell_type": "markdown",
   "metadata": {
    "colab_type": "text"
   },
   "source": [
    "**Version of the model with lower capacity**"
   ]
  },
  {
   "cell_type": "code",
   "execution_count": 44,
   "metadata": {
    "colab_type": "code"
   },
   "outputs": [
    {
     "name": "stdout",
     "output_type": "stream",
     "text": [
      "Epoch 1/20\n",
      "30/30 [==============================] - 1s 16ms/step - loss: 0.6275 - accuracy: 0.6468 - val_loss: 0.5727 - val_accuracy: 0.7355\n",
      "Epoch 2/20\n",
      "30/30 [==============================] - 0s 8ms/step - loss: 0.5274 - accuracy: 0.7985 - val_loss: 0.5330 - val_accuracy: 0.7376\n",
      "Epoch 3/20\n",
      "30/30 [==============================] - 0s 10ms/step - loss: 0.4700 - accuracy: 0.8651 - val_loss: 0.4921 - val_accuracy: 0.8035\n",
      "Epoch 4/20\n",
      "30/30 [==============================] - 0s 8ms/step - loss: 0.4068 - accuracy: 0.9102 - val_loss: 0.4227 - val_accuracy: 0.8742\n",
      "Epoch 5/20\n",
      "30/30 [==============================] - 0s 9ms/step - loss: 0.3398 - accuracy: 0.9303 - val_loss: 0.3827 - val_accuracy: 0.8743\n",
      "Epoch 6/20\n",
      "30/30 [==============================] - 0s 8ms/step - loss: 0.2775 - accuracy: 0.9413 - val_loss: 0.3402 - val_accuracy: 0.8845\n",
      "Epoch 7/20\n",
      "30/30 [==============================] - 0s 8ms/step - loss: 0.2274 - accuracy: 0.9504 - val_loss: 0.3093 - val_accuracy: 0.8888\n",
      "Epoch 8/20\n",
      "30/30 [==============================] - 0s 9ms/step - loss: 0.1884 - accuracy: 0.9574 - val_loss: 0.2974 - val_accuracy: 0.8869\n",
      "Epoch 9/20\n",
      "30/30 [==============================] - 0s 8ms/step - loss: 0.1598 - accuracy: 0.9623 - val_loss: 0.3057 - val_accuracy: 0.8811\n",
      "Epoch 10/20\n",
      "30/30 [==============================] - 0s 8ms/step - loss: 0.1385 - accuracy: 0.9669 - val_loss: 0.3003 - val_accuracy: 0.8809\n",
      "Epoch 11/20\n",
      "30/30 [==============================] - 0s 8ms/step - loss: 0.1219 - accuracy: 0.9707 - val_loss: 0.2936 - val_accuracy: 0.8868\n",
      "Epoch 12/20\n",
      "30/30 [==============================] - 0s 9ms/step - loss: 0.1083 - accuracy: 0.9739 - val_loss: 0.3066 - val_accuracy: 0.8852\n",
      "Epoch 13/20\n",
      "30/30 [==============================] - 0s 8ms/step - loss: 0.0962 - accuracy: 0.9777 - val_loss: 0.3391 - val_accuracy: 0.8754\n",
      "Epoch 14/20\n",
      "30/30 [==============================] - 0s 9ms/step - loss: 0.0874 - accuracy: 0.9797 - val_loss: 0.3171 - val_accuracy: 0.8835\n",
      "Epoch 15/20\n",
      "30/30 [==============================] - 0s 8ms/step - loss: 0.0772 - accuracy: 0.9828 - val_loss: 0.3343 - val_accuracy: 0.8815\n",
      "Epoch 16/20\n",
      "30/30 [==============================] - 0s 8ms/step - loss: 0.0700 - accuracy: 0.9844 - val_loss: 0.3481 - val_accuracy: 0.8780\n",
      "Epoch 17/20\n",
      "30/30 [==============================] - 0s 11ms/step - loss: 0.0621 - accuracy: 0.9869 - val_loss: 0.3568 - val_accuracy: 0.8799\n",
      "Epoch 18/20\n",
      "30/30 [==============================] - 0s 8ms/step - loss: 0.0567 - accuracy: 0.9875 - val_loss: 0.3709 - val_accuracy: 0.8778\n",
      "Epoch 19/20\n",
      "30/30 [==============================] - 0s 8ms/step - loss: 0.0508 - accuracy: 0.9901 - val_loss: 0.3873 - val_accuracy: 0.8777\n",
      "Epoch 20/20\n",
      "30/30 [==============================] - 0s 8ms/step - loss: 0.0452 - accuracy: 0.9914 - val_loss: 0.4052 - val_accuracy: 0.8765\n"
     ]
    }
   ],
   "source": [
    "model = keras.Sequential([\n",
    "    layers.Dense(4, activation=\"relu\"),\n",
    "    layers.Dense(4, activation=\"relu\"),\n",
    "    layers.Dense(1, activation=\"sigmoid\")\n",
    "])\n",
    "model.compile(optimizer=\"rmsprop\",\n",
    "              loss=\"binary_crossentropy\",\n",
    "              metrics=[\"accuracy\"])\n",
    "history_smaller_model = model.fit(\n",
    "    train_data, train_labels,\n",
    "    epochs=20, batch_size=512, validation_split=0.4)"
   ]
  },
  {
   "cell_type": "markdown",
   "metadata": {
    "colab_type": "text"
   },
   "source": [
    "**Version of the model with higher capacity**"
   ]
  },
  {
   "cell_type": "code",
   "execution_count": 49,
   "metadata": {
    "colab_type": "code"
   },
   "outputs": [
    {
     "name": "stdout",
     "output_type": "stream",
     "text": [
      "Epoch 1/20\n",
      "30/30 [==============================] - 3s 78ms/step - loss: 0.5584 - accuracy: 0.7409 - val_loss: 0.4829 - val_accuracy: 0.7798\n",
      "Epoch 2/20\n",
      "30/30 [==============================] - 2s 69ms/step - loss: 0.2472 - accuracy: 0.9023 - val_loss: 0.4801 - val_accuracy: 0.8127\n",
      "Epoch 3/20\n",
      "30/30 [==============================] - 2s 72ms/step - loss: 0.1721 - accuracy: 0.9330 - val_loss: 0.3044 - val_accuracy: 0.8844\n",
      "Epoch 4/20\n",
      "30/30 [==============================] - 2s 69ms/step - loss: 0.0775 - accuracy: 0.9733 - val_loss: 0.3638 - val_accuracy: 0.8902\n",
      "Epoch 5/20\n",
      "30/30 [==============================] - 2s 69ms/step - loss: 0.0544 - accuracy: 0.9820 - val_loss: 0.4051 - val_accuracy: 0.8891\n",
      "Epoch 6/20\n",
      "30/30 [==============================] - 2s 68ms/step - loss: 0.0627 - accuracy: 0.9855 - val_loss: 0.3449 - val_accuracy: 0.8803\n",
      "Epoch 7/20\n",
      "30/30 [==============================] - 2s 68ms/step - loss: 0.0038 - accuracy: 0.9999 - val_loss: 0.5430 - val_accuracy: 0.8860\n",
      "Epoch 8/20\n",
      "30/30 [==============================] - 2s 69ms/step - loss: 3.3542e-04 - accuracy: 1.0000 - val_loss: 0.6443 - val_accuracy: 0.8862\n",
      "Epoch 9/20\n",
      "30/30 [==============================] - 2s 68ms/step - loss: 6.7726e-05 - accuracy: 1.0000 - val_loss: 0.7422 - val_accuracy: 0.8851\n",
      "Epoch 10/20\n",
      "30/30 [==============================] - 2s 68ms/step - loss: 1.4140e-05 - accuracy: 1.0000 - val_loss: 0.8450 - val_accuracy: 0.8840\n",
      "Epoch 11/20\n",
      "30/30 [==============================] - 2s 68ms/step - loss: 3.2498e-06 - accuracy: 1.0000 - val_loss: 0.9975 - val_accuracy: 0.8831\n",
      "Epoch 12/20\n",
      "30/30 [==============================] - 2s 69ms/step - loss: 1.0748e-06 - accuracy: 1.0000 - val_loss: 1.0189 - val_accuracy: 0.8839\n",
      "Epoch 13/20\n",
      "30/30 [==============================] - 2s 68ms/step - loss: 3.0166e-07 - accuracy: 1.0000 - val_loss: 1.0964 - val_accuracy: 0.8838\n",
      "Epoch 14/20\n",
      "30/30 [==============================] - 2s 69ms/step - loss: 1.1386e-07 - accuracy: 1.0000 - val_loss: 1.1715 - val_accuracy: 0.8840\n",
      "Epoch 15/20\n",
      "30/30 [==============================] - 2s 68ms/step - loss: 4.9091e-08 - accuracy: 1.0000 - val_loss: 1.2211 - val_accuracy: 0.8839\n",
      "Epoch 16/20\n",
      "30/30 [==============================] - 2s 68ms/step - loss: 2.7508e-08 - accuracy: 1.0000 - val_loss: 1.2505 - val_accuracy: 0.8846\n",
      "Epoch 17/20\n",
      "30/30 [==============================] - 2s 69ms/step - loss: 1.8416e-08 - accuracy: 1.0000 - val_loss: 1.2730 - val_accuracy: 0.8846\n",
      "Epoch 18/20\n",
      "30/30 [==============================] - 2s 67ms/step - loss: 1.3850e-08 - accuracy: 1.0000 - val_loss: 1.2916 - val_accuracy: 0.8845\n",
      "Epoch 19/20\n",
      "30/30 [==============================] - 2s 70ms/step - loss: 1.1056e-08 - accuracy: 1.0000 - val_loss: 1.3048 - val_accuracy: 0.8845\n",
      "Epoch 20/20\n",
      "30/30 [==============================] - 2s 67ms/step - loss: 9.2084e-09 - accuracy: 1.0000 - val_loss: 1.3159 - val_accuracy: 0.8844\n"
     ]
    }
   ],
   "source": [
    "model = keras.Sequential([\n",
    "    layers.Dense(512, activation=\"relu\"),\n",
    "    layers.Dense(512, activation=\"relu\"),\n",
    "    layers.Dense(1, activation=\"sigmoid\")\n",
    "])\n",
    "model.compile(optimizer=\"rmsprop\",\n",
    "              loss=\"binary_crossentropy\",\n",
    "              metrics=[\"accuracy\"])\n",
    "history_larger_model = model.fit(\n",
    "    train_data, train_labels,\n",
    "    epochs=20, batch_size=512, validation_split=0.4)"
   ]
  },
  {
   "cell_type": "code",
   "execution_count": 62,
   "metadata": {},
   "outputs": [
    {
     "data": {
      "text/plain": [
       "Text(0.5, 1.0, 'Impact of model size on validation accuracy')"
      ]
     },
     "execution_count": 62,
     "metadata": {},
     "output_type": "execute_result"
    },
    {
     "data": {
      "image/png": "[encoded data removed]",
      "text/plain": [
       "<Figure size 1080x360 with 3 Axes>"
      ]
     },
     "metadata": {
      "needs_background": "light"
     },
     "output_type": "display_data"
    }
   ],
   "source": [
    "import matplotlib.pyplot as plt\n",
    "\n",
    "fig, ax = plt.subplots(1,3, figsize=(15,5))\n",
    "\n",
    "epochs = range(1, 21)\n",
    "\n",
    "ax[0].plot(epochs, history_original.history[\"loss\"], label=\"Training loss orig\")\n",
    "ax[0].plot(epochs, history_smaller_model.history[\"loss\"], label=\"Training loss smaller model\")\n",
    "ax[0].plot(epochs, history_larger_model.history[\"loss\"], label=\"Training loss larger model\")\n",
    "ax[0].legend()\n",
    "ax[0].set_xlabel(\"Epochs\")\n",
    "ax[0].set_ylabel(\"Loss\")\n",
    "ax[0].set_title(\"Impact of model size on training loss\")\n",
    "\n",
    "ax[1].plot(epochs, history_original.history[\"val_loss\"], label=\"Validation loss orig\")\n",
    "ax[1].plot(epochs, history_smaller_model.history[\"val_loss\"], label=\"Validation loss smaller model\")\n",
    "ax[1].plot(epochs, history_larger_model.history[\"val_loss\"], label=\"Validation loss larger model\")\n",
    "ax[1].legend()\n",
    "ax[1].set_xlabel(\"Epochs\")\n",
    "ax[1].set_ylabel(\"Loss\")\n",
    "ax[1].set_title(\"Impact of model size on validation loss\")\n",
    "\n",
    "ax[2].plot(epochs, history_original.history[\"val_accuracy\"], label=\"Validation accuracy orig\")\n",
    "ax[2].plot(epochs, history_smaller_model.history[\"val_accuracy\"], label=\"Validation accuracy smaller model\")\n",
    "ax[2].plot(epochs, history_larger_model.history[\"val_accuracy\"], label=\"Validation accuracy larger model\")\n",
    "ax[2].legend()\n",
    "ax[2].set_xlabel(\"Epochs\")\n",
    "ax[2].set_ylabel(\"Loss\")\n",
    "ax[2].set_title(\"Impact of model size on validation accuracy\")"
   ]
  },
  {
   "cell_type": "markdown",
   "metadata": {
    "colab_type": "text"
   },
   "source": [
    "#### Adding weight regularization"
   ]
  },
  {
   "cell_type": "markdown",
   "metadata": {},
   "source": [
    "You may be familiar with the principle of **Occam’s razor**: given two explanations for something, the explanation most likely to be correct is the simplest one—the one that makes fewer assumptions. This idea also applies to the models learned by neural networks: given some training data and a network architecture, multiple sets of weight values (multiple models) could explain the data. **Simpler models are less likely to overfit than complex ones**.\n",
    "\n",
    "A simple model in this context is a model where the distribution of parameter values has less entropy (or a model with fewer parameters, as you saw in the previous section). Thus a common way to mitigate overfitting is to put **constraints on the complexity of a model** by forcing its weights to take only small values, which makes the distribution of weight values more regular. This is called **weight regularization**, and it’s done by adding to the loss function of the model a cost associated with having large weights. This cost comes in two flavors:\n",
    "\n",
    "- **L1 regularization** — The cost added is proportional to the **absolute value** of the weight coefficients (the L1 norm of the weights).\n",
    "- **L2 regularization** — The cost added is proportional to the **square of the value** of the weight coefficients (the L2 norm of the weights). L2 regularization is also called **weight decay** in the context of neural networks. Don’t let the different name confuse you: weight decay is mathematically the same as L2 regularization.\n",
    "\n",
    "In Keras, weight regularization is added by passing weight regularizer instances to layers as keyword arguments. Let’s add L2 weight regularization to the movie-review classification model.\n"
   ]
  },
  {
   "cell_type": "markdown",
   "metadata": {
    "colab_type": "text"
   },
   "source": [
    "**Adding L2 weight regularization to the model**"
   ]
  },
  {
   "cell_type": "code",
   "execution_count": 63,
   "metadata": {
    "colab_type": "code"
   },
   "outputs": [
    {
     "name": "stdout",
     "output_type": "stream",
     "text": [
      "Epoch 1/20\n",
      "30/30 [==============================] - 1s 20ms/step - loss: 0.6010 - accuracy: 0.7915 - val_loss: 0.4724 - val_accuracy: 0.8731\n",
      "Epoch 2/20\n",
      "30/30 [==============================] - 0s 10ms/step - loss: 0.4113 - accuracy: 0.8939 - val_loss: 0.4086 - val_accuracy: 0.8759\n",
      "Epoch 3/20\n",
      "30/30 [==============================] - 0s 9ms/step - loss: 0.3460 - accuracy: 0.9126 - val_loss: 0.3743 - val_accuracy: 0.8853\n",
      "Epoch 4/20\n",
      "30/30 [==============================] - 0s 9ms/step - loss: 0.3110 - accuracy: 0.9213 - val_loss: 0.3625 - val_accuracy: 0.8906\n",
      "Epoch 5/20\n",
      "30/30 [==============================] - 0s 9ms/step - loss: 0.2906 - accuracy: 0.9305 - val_loss: 0.3653 - val_accuracy: 0.8852\n",
      "Epoch 6/20\n",
      "30/30 [==============================] - 0s 9ms/step - loss: 0.2774 - accuracy: 0.9323 - val_loss: 0.3659 - val_accuracy: 0.8859\n",
      "Epoch 7/20\n",
      "30/30 [==============================] - 0s 9ms/step - loss: 0.2642 - accuracy: 0.9390 - val_loss: 0.3753 - val_accuracy: 0.8804\n",
      "Epoch 8/20\n",
      "30/30 [==============================] - 0s 9ms/step - loss: 0.2584 - accuracy: 0.9410 - val_loss: 0.3781 - val_accuracy: 0.8792\n",
      "Epoch 9/20\n",
      "30/30 [==============================] - 0s 9ms/step - loss: 0.2494 - accuracy: 0.9445 - val_loss: 0.4024 - val_accuracy: 0.8702\n",
      "Epoch 10/20\n",
      "30/30 [==============================] - 0s 9ms/step - loss: 0.2455 - accuracy: 0.9452 - val_loss: 0.3775 - val_accuracy: 0.8805\n",
      "Epoch 11/20\n",
      "30/30 [==============================] - 0s 9ms/step - loss: 0.2418 - accuracy: 0.9449 - val_loss: 0.3791 - val_accuracy: 0.8803\n",
      "Epoch 12/20\n",
      "30/30 [==============================] - 0s 10ms/step - loss: 0.2344 - accuracy: 0.9488 - val_loss: 0.4144 - val_accuracy: 0.8701\n",
      "Epoch 13/20\n",
      "30/30 [==============================] - 0s 9ms/step - loss: 0.2358 - accuracy: 0.9468 - val_loss: 0.3891 - val_accuracy: 0.8778\n",
      "Epoch 14/20\n",
      "30/30 [==============================] - 0s 9ms/step - loss: 0.2248 - accuracy: 0.9529 - val_loss: 0.3871 - val_accuracy: 0.8781\n",
      "Epoch 15/20\n",
      "30/30 [==============================] - 0s 9ms/step - loss: 0.2232 - accuracy: 0.9511 - val_loss: 0.4339 - val_accuracy: 0.8627\n",
      "Epoch 16/20\n",
      "30/30 [==============================] - 0s 9ms/step - loss: 0.2208 - accuracy: 0.9548 - val_loss: 0.4320 - val_accuracy: 0.8686\n",
      "Epoch 17/20\n",
      "30/30 [==============================] - 0s 9ms/step - loss: 0.2162 - accuracy: 0.9553 - val_loss: 0.4101 - val_accuracy: 0.8749\n",
      "Epoch 18/20\n",
      "30/30 [==============================] - 0s 9ms/step - loss: 0.2122 - accuracy: 0.9571 - val_loss: 0.4286 - val_accuracy: 0.8712\n",
      "Epoch 19/20\n",
      "30/30 [==============================] - 0s 9ms/step - loss: 0.2115 - accuracy: 0.9580 - val_loss: 0.4390 - val_accuracy: 0.8650\n",
      "Epoch 20/20\n",
      "30/30 [==============================] - 0s 9ms/step - loss: 0.2069 - accuracy: 0.9612 - val_loss: 0.4107 - val_accuracy: 0.8755\n"
     ]
    }
   ],
   "source": [
    "from tensorflow.keras import regularizers, layers\n",
    "from tensorflow import keras\n",
    "\n",
    "model = keras.Sequential([\n",
    "    layers.Dense(16,\n",
    "                 kernel_regularizer=regularizers.l2(0.002),\n",
    "                 activation=\"relu\"),\n",
    "    layers.Dense(16,\n",
    "                 kernel_regularizer=regularizers.l2(0.002),\n",
    "                 activation=\"relu\"),\n",
    "    layers.Dense(1, activation=\"sigmoid\")\n",
    "])\n",
    "model.compile(optimizer=\"rmsprop\",\n",
    "              loss=\"binary_crossentropy\",\n",
    "              metrics=[\"accuracy\"])\n",
    "history_l2_reg = model.fit(\n",
    "    train_data, train_labels,\n",
    "    epochs=20, batch_size=512, validation_split=0.4)"
   ]
  },
  {
   "cell_type": "markdown",
   "metadata": {},
   "source": [
    "`l2(0.002)` means every coefficient in the weight matrix of the layer will add `0.002 * weight_coefficient_value ** 2` to the total loss of the model. Note that because this penalty is only added at training time, the loss for this model will be much higher at training than at test time.\n",
    "\n",
    "![](https://drek4537l1klr.cloudfront.net/chollet2/v-7/Figures/original_model_vs_l2_regularized_model_imdb.png)"
   ]
  },
  {
   "cell_type": "markdown",
   "metadata": {
    "colab_type": "text"
   },
   "source": [
    "**Different weight regularizers available in Keras**"
   ]
  },
  {
   "cell_type": "markdown",
   "metadata": {},
   "source": [
    "Note that weight regularization is more typically used for **smaller deep learning models**. Large deep learning models tend to be so over-parameterized that imposing constraints on weight values hasn’t much impact on model capacity and generalization. In these cases, a different regularization technique is preferred: dropout."
   ]
  },
  {
   "cell_type": "code",
   "execution_count": 0,
   "metadata": {
    "colab_type": "code"
   },
   "outputs": [],
   "source": [
    "from keras import regularizers\n",
    "\n",
    "regularizers.l1(0.001)\n",
    "regularizers.l1_l2(l1=0.001, l2=0.001)"
   ]
  },
  {
   "cell_type": "markdown",
   "metadata": {
    "colab_type": "text"
   },
   "source": [
    "#### Adding dropout"
   ]
  },
  {
   "cell_type": "markdown",
   "metadata": {},
   "source": [
    "**Dropout** is one of the most effective and most commonly used regularization techniques for neural networks, developed by Geoff Hinton and his students at the University of Toronto. Dropout, applied to a layer, consists of randomly dropping out (setting to zero) a number of output features of the layer during training. Let’s say a given layer would normally return a vector `[0.2, 0.5, 1.3, 0.8, 1.1]` for a given input sample during training. After applying dropout, this vector will have a few zero entries distributed at random: for example, `[0, 0.5, 1.3, 0, 1.1]`. The **dropout rate** is the fraction of the features that are zeroed out; it’s usually set between $0.2$ and $0.5$. At test time, no units are dropped out; instead, the layer’s output values are scaled down by a factor equal to the dropout rate, to balance for the fact that more units are active than at training time.\n",
    "\n",
    "![](https://drek4537l1klr.cloudfront.net/chollet2/v-7/Figures/dropout.png)"
   ]
  },
  {
   "cell_type": "markdown",
   "metadata": {
    "colab_type": "text"
   },
   "source": [
    "**Adding dropout to the IMDB model**"
   ]
  },
  {
   "cell_type": "markdown",
   "metadata": {},
   "source": [
    "In Keras, you can introduce dropout in a model via the `Dropout` layer, which is applied to the output of the layer right before it. Let’s add two Dropout layers in the IMDB model to see how well they do at reducing overfitting."
   ]
  },
  {
   "cell_type": "code",
   "execution_count": 64,
   "metadata": {
    "colab_type": "code"
   },
   "outputs": [
    {
     "name": "stdout",
     "output_type": "stream",
     "text": [
      "Epoch 1/20\n",
      "30/30 [==============================] - 1s 18ms/step - loss: 0.6182 - accuracy: 0.6493 - val_loss: 0.4793 - val_accuracy: 0.8506\n",
      "Epoch 2/20\n",
      "30/30 [==============================] - 0s 9ms/step - loss: 0.4834 - accuracy: 0.7799 - val_loss: 0.3791 - val_accuracy: 0.8745\n",
      "Epoch 3/20\n",
      "30/30 [==============================] - 0s 9ms/step - loss: 0.3970 - accuracy: 0.8339 - val_loss: 0.3161 - val_accuracy: 0.8853\n",
      "Epoch 4/20\n",
      "30/30 [==============================] - 0s 10ms/step - loss: 0.3423 - accuracy: 0.8621 - val_loss: 0.3065 - val_accuracy: 0.8771\n",
      "Epoch 5/20\n",
      "30/30 [==============================] - 0s 10ms/step - loss: 0.3001 - accuracy: 0.8842 - val_loss: 0.2978 - val_accuracy: 0.8770\n",
      "Epoch 6/20\n",
      "30/30 [==============================] - 0s 10ms/step - loss: 0.2602 - accuracy: 0.9031 - val_loss: 0.2831 - val_accuracy: 0.8848\n",
      "Epoch 7/20\n",
      "30/30 [==============================] - 0s 10ms/step - loss: 0.2366 - accuracy: 0.9131 - val_loss: 0.2772 - val_accuracy: 0.8924\n",
      "Epoch 8/20\n",
      "30/30 [==============================] - 0s 10ms/step - loss: 0.2010 - accuracy: 0.9311 - val_loss: 0.2926 - val_accuracy: 0.8913\n",
      "Epoch 9/20\n",
      "30/30 [==============================] - 0s 11ms/step - loss: 0.1805 - accuracy: 0.9393 - val_loss: 0.3095 - val_accuracy: 0.8922\n",
      "Epoch 10/20\n",
      "30/30 [==============================] - 0s 10ms/step - loss: 0.1672 - accuracy: 0.9446 - val_loss: 0.3300 - val_accuracy: 0.8882\n",
      "Epoch 11/20\n",
      "30/30 [==============================] - 0s 10ms/step - loss: 0.1433 - accuracy: 0.9519 - val_loss: 0.3541 - val_accuracy: 0.8911\n",
      "Epoch 12/20\n",
      "30/30 [==============================] - 0s 10ms/step - loss: 0.1345 - accuracy: 0.9587 - val_loss: 0.3878 - val_accuracy: 0.8893\n",
      "Epoch 13/20\n",
      "30/30 [==============================] - 0s 10ms/step - loss: 0.1196 - accuracy: 0.9636 - val_loss: 0.4069 - val_accuracy: 0.8875\n",
      "Epoch 14/20\n",
      "30/30 [==============================] - 0s 10ms/step - loss: 0.1114 - accuracy: 0.9649 - val_loss: 0.4427 - val_accuracy: 0.8882\n",
      "Epoch 15/20\n",
      "30/30 [==============================] - 0s 10ms/step - loss: 0.1036 - accuracy: 0.9680 - val_loss: 0.4618 - val_accuracy: 0.8863\n",
      "Epoch 16/20\n",
      "30/30 [==============================] - 0s 10ms/step - loss: 0.1009 - accuracy: 0.9689 - val_loss: 0.4711 - val_accuracy: 0.8845\n",
      "Epoch 17/20\n",
      "30/30 [==============================] - 0s 11ms/step - loss: 0.0910 - accuracy: 0.9721 - val_loss: 0.5138 - val_accuracy: 0.8846\n",
      "Epoch 18/20\n",
      "30/30 [==============================] - 0s 9ms/step - loss: 0.0821 - accuracy: 0.9732 - val_loss: 0.5381 - val_accuracy: 0.8831\n",
      "Epoch 19/20\n",
      "30/30 [==============================] - 0s 10ms/step - loss: 0.0839 - accuracy: 0.9740 - val_loss: 0.5517 - val_accuracy: 0.8831\n",
      "Epoch 20/20\n",
      "30/30 [==============================] - 0s 9ms/step - loss: 0.0793 - accuracy: 0.9752 - val_loss: 0.6139 - val_accuracy: 0.8812\n"
     ]
    }
   ],
   "source": [
    "model = keras.Sequential([\n",
    "    layers.Dense(16, activation=\"relu\"),\n",
    "    layers.Dropout(0.5),  # new\n",
    "    layers.Dense(16, activation=\"relu\"),\n",
    "    layers.Dropout(0.5),  # new\n",
    "    layers.Dense(1, activation=\"sigmoid\")\n",
    "])\n",
    "model.compile(optimizer=\"rmsprop\",\n",
    "              loss=\"binary_crossentropy\",\n",
    "              metrics=[\"accuracy\"])\n",
    "history_dropout = model.fit(\n",
    "    train_data, train_labels,\n",
    "    epochs=20, batch_size=512, validation_split=0.4)"
   ]
  },
  {
   "cell_type": "markdown",
   "metadata": {},
   "source": [
    "![](https://drek4537l1klr.cloudfront.net/chollet2/v-7/Figures/original_model_vs_dropout_regularized_model_imdb.png)"
   ]
  },
  {
   "cell_type": "markdown",
   "metadata": {
    "colab_type": "text"
   },
   "source": [
    "## Chapter summary"
   ]
  },
  {
   "cell_type": "markdown",
   "metadata": {},
   "source": [
    "To recap, these are the most common ways to **maximize generalization and prevent overfitting** in neural networks:\n",
    "\n",
    "- Get more training data, or better training data.\n",
    "- Develop better features.\n",
    "- Reduce the capacity of the model (smaller, architecture).\n",
    "- Add weight regularization (for smaller models).\n",
    "- Add dropout."
   ]
  },
  {
   "cell_type": "markdown",
   "metadata": {},
   "source": [
    "- The purpose of a machine learning model is to generalize: to perform accurately on never-seen-before inputs. It’s harder than it seems.\n",
    "- A deep neural network achieves generalization by learning a parametric model that can successfully interpolate between training samples—such a model can be said to have learned the \"latent manifold\" of the training data. This is why deep learning models can only make sense of inputs that are very close to what they’ve seen during training.\n",
    "- The fundamental problem in machine learning is the tension between optimization and generalization: to attain generalization, you must first achieve a good fit to the training data, but improving your model’s fit to the training data will inevitably start hurting generalization after a while. Every single deep learning best practice deals with managing this tension.\n",
    "- The ability of deep learning models to generalize comes from the fact that they manage to learn to approximate the latent manifold of their data, and can thus make sense of new inputs via interpolation.\n",
    "- It’s essential to be able to accurately evaluate the generalization power of your model while you’re developing it. You have at your disposable an array of evaluation methods, from simple hold-out validation, to K-fold cross-validation and iterated K-fold cross-validation with shuffling. Remember to always keep a completely separate test set for final model evaluation, since information leaks from your validation data to your model may have occurred.\n",
    "- When you start working on a model, your goal is first to achieve a model that has some generalization power and that can overfit. Best practices to do this include **tuning your learning rate and batch size, leveraging better architecture priors, increasing model capacity, or simply training longer**.\n",
    "- As your model starts overfitting, your goal switches to improving generalization through model regularization. You can reduce your model’s capacity, add dropout or weight regularization, and use early stopping. And naturally, a larger or better dataset is always the number one way to help a model generalize."
   ]
  },
  {
   "cell_type": "code",
   "execution_count": null,
   "metadata": {},
   "outputs": [],
   "source": []
  }
 ],
 "metadata": {
  "colab": {
   "collapsed_sections": [],
   "name": "chapter05_fundamentals-of-ml.i",
   "private_outputs": false,
   "provenance": [],
   "toc_visible": true
  },
  "kernelspec": {
   "display_name": "Python 3.8 (dl)",
   "language": "python",
   "name": "dl"
  },
  "language_info": {
   "codemirror_mode": {
    "name": "ipython",
    "version": 3
   },
   "file_extension": ".py",
   "mimetype": "text/x-python",
   "name": "python",
   "nbconvert_exporter": "python",
   "pygments_lexer": "ipython3",
   "version": "3.8.10"
  }
 },
 "nbformat": 4,
 "nbformat_minor": 1
}
