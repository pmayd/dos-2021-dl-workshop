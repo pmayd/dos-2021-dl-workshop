{
 "cells": [
  {
   "cell_type": "markdown",
   "metadata": {
    "colab_type": "text"
   },
   "source": [
    "This is a companion notebook for the book [Deep Learning with Python, Second Edition](https://www.manning.com/books/deep-learning-with-python-second-edition?a_aid=keras&a_bid=76564dff). For readability, it only contains runnable code blocks and section titles, and omits everything else in the book: text paragraphs, figures, and pseudocode.\n",
    "\n",
    "**If you want to be able to follow what's going on, I recommend reading the notebook side by side with your copy of the book.**\n",
    "\n",
    "This notebook was generated for TensorFlow 2.6."
   ]
  },
  {
   "cell_type": "code",
   "execution_count": 6,
   "metadata": {},
   "outputs": [],
   "source": [
    "from tensorflow import keras\n",
    "import matplotlib.pyplot as plt\n",
    "import numpy as np"
   ]
  },
  {
   "cell_type": "markdown",
   "metadata": {
    "colab_type": "text"
   },
   "source": [
    "# Getting started with neural networks: classification and regression"
   ]
  },
  {
   "cell_type": "markdown",
   "metadata": {
    "colab_type": "text"
   },
   "source": [
    "## Classifying movie reviews: a binary classification example"
   ]
  },
  {
   "cell_type": "markdown",
   "metadata": {},
   "source": [
    "Two-class classification, or binary classification, is one of the most common kinds of machine-learning problem. In this example, you’ll learn to classify movie reviews as positive or negative, based on the text content of the reviews."
   ]
  },
  {
   "cell_type": "markdown",
   "metadata": {
    "colab_type": "text"
   },
   "source": [
    "### The IMDB dataset"
   ]
  },
  {
   "cell_type": "markdown",
   "metadata": {},
   "source": [
    "You’ll work with the IMDB dataset: a set of $50,000$ highly polarized reviews from the Internet Movie Database. They’re split into $25,000$ reviews for training and $25,000$ reviews for testing, each set consisting of $50\\%$ negative and $50\\%$ positive reviews."
   ]
  },
  {
   "cell_type": "markdown",
   "metadata": {
    "colab_type": "text"
   },
   "source": [
    "**Loading the IMDB dataset**"
   ]
  },
  {
   "cell_type": "markdown",
   "metadata": {},
   "source": [
    "The argument `num_words=10000` means you’ll only keep the top $10,000$ most frequently occurring words in the training data. Rare words will be discarded. This allows you to work with vector data of manageable size. If we didn’t set this limit, we’d be working with $88,585$ unique words in the training data, which is unnecessarily large. Many of these words only occur in a single sample, and thus can’t be meaningfully used for classification."
   ]
  },
  {
   "cell_type": "code",
   "execution_count": 7,
   "metadata": {
    "colab_type": "code"
   },
   "outputs": [],
   "source": [
    "from tensorflow.keras.datasets import imdb\n",
    "\n",
    "(train_data, train_labels), (test_data, test_labels) = imdb.load_data(num_words=10000, index_from=3)"
   ]
  },
  {
   "cell_type": "code",
   "execution_count": 8,
   "metadata": {
    "colab_type": "code",
    "scrolled": true
   },
   "outputs": [
    {
     "data": {
      "text/plain": [
       "[1,\n",
       " 14,\n",
       " 22,\n",
       " 16,\n",
       " 43,\n",
       " 530,\n",
       " 973,\n",
       " 1622,\n",
       " 1385,\n",
       " 65,\n",
       " 458,\n",
       " 4468,\n",
       " 66,\n",
       " 3941,\n",
       " 4,\n",
       " 173,\n",
       " 36,\n",
       " 256,\n",
       " 5,\n",
       " 25,\n",
       " 100,\n",
       " 43,\n",
       " 838,\n",
       " 112,\n",
       " 50,\n",
       " 670,\n",
       " 2,\n",
       " 9,\n",
       " 35,\n",
       " 480,\n",
       " 284,\n",
       " 5,\n",
       " 150,\n",
       " 4,\n",
       " 172,\n",
       " 112,\n",
       " 167,\n",
       " 2,\n",
       " 336,\n",
       " 385,\n",
       " 39,\n",
       " 4,\n",
       " 172,\n",
       " 4536,\n",
       " 1111,\n",
       " 17,\n",
       " 546,\n",
       " 38,\n",
       " 13,\n",
       " 447,\n",
       " 4,\n",
       " 192,\n",
       " 50,\n",
       " 16,\n",
       " 6,\n",
       " 147,\n",
       " 2025,\n",
       " 19,\n",
       " 14,\n",
       " 22,\n",
       " 4,\n",
       " 1920,\n",
       " 4613,\n",
       " 469,\n",
       " 4,\n",
       " 22,\n",
       " 71,\n",
       " 87,\n",
       " 12,\n",
       " 16,\n",
       " 43,\n",
       " 530,\n",
       " 38,\n",
       " 76,\n",
       " 15,\n",
       " 13,\n",
       " 1247,\n",
       " 4,\n",
       " 22,\n",
       " 17,\n",
       " 515,\n",
       " 17,\n",
       " 12,\n",
       " 16,\n",
       " 626,\n",
       " 18,\n",
       " 2,\n",
       " 5,\n",
       " 62,\n",
       " 386,\n",
       " 12,\n",
       " 8,\n",
       " 316,\n",
       " 8,\n",
       " 106,\n",
       " 5,\n",
       " 4,\n",
       " 2223,\n",
       " 5244,\n",
       " 16,\n",
       " 480,\n",
       " 66,\n",
       " 3785,\n",
       " 33,\n",
       " 4,\n",
       " 130,\n",
       " 12,\n",
       " 16,\n",
       " 38,\n",
       " 619,\n",
       " 5,\n",
       " 25,\n",
       " 124,\n",
       " 51,\n",
       " 36,\n",
       " 135,\n",
       " 48,\n",
       " 25,\n",
       " 1415,\n",
       " 33,\n",
       " 6,\n",
       " 22,\n",
       " 12,\n",
       " 215,\n",
       " 28,\n",
       " 77,\n",
       " 52,\n",
       " 5,\n",
       " 14,\n",
       " 407,\n",
       " 16,\n",
       " 82,\n",
       " 2,\n",
       " 8,\n",
       " 4,\n",
       " 107,\n",
       " 117,\n",
       " 5952,\n",
       " 15,\n",
       " 256,\n",
       " 4,\n",
       " 2,\n",
       " 7,\n",
       " 3766,\n",
       " 5,\n",
       " 723,\n",
       " 36,\n",
       " 71,\n",
       " 43,\n",
       " 530,\n",
       " 476,\n",
       " 26,\n",
       " 400,\n",
       " 317,\n",
       " 46,\n",
       " 7,\n",
       " 4,\n",
       " 2,\n",
       " 1029,\n",
       " 13,\n",
       " 104,\n",
       " 88,\n",
       " 4,\n",
       " 381,\n",
       " 15,\n",
       " 297,\n",
       " 98,\n",
       " 32,\n",
       " 2071,\n",
       " 56,\n",
       " 26,\n",
       " 141,\n",
       " 6,\n",
       " 194,\n",
       " 7486,\n",
       " 18,\n",
       " 4,\n",
       " 226,\n",
       " 22,\n",
       " 21,\n",
       " 134,\n",
       " 476,\n",
       " 26,\n",
       " 480,\n",
       " 5,\n",
       " 144,\n",
       " 30,\n",
       " 5535,\n",
       " 18,\n",
       " 51,\n",
       " 36,\n",
       " 28,\n",
       " 224,\n",
       " 92,\n",
       " 25,\n",
       " 104,\n",
       " 4,\n",
       " 226,\n",
       " 65,\n",
       " 16,\n",
       " 38,\n",
       " 1334,\n",
       " 88,\n",
       " 12,\n",
       " 16,\n",
       " 283,\n",
       " 5,\n",
       " 16,\n",
       " 4472,\n",
       " 113,\n",
       " 103,\n",
       " 32,\n",
       " 15,\n",
       " 16,\n",
       " 5345,\n",
       " 19,\n",
       " 178,\n",
       " 32]"
      ]
     },
     "execution_count": 8,
     "metadata": {},
     "output_type": "execute_result"
    }
   ],
   "source": [
    "train_data[0]"
   ]
  },
  {
   "cell_type": "code",
   "execution_count": 9,
   "metadata": {
    "colab_type": "code"
   },
   "outputs": [
    {
     "data": {
      "text/plain": [
       "1"
      ]
     },
     "execution_count": 9,
     "metadata": {},
     "output_type": "execute_result"
    }
   ],
   "source": [
    "train_labels[0]"
   ]
  },
  {
   "cell_type": "markdown",
   "metadata": {},
   "source": [
    "Because you’re restricting yourself to the top $10,000$ most frequent words, no word index will exceed 10,000:"
   ]
  },
  {
   "cell_type": "code",
   "execution_count": 10,
   "metadata": {
    "colab_type": "code"
   },
   "outputs": [
    {
     "data": {
      "text/plain": [
       "9999"
      ]
     },
     "execution_count": 10,
     "metadata": {},
     "output_type": "execute_result"
    }
   ],
   "source": [
    "max([max(sequence) for sequence in train_data])"
   ]
  },
  {
   "cell_type": "markdown",
   "metadata": {
    "colab_type": "text"
   },
   "source": [
    "**Decoding reviews back to text**"
   ]
  },
  {
   "cell_type": "code",
   "execution_count": 11,
   "metadata": {
    "colab_type": "code"
   },
   "outputs": [
    {
     "name": "stdout",
     "output_type": "stream",
     "text": [
      "Downloading data from https://storage.googleapis.com/tensorflow/tf-keras-datasets/imdb_word_index.json\n",
      "1646592/1641221 [==============================] - 1s 0us/step\n",
      "1654784/1641221 [==============================] - 1s 0us/step\n"
     ]
    }
   ],
   "source": [
    "# Retrieve the word index file mapping words to indices\n",
    "word_index = keras.datasets.imdb.get_word_index()\n",
    "# Reverse the word index to obtain a dict mapping indices to words\n",
    "inverted_word_index = dict((i, word) for (word, i) in word_index.items())\n",
    "# Decode the first sequence in the dataset\n",
    "decoded_sequence = \" \".join(inverted_word_index.get(i - 3, \"?\") for i in train_data[0])"
   ]
  },
  {
   "cell_type": "code",
   "execution_count": 12,
   "metadata": {},
   "outputs": [
    {
     "data": {
      "text/plain": [
       "\"? this film was just brilliant casting location scenery story direction everyone's really suited the part they played and you could just imagine being there robert ? is an amazing actor and now the same being director ? father came from the same scottish island as myself so i loved the fact there was a real connection with this film the witty remarks throughout the film were great it was just brilliant so much that i bought the film as soon as it was released for ? and would recommend it to everyone to watch and the fly fishing was amazing really cried at the end it was so sad and you know what they say if you cry at a film it must have been good and this definitely was also ? to the two little boy's that played the ? of norman and paul they were just brilliant children are often left out of the ? list i think because the stars that play them all grown up are such a big profile for the whole film but these children are amazing and should be praised for what they have done don't you think the whole story was so lovely because it was true and was someone's life after all that was shared with us all\""
      ]
     },
     "execution_count": 12,
     "metadata": {},
     "output_type": "execute_result"
    }
   ],
   "source": [
    "decoded_sequence"
   ]
  },
  {
   "cell_type": "markdown",
   "metadata": {
    "colab_type": "text"
   },
   "source": [
    "### Preparing the data"
   ]
  },
  {
   "cell_type": "markdown",
   "metadata": {},
   "source": [
    "You can’t directly feed lists of integers into a neural network. They have all different lengths, but a neural network expects to process contiguous batches of data. You have to turn your lists into tensors. There are two ways to do that:\n",
    "\n",
    "- **Pad** your lists so that they all have the same length, then turn them into an integer tensor of shape (samples, max_length), and start your model with a layer capable of handling such integer tensors (the Embedding layer, which we’ll cover in detail later in the book).\n",
    "- **Multi-hot encode** your lists to turn them into vectors of 0s and 1s. This would mean, for instance, turning the sequence [8, 5] into a 10,000-dimensional vector that would be all 0s except for indices 8 and 5, which would be 1s. Then you could use a Dense layer, capable of handling floating-point vector data, as the first layer in your model."
   ]
  },
  {
   "cell_type": "code",
   "execution_count": 53,
   "metadata": {
    "collapsed": true
   },
   "outputs": [
    {
     "data": {
      "text/plain": [
       "[218,\n",
       " 189,\n",
       " 141,\n",
       " 550,\n",
       " 147,\n",
       " 43,\n",
       " 123,\n",
       " 562,\n",
       " 233,\n",
       " 130,\n",
       " 450,\n",
       " 99,\n",
       " 117,\n",
       " 238,\n",
       " 109,\n",
       " 129,\n",
       " 163,\n",
       " 752,\n",
       " 212,\n",
       " 177,\n",
       " 129,\n",
       " 140,\n",
       " 256,\n",
       " 888,\n",
       " 93,\n",
       " 142,\n",
       " 220,\n",
       " 193,\n",
       " 171,\n",
       " 221,\n",
       " 174,\n",
       " 647,\n",
       " 233,\n",
       " 162,\n",
       " 597,\n",
       " 234,\n",
       " 51,\n",
       " 336,\n",
       " 139,\n",
       " 231,\n",
       " 704,\n",
       " 142,\n",
       " 861,\n",
       " 132,\n",
       " 122,\n",
       " 570,\n",
       " 55,\n",
       " 214,\n",
       " 103,\n",
       " 186,\n",
       " 113,\n",
       " 169,\n",
       " 469,\n",
       " 138,\n",
       " 302,\n",
       " 766,\n",
       " 351,\n",
       " 146,\n",
       " 59,\n",
       " 206,\n",
       " 107,\n",
       " 152,\n",
       " 186,\n",
       " 431,\n",
       " 147,\n",
       " 684,\n",
       " 383,\n",
       " 324,\n",
       " 252,\n",
       " 263,\n",
       " 787,\n",
       " 211,\n",
       " 314,\n",
       " 118,\n",
       " 390,\n",
       " 132,\n",
       " 710,\n",
       " 306,\n",
       " 167,\n",
       " 115,\n",
       " 95,\n",
       " 158,\n",
       " 156,\n",
       " 82,\n",
       " 502,\n",
       " 314,\n",
       " 190,\n",
       " 174,\n",
       " 60,\n",
       " 145,\n",
       " 214,\n",
       " 659,\n",
       " 408,\n",
       " 515,\n",
       " 461,\n",
       " 202,\n",
       " 238,\n",
       " 170,\n",
       " 107,\n",
       " 171,\n",
       " 158,\n",
       " 145,\n",
       " 790,\n",
       " 258,\n",
       " 287,\n",
       " 67,\n",
       " 123,\n",
       " 975,\n",
       " 775,\n",
       " 236,\n",
       " 195,\n",
       " 274,\n",
       " 214,\n",
       " 91,\n",
       " 1038,\n",
       " 815,\n",
       " 183,\n",
       " 206,\n",
       " 50,\n",
       " 118,\n",
       " 147,\n",
       " 141,\n",
       " 60,\n",
       " 56,\n",
       " 439,\n",
       " 439,\n",
       " 213,\n",
       " 144,\n",
       " 533,\n",
       " 303,\n",
       " 203,\n",
       " 563,\n",
       " 129,\n",
       " 153,\n",
       " 55,\n",
       " 92,\n",
       " 174,\n",
       " 187,\n",
       " 183,\n",
       " 165,\n",
       " 78,\n",
       " 198,\n",
       " 156,\n",
       " 223,\n",
       " 127,\n",
       " 61,\n",
       " 362,\n",
       " 84,\n",
       " 57,\n",
       " 176,\n",
       " 159,\n",
       " 57,\n",
       " 159,\n",
       " 165,\n",
       " 213,\n",
       " 194,\n",
       " 149,\n",
       " 130,\n",
       " 203,\n",
       " 19,\n",
       " 98,\n",
       " 466,\n",
       " 525,\n",
       " 130,\n",
       " 322,\n",
       " 153,\n",
       " 408,\n",
       " 215,\n",
       " 472,\n",
       " 143,\n",
       " 136,\n",
       " 354,\n",
       " 260,\n",
       " 319,\n",
       " 125,\n",
       " 209,\n",
       " 282,\n",
       " 810,\n",
       " 142,\n",
       " 240,\n",
       " 148,\n",
       " 198,\n",
       " 193,\n",
       " 123,\n",
       " 128,\n",
       " 103,\n",
       " 479,\n",
       " 345,\n",
       " 263,\n",
       " 165,\n",
       " 205,\n",
       " 333,\n",
       " 184,\n",
       " 92,\n",
       " 177,\n",
       " 335,\n",
       " 120,\n",
       " 121,\n",
       " 259,\n",
       " 180,\n",
       " 160,\n",
       " 114,\n",
       " 59,\n",
       " 343,\n",
       " 513,\n",
       " 133,\n",
       " 206,\n",
       " 152,\n",
       " 206,\n",
       " 572,\n",
       " 153,\n",
       " 139,\n",
       " 151,\n",
       " 129,\n",
       " 129,\n",
       " 196,\n",
       " 433,\n",
       " 199,\n",
       " 140,\n",
       " 311,\n",
       " 151,\n",
       " 200,\n",
       " 584,\n",
       " 127,\n",
       " 513,\n",
       " 781,\n",
       " 932,\n",
       " 526,\n",
       " 161,\n",
       " 646,\n",
       " 135,\n",
       " 52,\n",
       " 267,\n",
       " 174,\n",
       " 185,\n",
       " 219,\n",
       " 81,\n",
       " 219,\n",
       " 131,\n",
       " 153,\n",
       " 270,\n",
       " 644,\n",
       " 155,\n",
       " 546,\n",
       " 284,\n",
       " 85,\n",
       " 293,\n",
       " 155,\n",
       " 358,\n",
       " 45,\n",
       " 231,\n",
       " 124,\n",
       " 178,\n",
       " 118,\n",
       " 260,\n",
       " 393,\n",
       " 127,\n",
       " 157,\n",
       " 107,\n",
       " 322,\n",
       " 188,\n",
       " 126,\n",
       " 155,\n",
       " 294,\n",
       " 249,\n",
       " 177,\n",
       " 138,\n",
       " 215,\n",
       " 263,\n",
       " 132,\n",
       " 150,\n",
       " 217,\n",
       " 188,\n",
       " 385,\n",
       " 199,\n",
       " 127,\n",
       " 325,\n",
       " 161,\n",
       " 140,\n",
       " 215,\n",
       " 240,\n",
       " 230,\n",
       " 327,\n",
       " 129,\n",
       " 113,\n",
       " 225,\n",
       " 87,\n",
       " 496,\n",
       " 234,\n",
       " 311,\n",
       " 215,\n",
       " 111,\n",
       " 102,\n",
       " 110,\n",
       " 165,\n",
       " 839,\n",
       " 296,\n",
       " 130,\n",
       " 104,\n",
       " 274,\n",
       " 229,\n",
       " 235,\n",
       " 653,\n",
       " 468,\n",
       " 578,\n",
       " 139,\n",
       " 315,\n",
       " 65,\n",
       " 178,\n",
       " 836,\n",
       " 164,\n",
       " 239,\n",
       " 212,\n",
       " 297,\n",
       " 258,\n",
       " 157,\n",
       " 78,\n",
       " 544,\n",
       " 152,\n",
       " 120,\n",
       " 208,\n",
       " 163,\n",
       " 226,\n",
       " 304,\n",
       " 195,\n",
       " 454,\n",
       " 121,\n",
       " 175,\n",
       " 617,\n",
       " 320,\n",
       " 121,\n",
       " 245,\n",
       " 655,\n",
       " 114,\n",
       " 131,\n",
       " 104,\n",
       " 238,\n",
       " 138,\n",
       " 164,\n",
       " 52,\n",
       " 215,\n",
       " 87,\n",
       " 471,\n",
       " 142,\n",
       " 289,\n",
       " 106,\n",
       " 141,\n",
       " 239,\n",
       " 412,\n",
       " 154,\n",
       " 175,\n",
       " 828,\n",
       " 41,\n",
       " 144,\n",
       " 525,\n",
       " 176,\n",
       " 551,\n",
       " 251,\n",
       " 621,\n",
       " 159,\n",
       " 75,\n",
       " 207,\n",
       " 80,\n",
       " 94,\n",
       " 78,\n",
       " 449,\n",
       " 622,\n",
       " 157,\n",
       " 85,\n",
       " 260,\n",
       " 1011,\n",
       " 444,\n",
       " 326,\n",
       " 586,\n",
       " 118,\n",
       " 270,\n",
       " 360,\n",
       " 95,\n",
       " 640,\n",
       " 315,\n",
       " 138,\n",
       " 573,\n",
       " 434,\n",
       " 313,\n",
       " 128,\n",
       " 1007,\n",
       " 130,\n",
       " 257,\n",
       " 209,\n",
       " 159,\n",
       " 602,\n",
       " 109,\n",
       " 250,\n",
       " 117,\n",
       " 149,\n",
       " 199,\n",
       " 55,\n",
       " 578,\n",
       " 158,\n",
       " 323,\n",
       " 486,\n",
       " 177,\n",
       " 73,\n",
       " 127,\n",
       " 138,\n",
       " 130,\n",
       " 110,\n",
       " 283,\n",
       " 244,\n",
       " 375,\n",
       " 137,\n",
       " 156,\n",
       " 153,\n",
       " 112,\n",
       " 94,\n",
       " 137,\n",
       " 195,\n",
       " 137,\n",
       " 112,\n",
       " 25,\n",
       " 106,\n",
       " 105,\n",
       " 272,\n",
       " 857,\n",
       " 116,\n",
       " 58,\n",
       " 114,\n",
       " 71,\n",
       " 57,\n",
       " 292,\n",
       " 56,\n",
       " 157,\n",
       " 283,\n",
       " 87,\n",
       " 327,\n",
       " 481,\n",
       " 918,\n",
       " 129,\n",
       " 181,\n",
       " 214,\n",
       " 601,\n",
       " 215,\n",
       " 117,\n",
       " 112,\n",
       " 401,\n",
       " 165,\n",
       " 154,\n",
       " 587,\n",
       " 417,\n",
       " 345,\n",
       " 233,\n",
       " 496,\n",
       " 403,\n",
       " 317,\n",
       " 189,\n",
       " 340,\n",
       " 195,\n",
       " 370,\n",
       " 194,\n",
       " 150,\n",
       " 559,\n",
       " 48,\n",
       " 129,\n",
       " 110,\n",
       " 45,\n",
       " 173,\n",
       " 674,\n",
       " 416,\n",
       " 233,\n",
       " 146,\n",
       " 73,\n",
       " 146,\n",
       " 190,\n",
       " 130,\n",
       " 127,\n",
       " 217,\n",
       " 785,\n",
       " 227,\n",
       " 119,\n",
       " 149,\n",
       " 150,\n",
       " 175,\n",
       " 588,\n",
       " 130,\n",
       " 414,\n",
       " 172,\n",
       " 523,\n",
       " 119,\n",
       " 130,\n",
       " 122,\n",
       " 219,\n",
       " 264,\n",
       " 202,\n",
       " 218,\n",
       " 367,\n",
       " 230,\n",
       " 429,\n",
       " 985,\n",
       " 144,\n",
       " 128,\n",
       " 60,\n",
       " 78,\n",
       " 125,\n",
       " 131,\n",
       " 186,\n",
       " 283,\n",
       " 121,\n",
       " 226,\n",
       " 82,\n",
       " 57,\n",
       " 468,\n",
       " 336,\n",
       " 218,\n",
       " 110,\n",
       " 535,\n",
       " 603,\n",
       " 147,\n",
       " 117,\n",
       " 156,\n",
       " 72,\n",
       " 72,\n",
       " 69,\n",
       " 529,\n",
       " 148,\n",
       " 56,\n",
       " 263,\n",
       " 202,\n",
       " 348,\n",
       " 172,\n",
       " 104,\n",
       " 212,\n",
       " 146,\n",
       " 191,\n",
       " 251,\n",
       " 179,\n",
       " 722,\n",
       " 156,\n",
       " 141,\n",
       " 235,\n",
       " 97,\n",
       " 69,\n",
       " 222,\n",
       " 228,\n",
       " 233,\n",
       " 46,\n",
       " 130,\n",
       " 599,\n",
       " 146,\n",
       " 71,\n",
       " 144,\n",
       " 132,\n",
       " 89,\n",
       " 115,\n",
       " 267,\n",
       " 100,\n",
       " 148,\n",
       " 197,\n",
       " 627,\n",
       " 161,\n",
       " 263,\n",
       " 447,\n",
       " 97,\n",
       " 132,\n",
       " 357,\n",
       " 52,\n",
       " 329,\n",
       " 149,\n",
       " 253,\n",
       " 330,\n",
       " 549,\n",
       " 166,\n",
       " 190,\n",
       " 165,\n",
       " 202,\n",
       " 351,\n",
       " 633,\n",
       " 942,\n",
       " 123,\n",
       " 121,\n",
       " 184,\n",
       " 270,\n",
       " 139,\n",
       " 248,\n",
       " 382,\n",
       " 292,\n",
       " 215,\n",
       " 439,\n",
       " 177,\n",
       " 42,\n",
       " 173,\n",
       " 173,\n",
       " 233,\n",
       " 480,\n",
       " 377,\n",
       " 48,\n",
       " 177,\n",
       " 192,\n",
       " 84,\n",
       " 176,\n",
       " 150,\n",
       " 467,\n",
       " 210,\n",
       " 687,\n",
       " 631,\n",
       " 279,\n",
       " 136,\n",
       " 67,\n",
       " 167,\n",
       " 170,\n",
       " 359,\n",
       " 451,\n",
       " 135,\n",
       " 197,\n",
       " 1009,\n",
       " 87,\n",
       " 241,\n",
       " 492,\n",
       " 336,\n",
       " 88,\n",
       " 170,\n",
       " 425,\n",
       " 459,\n",
       " 331,\n",
       " 199,\n",
       " 158,\n",
       " 69,\n",
       " 121,\n",
       " 116,\n",
       " 120,\n",
       " 297,\n",
       " 173,\n",
       " 293,\n",
       " 103,\n",
       " 477,\n",
       " 723,\n",
       " 133,\n",
       " 413,\n",
       " 109,\n",
       " 101,\n",
       " 227,\n",
       " 141,\n",
       " 939,\n",
       " 199,\n",
       " 162,\n",
       " 377,\n",
       " 172,\n",
       " 532,\n",
       " 68,\n",
       " 41,\n",
       " 130,\n",
       " 83,\n",
       " 136,\n",
       " 787,\n",
       " 117,\n",
       " 165,\n",
       " 111,\n",
       " 124,\n",
       " 552,\n",
       " 172,\n",
       " 130,\n",
       " 96,\n",
       " 153,\n",
       " 181,\n",
       " 49,\n",
       " 119,\n",
       " 88,\n",
       " 100,\n",
       " 297,\n",
       " 363,\n",
       " 632,\n",
       " 218,\n",
       " 168,\n",
       " 100,\n",
       " 212,\n",
       " 120,\n",
       " 84,\n",
       " 135,\n",
       " 268,\n",
       " 127,\n",
       " 746,\n",
       " 127,\n",
       " 236,\n",
       " 335,\n",
       " 193,\n",
       " 843,\n",
       " 251,\n",
       " 165,\n",
       " 210,\n",
       " 239,\n",
       " 311,\n",
       " 214,\n",
       " 29,\n",
       " 334,\n",
       " 168,\n",
       " 127,\n",
       " 169,\n",
       " 110,\n",
       " 164,\n",
       " 147,\n",
       " 205,\n",
       " 133,\n",
       " 188,\n",
       " 125,\n",
       " 183,\n",
       " 326,\n",
       " 150,\n",
       " 290,\n",
       " 214,\n",
       " 328,\n",
       " 51,\n",
       " 343,\n",
       " 212,\n",
       " 454,\n",
       " 96,\n",
       " 471,\n",
       " 82,\n",
       " 523,\n",
       " 114,\n",
       " 147,\n",
       " 200,\n",
       " 387,\n",
       " 174,\n",
       " 150,\n",
       " 103,\n",
       " 187,\n",
       " 183,\n",
       " 115,\n",
       " 144,\n",
       " 131,\n",
       " 241,\n",
       " 57,\n",
       " 46,\n",
       " 23,\n",
       " 419,\n",
       " 227,\n",
       " 110,\n",
       " 91,\n",
       " 66,\n",
       " 137,\n",
       " 104,\n",
       " 164,\n",
       " 417,\n",
       " 127,\n",
       " 78,\n",
       " 181,\n",
       " 179,\n",
       " 181,\n",
       " 261,\n",
       " 243,\n",
       " 205,\n",
       " 155,\n",
       " 166,\n",
       " 180,\n",
       " 77,\n",
       " 440,\n",
       " 284,\n",
       " 328,\n",
       " 258,\n",
       " 61,\n",
       " 193,\n",
       " 39,\n",
       " 156,\n",
       " 124,\n",
       " 108,\n",
       " 322,\n",
       " 376,\n",
       " 162,\n",
       " 359,\n",
       " 139,\n",
       " 302,\n",
       " 646,\n",
       " 44,\n",
       " 253,\n",
       " 244,\n",
       " 438,\n",
       " 432,\n",
       " 226,\n",
       " 236,\n",
       " 336,\n",
       " 166,\n",
       " 444,\n",
       " 195,\n",
       " 74,\n",
       " 127,\n",
       " 213,\n",
       " 195,\n",
       " 148,\n",
       " 174,\n",
       " 148,\n",
       " 149,\n",
       " 136,\n",
       " 77,\n",
       " 53,\n",
       " 151,\n",
       " 215,\n",
       " 129,\n",
       " 196,\n",
       " 135,\n",
       " 146,\n",
       " 235,\n",
       " 166,\n",
       " 359,\n",
       " 132,\n",
       " 167,\n",
       " 141,\n",
       " 188,\n",
       " 365,\n",
       " 138,\n",
       " 118,\n",
       " 110,\n",
       " 309,\n",
       " 261,\n",
       " 127,\n",
       " 76,\n",
       " 900,\n",
       " 211,\n",
       " 273,\n",
       " 233,\n",
       " 149,\n",
       " 212,\n",
       " 302,\n",
       " 268,\n",
       " 295,\n",
       " 212,\n",
       " 143,\n",
       " 467,\n",
       " 256,\n",
       " 230,\n",
       " 129,\n",
       " 145,\n",
       " 119,\n",
       " 83,\n",
       " 322,\n",
       " 208,\n",
       " 132,\n",
       " 149,\n",
       " 278,\n",
       " 136,\n",
       " 198,\n",
       " 164,\n",
       " 349,\n",
       " 200,\n",
       " 278,\n",
       " 439,\n",
       " 130,\n",
       " 161,\n",
       " 223,\n",
       " 561,\n",
       " 397,\n",
       " 302,\n",
       " 282,\n",
       " 187,\n",
       " 192,\n",
       " 107,\n",
       " 361,\n",
       " 126,\n",
       " 201,\n",
       " 79,\n",
       " 415,\n",
       " 133,\n",
       " 300,\n",
       " 124,\n",
       " 355,\n",
       " 978,\n",
       " 323,\n",
       " 114,\n",
       " 85,\n",
       " 143,\n",
       " 221,\n",
       " 190,\n",
       " 215,\n",
       " 244,\n",
       " 626,\n",
       " 64,\n",
       " 127,\n",
       " 180,\n",
       " 128,\n",
       " 206,\n",
       " 221,\n",
       " 261,\n",
       " 122,\n",
       " 201,\n",
       " 221,\n",
       " 139,\n",
       " 315,\n",
       " 356,\n",
       " 254,\n",
       " 131,\n",
       " 128,\n",
       " 234,\n",
       " 129,\n",
       " 66,\n",
       " 134,\n",
       " 121,\n",
       " 470,\n",
       " 373,\n",
       " 129,\n",
       " 127,\n",
       " 92,\n",
       " 127,\n",
       " 223,\n",
       " 179,\n",
       " 651,\n",
       " 452,\n",
       " 935,\n",
       " 146,\n",
       " 170,\n",
       " 438,\n",
       " 94,\n",
       " 159,\n",
       " 312,\n",
       " 302,\n",
       " 128,\n",
       " 121,\n",
       " 280,\n",
       " 622,\n",
       " 166,\n",
       " 126,\n",
       " 157,\n",
       " 353,\n",
       " 45,\n",
       " 132,\n",
       " 324,\n",
       " 65,\n",
       " 304,\n",
       " 149,\n",
       " 243,\n",
       " 117,\n",
       " 719,\n",
       " 164,\n",
       " 116,\n",
       " 61,\n",
       " 368,\n",
       " 407,\n",
       " 73,\n",
       " 571,\n",
       " 170,\n",
       " 303,\n",
       " 159,\n",
       " 42,\n",
       " 400,\n",
       " 295,\n",
       " 183,\n",
       " 75,\n",
       " 215,\n",
       " 255,\n",
       " 229,\n",
       " 445,\n",
       " 1000,\n",
       " 494,\n",
       " 128,\n",
       " 580,\n",
       " 130,\n",
       " 59,\n",
       " 189,\n",
       " 526,\n",
       " 116,\n",
       " 114,\n",
       " 544,\n",
       " 118,\n",
       " 111,\n",
       " 420,\n",
       " 250,\n",
       " 258,\n",
       " 188,\n",
       " 139,\n",
       " 89,\n",
       " 135,\n",
       " 58,\n",
       " 173,\n",
       " 84,\n",
       " 150,\n",
       " 170,\n",
       " 159,\n",
       " 152,\n",
       " 170,\n",
       " 74,\n",
       " 213,\n",
       " 41,\n",
       " 250,\n",
       " 124,\n",
       " 533,\n",
       " 84,\n",
       " 186,\n",
       " 126,\n",
       " 183,\n",
       " 125,\n",
       " 153,\n",
       " 282,\n",
       " 146,\n",
       " 149,\n",
       " 215,\n",
       " 122,\n",
       " 68,\n",
       " 139,\n",
       " 128,\n",
       " 113,\n",
       " 252,\n",
       " 168,\n",
       " 434,\n",
       " ...]"
      ]
     },
     "execution_count": 53,
     "metadata": {},
     "output_type": "execute_result"
    }
   ],
   "source": [
    "[len(sentence) for sentence in train_data]"
   ]
  },
  {
   "cell_type": "markdown",
   "metadata": {
    "colab_type": "text"
   },
   "source": [
    "**Encoding the integer sequences via multi-hot encoding**"
   ]
  },
  {
   "cell_type": "code",
   "execution_count": 23,
   "metadata": {
    "colab_type": "code"
   },
   "outputs": [],
   "source": [
    "def vectorize_sequences(sequences, dimension=10000):\n",
    "    results = np.zeros((len(sequences), dimension))\n",
    "    \n",
    "    for i, sequence in enumerate(sequences):\n",
    "        results[i, sequence] = 1.  # ith row, and all columns that are actual in the sentence\n",
    "    return results\n",
    "\n",
    "x_train = vectorize_sequences(train_data)\n",
    "x_test = vectorize_sequences(test_data)"
   ]
  },
  {
   "cell_type": "code",
   "execution_count": 65,
   "metadata": {
    "colab_type": "code"
   },
   "outputs": [
    {
     "data": {
      "text/plain": [
       "(25000, 10000)"
      ]
     },
     "execution_count": 65,
     "metadata": {},
     "output_type": "execute_result"
    }
   ],
   "source": [
    "x_train.shape"
   ]
  },
  {
   "cell_type": "code",
   "execution_count": 58,
   "metadata": {
    "colab_type": "code"
   },
   "outputs": [],
   "source": [
    "y_train = np.asarray(train_labels).astype(\"float32\")\n",
    "y_test = np.asarray(test_labels).astype(\"float32\")"
   ]
  },
  {
   "cell_type": "markdown",
   "metadata": {
    "colab_type": "text"
   },
   "source": [
    "### Building your model"
   ]
  },
  {
   "cell_type": "markdown",
   "metadata": {},
   "source": [
    "The input data is vectors, and the labels are scalars (1s and 0s): this is one of the simplest problem setups you’ll ever encounter. A type of model that performs well on such a problem is a plain stack of densely-connected (Dense) layers with relu activations.\n",
    "\n",
    "There are two key architecture decisions to be made about such a stack of Dense layers:\n",
    "\n",
    "- How many layers to use\n",
    "- How many units to choose for each layer"
   ]
  },
  {
   "cell_type": "markdown",
   "metadata": {
    "colab_type": "text"
   },
   "source": [
    "**Model definition**"
   ]
  },
  {
   "cell_type": "markdown",
   "metadata": {},
   "source": [
    "![](https://drek4537l1klr.cloudfront.net/chollet2/v-7/Figures/3_layer_network.png)"
   ]
  },
  {
   "cell_type": "markdown",
   "metadata": {},
   "source": [
    "The intermediate layers use `relu` as their activation function, and the final layer uses a `sigmoid` activation so as to output a probability (a score between 0 and 1, indicating how likely the sample is to have the target \"1\": how likely the review is to be positive). A `relu` (rectified linear unit) is a function meant to **zero out negative values**, whereas a sigmoid \"squashes\" arbitrary values into the $[0, 1]$ interval (see figure 4.3), outputting something that can be interpreted as a **probability**.\n",
    "\n",
    "![](https://drek4537l1klr.cloudfront.net/chollet2/v-7/Figures/The-rectified-linear-unit-function.png)\n",
    "\n",
    "![](https://drek4537l1klr.cloudfront.net/chollet2/v-7/Figures/The-sigmoid-function.png)"
   ]
  },
  {
   "cell_type": "code",
   "execution_count": 59,
   "metadata": {
    "colab_type": "code"
   },
   "outputs": [],
   "source": [
    "from tensorflow import keras\n",
    "from tensorflow.keras import layers\n",
    "\n",
    "model = keras.Sequential([\n",
    "    layers.Dense(16, activation=\"relu\"),\n",
    "    layers.Dense(16, activation=\"relu\"),\n",
    "    layers.Dense(1, activation=\"sigmoid\")\n",
    "])"
   ]
  },
  {
   "cell_type": "markdown",
   "metadata": {
    "colab_type": "text"
   },
   "source": [
    "**Compiling the model**"
   ]
  },
  {
   "cell_type": "code",
   "execution_count": 60,
   "metadata": {
    "colab_type": "code"
   },
   "outputs": [],
   "source": [
    "model.compile(optimizer=\"rmsprop\",\n",
    "              loss=\"binary_crossentropy\",\n",
    "              metrics=[\"accuracy\"])"
   ]
  },
  {
   "cell_type": "markdown",
   "metadata": {
    "colab_type": "text"
   },
   "source": [
    "### Validating your approach"
   ]
  },
  {
   "cell_type": "markdown",
   "metadata": {
    "colab_type": "text"
   },
   "source": [
    "**Setting aside a validation set**"
   ]
  },
  {
   "cell_type": "code",
   "execution_count": 67,
   "metadata": {
    "colab_type": "code"
   },
   "outputs": [],
   "source": [
    "shuffled_index = np.random.permutation(range(x_train.shape[0]))\n",
    "\n",
    "x_val = x_train[shuffled_index][:10000]\n",
    "partial_x_train = x_train[shuffled_index][10000:]\n",
    "y_val = y_train[shuffled_index][:10000]\n",
    "partial_y_train = y_train[shuffled_index][10000:]"
   ]
  },
  {
   "cell_type": "markdown",
   "metadata": {
    "colab_type": "text"
   },
   "source": [
    "**Training your model**"
   ]
  },
  {
   "cell_type": "code",
   "execution_count": 68,
   "metadata": {
    "colab_type": "code",
    "scrolled": true
   },
   "outputs": [
    {
     "name": "stdout",
     "output_type": "stream",
     "text": [
      "Epoch 1/20\n",
      "30/30 [==============================] - 1s 22ms/step - loss: 0.5327 - accuracy: 0.7833 - val_loss: 0.4029 - val_accuracy: 0.8642\n",
      "Epoch 2/20\n",
      "30/30 [==============================] - 0s 9ms/step - loss: 0.3181 - accuracy: 0.8995 - val_loss: 0.3190 - val_accuracy: 0.8828\n",
      "Epoch 3/20\n",
      "30/30 [==============================] - 0s 10ms/step - loss: 0.2284 - accuracy: 0.9295 - val_loss: 0.2903 - val_accuracy: 0.8865\n",
      "Epoch 4/20\n",
      "30/30 [==============================] - 0s 9ms/step - loss: 0.1788 - accuracy: 0.9430 - val_loss: 0.2890 - val_accuracy: 0.8865\n",
      "Epoch 5/20\n",
      "30/30 [==============================] - 0s 10ms/step - loss: 0.1421 - accuracy: 0.9575 - val_loss: 0.2981 - val_accuracy: 0.8830\n",
      "Epoch 6/20\n",
      "30/30 [==============================] - 0s 9ms/step - loss: 0.1176 - accuracy: 0.9651 - val_loss: 0.3283 - val_accuracy: 0.8784\n",
      "Epoch 7/20\n",
      "30/30 [==============================] - 0s 9ms/step - loss: 0.0961 - accuracy: 0.9727 - val_loss: 0.3480 - val_accuracy: 0.8762\n",
      "Epoch 8/20\n",
      "30/30 [==============================] - 0s 9ms/step - loss: 0.0778 - accuracy: 0.9802 - val_loss: 0.3526 - val_accuracy: 0.8779\n",
      "Epoch 9/20\n",
      "30/30 [==============================] - 0s 10ms/step - loss: 0.0635 - accuracy: 0.9838 - val_loss: 0.4418 - val_accuracy: 0.8623\n",
      "Epoch 10/20\n",
      "30/30 [==============================] - 0s 9ms/step - loss: 0.0536 - accuracy: 0.9867 - val_loss: 0.4075 - val_accuracy: 0.8733\n",
      "Epoch 11/20\n",
      "30/30 [==============================] - 0s 10ms/step - loss: 0.0410 - accuracy: 0.9910 - val_loss: 0.4399 - val_accuracy: 0.8731\n",
      "Epoch 12/20\n",
      "30/30 [==============================] - 0s 9ms/step - loss: 0.0308 - accuracy: 0.9939 - val_loss: 0.4729 - val_accuracy: 0.8690\n",
      "Epoch 13/20\n",
      "30/30 [==============================] - 0s 9ms/step - loss: 0.0242 - accuracy: 0.9959 - val_loss: 0.5172 - val_accuracy: 0.8665\n",
      "Epoch 14/20\n",
      "30/30 [==============================] - 0s 9ms/step - loss: 0.0202 - accuracy: 0.9968 - val_loss: 0.5454 - val_accuracy: 0.8669\n",
      "Epoch 15/20\n",
      "30/30 [==============================] - 0s 9ms/step - loss: 0.0138 - accuracy: 0.9979 - val_loss: 0.5850 - val_accuracy: 0.8653\n",
      "Epoch 16/20\n",
      "30/30 [==============================] - 0s 9ms/step - loss: 0.0112 - accuracy: 0.9983 - val_loss: 0.6252 - val_accuracy: 0.8663\n",
      "Epoch 17/20\n",
      "30/30 [==============================] - 0s 9ms/step - loss: 0.0077 - accuracy: 0.9991 - val_loss: 0.6877 - val_accuracy: 0.8635\n",
      "Epoch 18/20\n",
      "30/30 [==============================] - 0s 9ms/step - loss: 0.0050 - accuracy: 0.9997 - val_loss: 0.7144 - val_accuracy: 0.8629\n",
      "Epoch 19/20\n",
      "30/30 [==============================] - 0s 9ms/step - loss: 0.0062 - accuracy: 0.9991 - val_loss: 0.7468 - val_accuracy: 0.8625\n",
      "Epoch 20/20\n",
      "30/30 [==============================] - 0s 8ms/step - loss: 0.0025 - accuracy: 0.9998 - val_loss: 0.7894 - val_accuracy: 0.8622\n"
     ]
    }
   ],
   "source": [
    "history = model.fit(partial_x_train,\n",
    "                    partial_y_train,\n",
    "                    epochs=20,\n",
    "                    batch_size=512,\n",
    "                    validation_data=(x_val, y_val))"
   ]
  },
  {
   "cell_type": "code",
   "execution_count": 69,
   "metadata": {
    "colab_type": "code"
   },
   "outputs": [
    {
     "data": {
      "text/plain": [
       "dict_keys(['loss', 'accuracy', 'val_loss', 'val_accuracy'])"
      ]
     },
     "execution_count": 69,
     "metadata": {},
     "output_type": "execute_result"
    }
   ],
   "source": [
    "history_dict = history.history\n",
    "history_dict.keys()"
   ]
  },
  {
   "cell_type": "markdown",
   "metadata": {
    "colab_type": "text"
   },
   "source": [
    "**Plotting the training and validation loss**"
   ]
  },
  {
   "cell_type": "code",
   "execution_count": 73,
   "metadata": {
    "colab_type": "code"
   },
   "outputs": [
    {
     "data": {
      "image/png": "[encoded data removed]",
      "text/plain": [
       "<Figure size 432x288 with 1 Axes>"
      ]
     },
     "metadata": {
      "needs_background": "light"
     },
     "output_type": "display_data"
    }
   ],
   "source": [
    "import matplotlib.pyplot as plt\n",
    "\n",
    "history_dict = history.history\n",
    "loss_values = history_dict[\"loss\"]\n",
    "val_loss_values = history_dict[\"val_loss\"]\n",
    "\n",
    "epochs = range(1, len(loss_values) + 1)\n",
    "\n",
    "plt.plot(epochs, loss_values, \"og\", label=\"Training loss\")\n",
    "plt.plot(epochs, val_loss_values, \"r\", label=\"Validation loss\")\n",
    "plt.title(\"Training and validation loss\")\n",
    "plt.xlabel(\"Epochs\")\n",
    "plt.ylabel(\"Loss\")\n",
    "plt.legend()\n",
    "plt.show()"
   ]
  },
  {
   "cell_type": "markdown",
   "metadata": {
    "colab_type": "text"
   },
   "source": [
    "**Plotting the training and validation accuracy**"
   ]
  },
  {
   "cell_type": "code",
   "execution_count": 74,
   "metadata": {
    "colab_type": "code",
    "scrolled": true
   },
   "outputs": [
    {
     "data": {
      "image/png": "[encoded data removed]",
      "text/plain": [
       "<Figure size 432x288 with 1 Axes>"
      ]
     },
     "metadata": {
      "needs_background": "light"
     },
     "output_type": "display_data"
    }
   ],
   "source": [
    "plt.clf()\n",
    "\n",
    "acc = history_dict[\"accuracy\"]\n",
    "val_acc = history_dict[\"val_accuracy\"]\n",
    "plt.plot(epochs, acc, \"go\", label=\"Training acc\")\n",
    "plt.plot(epochs, val_acc, \"r\", label=\"Validation acc\")\n",
    "plt.title(\"Training and validation accuracy\")\n",
    "plt.xlabel(\"Epochs\")\n",
    "plt.ylabel(\"Accuracy\")\n",
    "plt.legend()\n",
    "plt.show()"
   ]
  },
  {
   "cell_type": "markdown",
   "metadata": {},
   "source": [
    "As you can see, the training loss decreases with every epoch, and the training accuracy increases with every epoch. That’s what you would expect when running gradient-descent optimization—the quantity you’re trying to minimize should be less with every iteration. But that isn’t the case for the validation loss and accuracy: they seem to peak at the fourth epoch. This is an example of what we warned against earlier: a model that performs better on the training data isn’t necessarily a model that will do better on data it has never seen before. In precise terms, what you’re seeing is **overfitting**: after the fourth epoch, you’re over-optimizing on the training data, and you end up learning representations that are specific to the training data and don’t generalize to data outside of the training set."
   ]
  },
  {
   "cell_type": "markdown",
   "metadata": {
    "colab_type": "text"
   },
   "source": [
    "**Retraining a model from scratch**"
   ]
  },
  {
   "cell_type": "code",
   "execution_count": 76,
   "metadata": {
    "colab_type": "code"
   },
   "outputs": [
    {
     "name": "stdout",
     "output_type": "stream",
     "text": [
      "Epoch 1/4\n",
      "49/49 [==============================] - 1s 6ms/step - loss: 0.4915 - accuracy: 0.8150\n",
      "Epoch 2/4\n",
      "49/49 [==============================] - ETA: 0s - loss: 0.2826 - accuracy: 0.90 - 0s 6ms/step - loss: 0.2823 - accuracy: 0.9049\n",
      "Epoch 3/4\n",
      "49/49 [==============================] - 0s 6ms/step - loss: 0.2116 - accuracy: 0.9264\n",
      "Epoch 4/4\n",
      "49/49 [==============================] - 0s 6ms/step - loss: 0.1761 - accuracy: 0.9372\n",
      "782/782 [==============================] - 25s 31ms/step - loss: 0.2926 - accuracy: 0.8843\n"
     ]
    }
   ],
   "source": [
    "model = keras.Sequential([\n",
    "    layers.Dense(16, activation=\"relu\"),\n",
    "    layers.Dense(16, activation=\"relu\"),\n",
    "    layers.Dense(1, activation=\"sigmoid\")\n",
    "])\n",
    "model.compile(optimizer=\"rmsprop\",\n",
    "              loss=\"binary_crossentropy\",\n",
    "              metrics=[\"accuracy\"])\n",
    "model.fit(x_train, y_train, epochs=4, batch_size=512)\n",
    "results = model.evaluate(x_test, y_test, return_dict=True)"
   ]
  },
  {
   "cell_type": "code",
   "execution_count": 77,
   "metadata": {
    "colab_type": "code"
   },
   "outputs": [
    {
     "data": {
      "text/plain": [
       "{'loss': 0.29259607195854187, 'accuracy': 0.8842800259590149}"
      ]
     },
     "execution_count": 77,
     "metadata": {},
     "output_type": "execute_result"
    }
   ],
   "source": [
    "results"
   ]
  },
  {
   "cell_type": "markdown",
   "metadata": {
    "colab_type": "text"
   },
   "source": [
    "### Using a trained model to generate predictions on new data"
   ]
  },
  {
   "cell_type": "code",
   "execution_count": 78,
   "metadata": {
    "colab_type": "code"
   },
   "outputs": [
    {
     "data": {
      "text/plain": [
       "array([[0.16073775],\n",
       "       [0.99819577],\n",
       "       [0.8550322 ],\n",
       "       ...,\n",
       "       [0.09465057],\n",
       "       [0.06173232],\n",
       "       [0.5093109 ]], dtype=float32)"
      ]
     },
     "execution_count": 78,
     "metadata": {},
     "output_type": "execute_result"
    }
   ],
   "source": [
    "model.predict(x_test)"
   ]
  },
  {
   "cell_type": "markdown",
   "metadata": {
    "colab_type": "text"
   },
   "source": [
    "### Further experiments"
   ]
  },
  {
   "cell_type": "markdown",
   "metadata": {},
   "source": [
    "The following experiments will help convince you that the architecture choices you’ve made are all fairly reasonable, although there’s still room for improvement:\n",
    "\n",
    "- You used two representation layers before the final classification layer. Try using one or three representation layers, and see how doing so affects validation and test accuracy.\n",
    "- Try using layers with more units or fewer units: $32$ units, $64$ units, and so on.\n",
    "- Try using the `mse` loss function instead of `binary_crossentropy`.\n",
    "- Try using the `tanh` activation (an activation that was popular in the early days of neural networks) instead of `relu`."
   ]
  },
  {
   "cell_type": "markdown",
   "metadata": {
    "colab_type": "text"
   },
   "source": [
    "### Wrapping up"
   ]
  },
  {
   "cell_type": "markdown",
   "metadata": {},
   "source": [
    "- You usually need to do quite a bit of preprocessing on your raw data in order to be able to feed it—as tensors—into a neural network. Sequences of words can be encoded as binary vectors, but there are other encoding options, too.\n",
    "- Stacks of `Dense` layers with `relu` activations can solve a wide range of problems (including sentiment classification), and you’ll likely use them frequently.\n",
    "- In a binary classification problem (two output classes), your model should end with a `Dense` layer with one unit and a `sigmoid` activation: the output of your model should be a scalar between $0$ and $1$, encoding a probability.\n",
    "- With such a scalar `sigmoid` output on a binary classification problem, the loss function you should use is `binary_crossentropy`.\n",
    "- The `rmsprop` optimizer is generally a good enough choice, whatever your problem. That’s one less thing for you to worry about.\n",
    "- As they get better on their training data, neural networks eventually start **overfitting** and end up obtaining increasingly worse results on data they’ve never seen before. Be sure to always monitor performance on data that is outside of the training set."
   ]
  },
  {
   "cell_type": "code",
   "execution_count": null,
   "metadata": {},
   "outputs": [],
   "source": []
  }
 ],
 "metadata": {
  "colab": {
   "collapsed_sections": [],
   "name": "chapter04_getting-started-with-neural-networks.i",
   "private_outputs": false,
   "provenance": [],
   "toc_visible": true
  },
  "kernelspec": {
   "display_name": "Python3 (ml)",
   "language": "python",
   "name": "ml"
  },
  "language_info": {
   "codemirror_mode": {
    "name": "ipython",
    "version": 3
   },
   "file_extension": ".py",
   "mimetype": "text/x-python",
   "name": "python",
   "nbconvert_exporter": "python",
   "pygments_lexer": "ipython3",
   "version": "3.7.6"
  }
 },
 "nbformat": 4,
 "nbformat_minor": 1
}
