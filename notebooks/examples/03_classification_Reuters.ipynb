{
 "cells": [
  {
   "cell_type": "markdown",
   "metadata": {
    "colab_type": "text"
   },
   "source": [
    "This is a companion notebook for the book [Deep Learning with Python, Second Edition](https://www.manning.com/books/deep-learning-with-python-second-edition?a_aid=keras&a_bid=76564dff). For readability, it only contains runnable code blocks and section titles, and omits everything else in the book: text paragraphs, figures, and pseudocode.\n",
    "\n",
    "**If you want to be able to follow what's going on, I recommend reading the notebook side by side with your copy of the book.**\n",
    "\n",
    "This notebook was generated for TensorFlow 2.6."
   ]
  },
  {
   "cell_type": "code",
   "execution_count": 22,
   "metadata": {},
   "outputs": [],
   "source": [
    "from tensorflow import keras\n",
    "import matplotlib.pyplot as plt\n",
    "import numpy as np"
   ]
  },
  {
   "cell_type": "markdown",
   "metadata": {
    "colab_type": "text"
   },
   "source": [
    "# Getting started with neural networks: classification and regression"
   ]
  },
  {
   "cell_type": "markdown",
   "metadata": {
    "colab_type": "text"
   },
   "source": [
    "## Classifying newswires: a multiclass classification example"
   ]
  },
  {
   "cell_type": "markdown",
   "metadata": {
    "colab_type": "text"
   },
   "source": [
    "### The Reuters dataset"
   ]
  },
  {
   "cell_type": "markdown",
   "metadata": {},
   "source": [
    "In this section, you’ll build a model to classify Reuters newswires into $46$ mutually exclusive topics. Because you have many classes, this problem is an instance of **multiclass classification**; and because each data point should be classified into only one category, the problem is more specifically an instance of **single-label, multiclass classification**. If each data point could belong to multiple categories (in this case, topics), you’d be facing a multilabel, multiclass classification problem.\n",
    "\n",
    "You’ll work with the Reuters dataset, a set of short newswires and their topics, published by Reuters in 1986. It’s a simple, widely used toy dataset for text classification. There are $46$ different topics; some topics are more represented than others, but each topic has at least $10$ examples in the training set."
   ]
  },
  {
   "cell_type": "markdown",
   "metadata": {
    "colab_type": "text"
   },
   "source": [
    "**Loading the Reuters dataset**"
   ]
  },
  {
   "cell_type": "code",
   "execution_count": 4,
   "metadata": {
    "colab_type": "code"
   },
   "outputs": [
    {
     "name": "stderr",
     "output_type": "stream",
     "text": [
      "C:\\tools\\miniconda3\\envs\\dl\\lib\\site-packages\\tensorflow\\python\\keras\\datasets\\reuters.py:143: VisibleDeprecationWarning: Creating an ndarray from ragged nested sequences (which is a list-or-tuple of lists-or-tuples-or ndarrays with different lengths or shapes) is deprecated. If you meant to do this, you must specify 'dtype=object' when creating the ndarray.\n",
      "  x_train, y_train = np.array(xs[:idx]), np.array(labels[:idx])\n",
      "C:\\tools\\miniconda3\\envs\\dl\\lib\\site-packages\\tensorflow\\python\\keras\\datasets\\reuters.py:144: VisibleDeprecationWarning: Creating an ndarray from ragged nested sequences (which is a list-or-tuple of lists-or-tuples-or ndarrays with different lengths or shapes) is deprecated. If you meant to do this, you must specify 'dtype=object' when creating the ndarray.\n",
      "  x_test, y_test = np.array(xs[idx:]), np.array(labels[idx:])\n"
     ]
    }
   ],
   "source": [
    "from tensorflow.keras.datasets import reuters\n",
    "\n",
    "(train_data, train_labels), (test_data, test_labels) = reuters.load_data(\n",
    "    num_words=10000)"
   ]
  },
  {
   "cell_type": "code",
   "execution_count": 5,
   "metadata": {
    "colab_type": "code"
   },
   "outputs": [
    {
     "data": {
      "text/plain": [
       "8982"
      ]
     },
     "execution_count": 5,
     "metadata": {},
     "output_type": "execute_result"
    }
   ],
   "source": [
    "len(train_data)"
   ]
  },
  {
   "cell_type": "code",
   "execution_count": 6,
   "metadata": {
    "colab_type": "code"
   },
   "outputs": [
    {
     "data": {
      "text/plain": [
       "2246"
      ]
     },
     "execution_count": 6,
     "metadata": {},
     "output_type": "execute_result"
    }
   ],
   "source": [
    "len(test_data)"
   ]
  },
  {
   "cell_type": "code",
   "execution_count": 7,
   "metadata": {
    "colab_type": "code"
   },
   "outputs": [
    {
     "data": {
      "text/plain": [
       "[1,\n",
       " 245,\n",
       " 273,\n",
       " 207,\n",
       " 156,\n",
       " 53,\n",
       " 74,\n",
       " 160,\n",
       " 26,\n",
       " 14,\n",
       " 46,\n",
       " 296,\n",
       " 26,\n",
       " 39,\n",
       " 74,\n",
       " 2979,\n",
       " 3554,\n",
       " 14,\n",
       " 46,\n",
       " 4689,\n",
       " 4329,\n",
       " 86,\n",
       " 61,\n",
       " 3499,\n",
       " 4795,\n",
       " 14,\n",
       " 61,\n",
       " 451,\n",
       " 4329,\n",
       " 17,\n",
       " 12]"
      ]
     },
     "execution_count": 7,
     "metadata": {},
     "output_type": "execute_result"
    }
   ],
   "source": [
    "train_data[10]"
   ]
  },
  {
   "cell_type": "markdown",
   "metadata": {
    "colab_type": "text"
   },
   "source": [
    "**Decoding newswires back to text**"
   ]
  },
  {
   "cell_type": "code",
   "execution_count": 8,
   "metadata": {
    "colab_type": "code"
   },
   "outputs": [],
   "source": [
    "word_index = reuters.get_word_index()\n",
    "reverse_word_index = dict([(value, key) for (key, value) in word_index.items()])\n",
    "decoded_newswire = \" \".join([reverse_word_index.get(i - 3, \"?\") for i in\n",
    "    train_data[0]])"
   ]
  },
  {
   "cell_type": "code",
   "execution_count": 9,
   "metadata": {},
   "outputs": [
    {
     "data": {
      "text/plain": [
       "'? ? ? said as a result of its december acquisition of space co it expects earnings per share in 1987 of 1 15 to 1 30 dlrs per share up from 70 cts in 1986 the company said pretax net should rise to nine to 10 mln dlrs from six mln dlrs in 1986 and rental operation revenues to 19 to 22 mln dlrs from 12 5 mln dlrs it said cash flow per share this year should be 2 50 to three dlrs reuter 3'"
      ]
     },
     "execution_count": 9,
     "metadata": {},
     "output_type": "execute_result"
    }
   ],
   "source": [
    "decoded_newswire"
   ]
  },
  {
   "cell_type": "code",
   "execution_count": 10,
   "metadata": {
    "colab_type": "code"
   },
   "outputs": [
    {
     "data": {
      "text/plain": [
       "3"
      ]
     },
     "execution_count": 10,
     "metadata": {},
     "output_type": "execute_result"
    }
   ],
   "source": [
    "train_labels[10]"
   ]
  },
  {
   "cell_type": "markdown",
   "metadata": {
    "colab_type": "text"
   },
   "source": [
    "### Preparing the data"
   ]
  },
  {
   "cell_type": "markdown",
   "metadata": {
    "colab_type": "text"
   },
   "source": [
    "**Encoding the input data**"
   ]
  },
  {
   "cell_type": "code",
   "execution_count": 11,
   "metadata": {
    "colab_type": "code"
   },
   "outputs": [],
   "source": [
    "x_train = vectorize_sequences(train_data)\n",
    "x_test = vectorize_sequences(test_data)"
   ]
  },
  {
   "cell_type": "markdown",
   "metadata": {
    "colab_type": "text"
   },
   "source": [
    "**Encoding the labels**"
   ]
  },
  {
   "cell_type": "markdown",
   "metadata": {},
   "source": [
    "To vectorize the labels, there are two possibilities: you can cast the label list as an integer tensor, or you can use one-hot encoding. **One-hot encoding** is a widely used format for categorical data, also called categorical encoding.In this case, one-hot encoding of the labels consists of embedding each label as an all-zero vector with a 1 in the place of the label index. Here’s an example:"
   ]
  },
  {
   "cell_type": "code",
   "execution_count": 12,
   "metadata": {
    "colab_type": "code"
   },
   "outputs": [],
   "source": [
    "def to_one_hot(labels, dimension=46):\n",
    "    results = np.zeros((len(labels), dimension))\n",
    "    \n",
    "    for i, label in enumerate(labels):\n",
    "        results[i, label] = 1.\n",
    "    return results\n",
    "\n",
    "y_train = to_one_hot(train_labels)\n",
    "y_test = to_one_hot(test_labels)"
   ]
  },
  {
   "cell_type": "code",
   "execution_count": 13,
   "metadata": {},
   "outputs": [
    {
     "data": {
      "text/plain": [
       "(8982, 46)"
      ]
     },
     "execution_count": 13,
     "metadata": {},
     "output_type": "execute_result"
    }
   ],
   "source": [
    "y_train.shape"
   ]
  },
  {
   "cell_type": "code",
   "execution_count": 14,
   "metadata": {
    "colab_type": "code"
   },
   "outputs": [],
   "source": [
    "from tensorflow.keras.utils import to_categorical\n",
    "\n",
    "y_train = to_categorical(train_labels)\n",
    "y_test = to_categorical(test_labels)"
   ]
  },
  {
   "cell_type": "markdown",
   "metadata": {
    "colab_type": "text"
   },
   "source": [
    "### Building your model"
   ]
  },
  {
   "cell_type": "markdown",
   "metadata": {
    "colab_type": "text"
   },
   "source": [
    "**Model definition**"
   ]
  },
  {
   "cell_type": "markdown",
   "metadata": {},
   "source": [
    "There are two other things you should note about this architecture:\n",
    "\n",
    "You end the model with a `Dense` layer of size $46$. This means for each input sample, the network will output a $46$-dimensional vector. Each entry in this vector (each dimension) will encode a different output class.\n",
    "\n",
    "The last layer uses a `softmax` activation. You saw this pattern in the MNIST example. It means the model will output a **probability distribution over the $46$ different output classes**—for every input sample, the model will produce a $46$-dimensional output vector, where `output[i]` is the probability that the sample belongs to class $i$. The $46$ scores will sum to $1$.\n"
   ]
  },
  {
   "cell_type": "code",
   "execution_count": 24,
   "metadata": {
    "colab_type": "code"
   },
   "outputs": [],
   "source": [
    "from tensorflow.keras import layers\n",
    "\n",
    "model = keras.Sequential([\n",
    "    layers.Dense(64, activation=\"relu\"),\n",
    "    layers.Dense(64, activation=\"relu\"),\n",
    "    layers.Dense(46, activation=\"softmax\")\n",
    "])"
   ]
  },
  {
   "cell_type": "markdown",
   "metadata": {
    "colab_type": "text"
   },
   "source": [
    "**Compiling the model**"
   ]
  },
  {
   "cell_type": "markdown",
   "metadata": {},
   "source": [
    "The best loss function to use in this case is `categorical_crossentropy`. It measures the distance between two probability distributions: here, between the probability distribution output by the model and the true distribution of the labels. By minimizing the distance between these two distributions, you train the model to output something as close as possible to the true labels."
   ]
  },
  {
   "cell_type": "code",
   "execution_count": 25,
   "metadata": {
    "colab_type": "code"
   },
   "outputs": [],
   "source": [
    "model.compile(optimizer=\"rmsprop\",\n",
    "              loss=\"categorical_crossentropy\",\n",
    "              metrics=[\"accuracy\"])"
   ]
  },
  {
   "cell_type": "markdown",
   "metadata": {
    "colab_type": "text"
   },
   "source": [
    "### Validating your approach"
   ]
  },
  {
   "cell_type": "markdown",
   "metadata": {
    "colab_type": "text"
   },
   "source": [
    "**Setting aside a validation set**"
   ]
  },
  {
   "cell_type": "code",
   "execution_count": 18,
   "metadata": {
    "colab_type": "code"
   },
   "outputs": [],
   "source": [
    "shuffled_index = np.random.permutation(range(x_train.shape[0]))\n",
    "\n",
    "x_val = x_train[shuffled_index][:1000]\n",
    "partial_x_train = x_train[shuffled_index][1000:]\n",
    "y_val = y_train[shuffled_index][:1000]\n",
    "partial_y_train = y_train[shuffled_index][1000:]"
   ]
  },
  {
   "cell_type": "markdown",
   "metadata": {
    "colab_type": "text"
   },
   "source": [
    "**Training the model**"
   ]
  },
  {
   "cell_type": "code",
   "execution_count": 19,
   "metadata": {
    "colab_type": "code",
    "scrolled": true
   },
   "outputs": [
    {
     "name": "stdout",
     "output_type": "stream",
     "text": [
      "Epoch 1/20\n",
      "16/16 [==============================] - 1s 24ms/step - loss: 2.6813 - accuracy: 0.5119 - val_loss: 1.7369 - val_accuracy: 0.6430\n",
      "Epoch 2/20\n",
      "16/16 [==============================] - 0s 12ms/step - loss: 1.4278 - accuracy: 0.6964 - val_loss: 1.2834 - val_accuracy: 0.7230\n",
      "Epoch 3/20\n",
      "16/16 [==============================] - 0s 13ms/step - loss: 1.0427 - accuracy: 0.7740 - val_loss: 1.1270 - val_accuracy: 0.7520\n",
      "Epoch 4/20\n",
      "16/16 [==============================] - 0s 11ms/step - loss: 0.8159 - accuracy: 0.8232 - val_loss: 1.0416 - val_accuracy: 0.7700\n",
      "Epoch 5/20\n",
      "16/16 [==============================] - 0s 13ms/step - loss: 0.6473 - accuracy: 0.8633 - val_loss: 0.9972 - val_accuracy: 0.7840\n",
      "Epoch 6/20\n",
      "16/16 [==============================] - 0s 12ms/step - loss: 0.5137 - accuracy: 0.8920 - val_loss: 0.9388 - val_accuracy: 0.7950\n",
      "Epoch 7/20\n",
      "16/16 [==============================] - 0s 12ms/step - loss: 0.4068 - accuracy: 0.9143 - val_loss: 0.9348 - val_accuracy: 0.8010\n",
      "Epoch 8/20\n",
      "16/16 [==============================] - 0s 12ms/step - loss: 0.3306 - accuracy: 0.9288 - val_loss: 0.9192 - val_accuracy: 0.8040\n",
      "Epoch 9/20\n",
      "16/16 [==============================] - 0s 12ms/step - loss: 0.2736 - accuracy: 0.9386 - val_loss: 0.9269 - val_accuracy: 0.8070\n",
      "Epoch 10/20\n",
      "16/16 [==============================] - 0s 12ms/step - loss: 0.2317 - accuracy: 0.9449 - val_loss: 0.9884 - val_accuracy: 0.7910\n",
      "Epoch 11/20\n",
      "16/16 [==============================] - 0s 11ms/step - loss: 0.1990 - accuracy: 0.9468 - val_loss: 0.9724 - val_accuracy: 0.7960\n",
      "Epoch 12/20\n",
      "16/16 [==============================] - 0s 12ms/step - loss: 0.1770 - accuracy: 0.9520 - val_loss: 1.0165 - val_accuracy: 0.7840\n",
      "Epoch 13/20\n",
      "16/16 [==============================] - 0s 11ms/step - loss: 0.1589 - accuracy: 0.9538 - val_loss: 1.0108 - val_accuracy: 0.7940\n",
      "Epoch 14/20\n",
      "16/16 [==============================] - 0s 12ms/step - loss: 0.1463 - accuracy: 0.9559 - val_loss: 1.0128 - val_accuracy: 0.7980\n",
      "Epoch 15/20\n",
      "16/16 [==============================] - 0s 12ms/step - loss: 0.1334 - accuracy: 0.9555 - val_loss: 1.1127 - val_accuracy: 0.7840\n",
      "Epoch 16/20\n",
      "16/16 [==============================] - 0s 11ms/step - loss: 0.1280 - accuracy: 0.9564 - val_loss: 1.1221 - val_accuracy: 0.7870\n",
      "Epoch 17/20\n",
      "16/16 [==============================] - 0s 11ms/step - loss: 0.1266 - accuracy: 0.9554 - val_loss: 1.0896 - val_accuracy: 0.7970\n",
      "Epoch 18/20\n",
      "16/16 [==============================] - 0s 12ms/step - loss: 0.1149 - accuracy: 0.9572 - val_loss: 1.1113 - val_accuracy: 0.7950\n",
      "Epoch 19/20\n",
      "16/16 [==============================] - 0s 11ms/step - loss: 0.1175 - accuracy: 0.9565 - val_loss: 1.0908 - val_accuracy: 0.7970\n",
      "Epoch 20/20\n",
      "16/16 [==============================] - 0s 10ms/step - loss: 0.1095 - accuracy: 0.9569 - val_loss: 1.1678 - val_accuracy: 0.7820\n"
     ]
    }
   ],
   "source": [
    "history = model.fit(partial_x_train,\n",
    "                    partial_y_train,\n",
    "                    epochs=20,\n",
    "                    batch_size=512,\n",
    "                    validation_data=(x_val, y_val))"
   ]
  },
  {
   "cell_type": "markdown",
   "metadata": {
    "colab_type": "text"
   },
   "source": [
    "**Plotting the training and validation loss**"
   ]
  },
  {
   "cell_type": "code",
   "execution_count": 26,
   "metadata": {
    "colab_type": "code"
   },
   "outputs": [
    {
     "data": {
      "image/png": "[encoded data removed]",
      "text/plain": [
       "<Figure size 432x288 with 1 Axes>"
      ]
     },
     "metadata": {
      "needs_background": "light"
     },
     "output_type": "display_data"
    }
   ],
   "source": [
    "loss = history.history[\"loss\"]\n",
    "val_loss = history.history[\"val_loss\"]\n",
    "\n",
    "epochs = range(1, len(loss) + 1)\n",
    "plt.plot(epochs, loss, \"go\", label=\"Training loss\")\n",
    "plt.plot(epochs, val_loss, \"r\", label=\"Validation loss\")\n",
    "plt.title(\"Training and validation loss\")\n",
    "plt.xlabel(\"Epochs\")\n",
    "plt.ylabel(\"Loss\")\n",
    "plt.legend()\n",
    "plt.show()"
   ]
  },
  {
   "cell_type": "markdown",
   "metadata": {
    "colab_type": "text"
   },
   "source": [
    "**Plotting the training and validation accuracy**"
   ]
  },
  {
   "cell_type": "code",
   "execution_count": 27,
   "metadata": {
    "colab_type": "code"
   },
   "outputs": [
    {
     "data": {
      "image/png": "[encoded data removed]",
      "text/plain": [
       "<Figure size 432x288 with 1 Axes>"
      ]
     },
     "metadata": {
      "needs_background": "light"
     },
     "output_type": "display_data"
    }
   ],
   "source": [
    "plt.clf()\n",
    "\n",
    "acc = history.history[\"accuracy\"]\n",
    "val_acc = history.history[\"val_accuracy\"]\n",
    "plt.plot(epochs, acc, \"go\", label=\"Training accuracy\")\n",
    "plt.plot(epochs, val_acc, \"r\", label=\"Validation accuracy\")\n",
    "plt.title(\"Training and validation accuracy\")\n",
    "plt.xlabel(\"Epochs\")\n",
    "plt.ylabel(\"Accuracy\")\n",
    "plt.legend()\n",
    "plt.show()"
   ]
  },
  {
   "cell_type": "markdown",
   "metadata": {
    "colab_type": "text"
   },
   "source": [
    "**Retraining a model from scratch**"
   ]
  },
  {
   "cell_type": "code",
   "execution_count": 28,
   "metadata": {
    "colab_type": "code"
   },
   "outputs": [
    {
     "name": "stdout",
     "output_type": "stream",
     "text": [
      "Epoch 1/9\n",
      "18/18 [==============================] - 1s 9ms/step - loss: 2.4859 - accuracy: 0.5603\n",
      "Epoch 2/9\n",
      "18/18 [==============================] - 0s 10ms/step - loss: 1.3175 - accuracy: 0.7196\n",
      "Epoch 3/9\n",
      "18/18 [==============================] - 0s 11ms/step - loss: 0.9841 - accuracy: 0.7859\n",
      "Epoch 4/9\n",
      "18/18 [==============================] - 0s 9ms/step - loss: 0.7763 - accuracy: 0.8334\n",
      "Epoch 5/9\n",
      "18/18 [==============================] - 0s 10ms/step - loss: 0.6118 - accuracy: 0.8732\n",
      "Epoch 6/9\n",
      "18/18 [==============================] - 0s 9ms/step - loss: 0.4904 - accuracy: 0.8988\n",
      "Epoch 7/9\n",
      "18/18 [==============================] - 0s 9ms/step - loss: 0.3926 - accuracy: 0.9171\n",
      "Epoch 8/9\n",
      "18/18 [==============================] - 0s 9ms/step - loss: 0.3210 - accuracy: 0.9309\n",
      "Epoch 9/9\n",
      "18/18 [==============================] - 0s 8ms/step - loss: 0.2712 - accuracy: 0.9405\n",
      "71/71 [==============================] - 2s 32ms/step - loss: 0.9537 - accuracy: 0.7921\n"
     ]
    }
   ],
   "source": [
    "model = keras.Sequential([\n",
    "  layers.Dense(64, activation=\"relu\"),\n",
    "  layers.Dense(64, activation=\"relu\"),\n",
    "  layers.Dense(46, activation=\"softmax\")\n",
    "])\n",
    "\n",
    "model.compile(optimizer=\"rmsprop\",\n",
    "              loss=\"categorical_crossentropy\",\n",
    "              metrics=[\"accuracy\"])\n",
    "model.fit(x_train,\n",
    "          y_train,\n",
    "          epochs=9,\n",
    "          batch_size=512)\n",
    "results = model.evaluate(x_test, y_test, return_dict=True)"
   ]
  },
  {
   "cell_type": "code",
   "execution_count": 29,
   "metadata": {
    "colab_type": "code"
   },
   "outputs": [
    {
     "data": {
      "text/plain": [
       "{'loss': 0.9536892771720886, 'accuracy': 0.7920747995376587}"
      ]
     },
     "execution_count": 29,
     "metadata": {},
     "output_type": "execute_result"
    }
   ],
   "source": [
    "results"
   ]
  },
  {
   "cell_type": "markdown",
   "metadata": {},
   "source": [
    "This approach reaches an accuracy of ~$80\\%$. With a balanced binary classification problem, the accuracy reached by a purely random classifier would be $50\\%$. But in this case, we have $46$ classes, and they may not be equally represented. What would be the accuracy of a random baseline? We could try quickly implementing one to check this empirically:"
   ]
  },
  {
   "cell_type": "code",
   "execution_count": 30,
   "metadata": {
    "colab_type": "code"
   },
   "outputs": [
    {
     "data": {
      "text/plain": [
       "0.1651825467497774"
      ]
     },
     "execution_count": 30,
     "metadata": {},
     "output_type": "execute_result"
    }
   ],
   "source": [
    "import copy\n",
    "\n",
    "hits_array = np.random.permutation(test_labels) == np.array(test_labels)\n",
    "hits_array.mean()"
   ]
  },
  {
   "cell_type": "markdown",
   "metadata": {
    "colab_type": "text"
   },
   "source": [
    "### Generating predictions on new data"
   ]
  },
  {
   "cell_type": "code",
   "execution_count": 31,
   "metadata": {
    "colab_type": "code"
   },
   "outputs": [],
   "source": [
    "predictions = model.predict(x_test)"
   ]
  },
  {
   "cell_type": "code",
   "execution_count": 32,
   "metadata": {
    "colab_type": "code"
   },
   "outputs": [
    {
     "data": {
      "text/plain": [
       "(46,)"
      ]
     },
     "execution_count": 32,
     "metadata": {},
     "output_type": "execute_result"
    }
   ],
   "source": [
    "predictions[0].shape"
   ]
  },
  {
   "cell_type": "code",
   "execution_count": 33,
   "metadata": {
    "colab_type": "code"
   },
   "outputs": [
    {
     "data": {
      "text/plain": [
       "1.0000001"
      ]
     },
     "execution_count": 33,
     "metadata": {},
     "output_type": "execute_result"
    }
   ],
   "source": [
    "np.sum(predictions[0])"
   ]
  },
  {
   "cell_type": "code",
   "execution_count": 34,
   "metadata": {
    "colab_type": "code"
   },
   "outputs": [
    {
     "data": {
      "text/plain": [
       "3"
      ]
     },
     "execution_count": 34,
     "metadata": {},
     "output_type": "execute_result"
    }
   ],
   "source": [
    "np.argmax(predictions[0])"
   ]
  },
  {
   "cell_type": "markdown",
   "metadata": {
    "colab_type": "text"
   },
   "source": [
    "### A different way to handle the labels and the loss"
   ]
  },
  {
   "cell_type": "markdown",
   "metadata": {},
   "source": [
    "The only thing this approach would change is the choice of the loss function. The loss function `categorical_crossentropy`, expects the labels to follow a categorical encoding. With integer labels, you should use `sparse_categorical_crossentropy`:"
   ]
  },
  {
   "cell_type": "code",
   "execution_count": 35,
   "metadata": {
    "colab_type": "code"
   },
   "outputs": [],
   "source": [
    "y_train = np.array(train_labels)\n",
    "y_test = np.array(test_labels)"
   ]
  },
  {
   "cell_type": "code",
   "execution_count": 39,
   "metadata": {},
   "outputs": [
    {
     "data": {
      "text/plain": [
       "(8982,)"
      ]
     },
     "execution_count": 39,
     "metadata": {},
     "output_type": "execute_result"
    }
   ],
   "source": [
    "y_train.shape"
   ]
  },
  {
   "cell_type": "code",
   "execution_count": 41,
   "metadata": {
    "colab_type": "code"
   },
   "outputs": [],
   "source": [
    "model.compile(optimizer=\"rmsprop\",\n",
    "              loss=\"sparse_categorical_crossentropy\",\n",
    "              metrics=[\"accuracy\"])"
   ]
  },
  {
   "cell_type": "markdown",
   "metadata": {
    "colab_type": "text"
   },
   "source": [
    "### The importance of having sufficiently large intermediate layers"
   ]
  },
  {
   "cell_type": "markdown",
   "metadata": {},
   "source": [
    "We mentioned earlier that because the final outputs are $46$-dimensional, you should avoid intermediate layers with many fewer than $46$ units. Now let’s see what happens when you introduce an information bottleneck by having intermediate layers that are significantly less than $46$-dimensional: for example, 4-dimensional."
   ]
  },
  {
   "cell_type": "markdown",
   "metadata": {
    "colab_type": "text"
   },
   "source": [
    "**A model with an information bottleneck**"
   ]
  },
  {
   "cell_type": "code",
   "execution_count": 43,
   "metadata": {
    "colab_type": "code",
    "scrolled": true
   },
   "outputs": [
    {
     "name": "stdout",
     "output_type": "stream",
     "text": [
      "Epoch 1/20\n",
      "63/63 [==============================] - 2s 24ms/step - loss: 3.0718 - accuracy: 0.2722 - val_loss: 2.4650 - val_accuracy: 0.4220\n",
      "Epoch 2/20\n",
      "63/63 [==============================] - 1s 22ms/step - loss: 2.0874 - accuracy: 0.4545 - val_loss: 1.9415 - val_accuracy: 0.4430\n",
      "Epoch 3/20\n",
      "63/63 [==============================] - 1s 22ms/step - loss: 1.6674 - accuracy: 0.4894 - val_loss: 1.5998 - val_accuracy: 0.5840\n",
      "Epoch 4/20\n",
      "63/63 [==============================] - 1s 18ms/step - loss: 1.3439 - accuracy: 0.6537 - val_loss: 1.3945 - val_accuracy: 0.6380\n",
      "Epoch 5/20\n",
      "63/63 [==============================] - 1s 22ms/step - loss: 1.1773 - accuracy: 0.6973 - val_loss: 1.3437 - val_accuracy: 0.6720\n",
      "Epoch 6/20\n",
      "63/63 [==============================] - 1s 23ms/step - loss: 1.0704 - accuracy: 0.7286 - val_loss: 1.3441 - val_accuracy: 0.6790\n",
      "Epoch 7/20\n",
      "63/63 [==============================] - 1s 21ms/step - loss: 0.9973 - accuracy: 0.7390 - val_loss: 1.3311 - val_accuracy: 0.6850\n",
      "Epoch 8/20\n",
      "63/63 [==============================] - 1s 19ms/step - loss: 0.9396 - accuracy: 0.7430 - val_loss: 1.3543 - val_accuracy: 0.6890\n",
      "Epoch 9/20\n",
      "63/63 [==============================] - 2s 25ms/step - loss: 0.8946 - accuracy: 0.7457 - val_loss: 1.3822 - val_accuracy: 0.6890\n",
      "Epoch 10/20\n",
      "63/63 [==============================] - 1s 23ms/step - loss: 0.8558 - accuracy: 0.7478 - val_loss: 1.4152 - val_accuracy: 0.6890\n",
      "Epoch 11/20\n",
      "63/63 [==============================] - 1s 21ms/step - loss: 0.8229 - accuracy: 0.7512 - val_loss: 1.4542 - val_accuracy: 0.6870\n",
      "Epoch 12/20\n",
      "63/63 [==============================] - 1s 20ms/step - loss: 0.7914 - accuracy: 0.7588 - val_loss: 1.4903 - val_accuracy: 0.6870\n",
      "Epoch 13/20\n",
      "63/63 [==============================] - 1s 20ms/step - loss: 0.7668 - accuracy: 0.7645 - val_loss: 1.5221 - val_accuracy: 0.6900\n",
      "Epoch 14/20\n",
      "63/63 [==============================] - 1s 23ms/step - loss: 0.7396 - accuracy: 0.7675 - val_loss: 1.5942 - val_accuracy: 0.6850\n",
      "Epoch 15/20\n",
      "63/63 [==============================] - 1s 17ms/step - loss: 0.7166 - accuracy: 0.7702 - val_loss: 1.6380 - val_accuracy: 0.6750\n",
      "Epoch 16/20\n",
      "63/63 [==============================] - 2s 24ms/step - loss: 0.6965 - accuracy: 0.7766 - val_loss: 1.6760 - val_accuracy: 0.6860\n",
      "Epoch 17/20\n",
      "63/63 [==============================] - 1s 19ms/step - loss: 0.6756 - accuracy: 0.7865 - val_loss: 1.7305 - val_accuracy: 0.6790\n",
      "Epoch 18/20\n",
      "63/63 [==============================] - 1s 23ms/step - loss: 0.6595 - accuracy: 0.7954 - val_loss: 1.7923 - val_accuracy: 0.6830\n",
      "Epoch 19/20\n",
      "63/63 [==============================] - 1s 20ms/step - loss: 0.6418 - accuracy: 0.8043 - val_loss: 1.8570 - val_accuracy: 0.6800\n",
      "Epoch 20/20\n",
      "63/63 [==============================] - 1s 22ms/step - loss: 0.6256 - accuracy: 0.8120 - val_loss: 1.9655 - val_accuracy: 0.6750\n"
     ]
    }
   ],
   "source": [
    "model = keras.Sequential([\n",
    "    layers.Dense(64, activation=\"relu\"),\n",
    "    layers.Dense(4, activation=\"relu\"),  # information bottlenack\n",
    "    layers.Dense(46, activation=\"softmax\")\n",
    "])\n",
    "model.compile(optimizer=\"rmsprop\",\n",
    "              loss=\"categorical_crossentropy\",\n",
    "              metrics=[\"accuracy\"])\n",
    "history = model.fit(partial_x_train,\n",
    "          partial_y_train,\n",
    "          epochs=20,\n",
    "          batch_size=128,\n",
    "          validation_data=(x_val, y_val))"
   ]
  },
  {
   "cell_type": "code",
   "execution_count": 44,
   "metadata": {},
   "outputs": [
    {
     "data": {
      "image/png": "[encoded data removed]",
      "text/plain": [
       "<Figure size 432x288 with 1 Axes>"
      ]
     },
     "metadata": {
      "needs_background": "light"
     },
     "output_type": "display_data"
    }
   ],
   "source": [
    "loss = history.history[\"loss\"]\n",
    "val_loss = history.history[\"val_loss\"]\n",
    "\n",
    "epochs = range(1, len(loss) + 1)\n",
    "plt.plot(epochs, loss, \"go\", label=\"Training loss\")\n",
    "plt.plot(epochs, val_loss, \"r\", label=\"Validation loss\")\n",
    "plt.title(\"Training and validation loss\")\n",
    "plt.xlabel(\"Epochs\")\n",
    "plt.ylabel(\"Loss\")\n",
    "plt.legend()\n",
    "plt.show()"
   ]
  },
  {
   "cell_type": "code",
   "execution_count": 45,
   "metadata": {},
   "outputs": [
    {
     "data": {
      "image/png": "[encoded data removed]",
      "text/plain": [
       "<Figure size 432x288 with 1 Axes>"
      ]
     },
     "metadata": {
      "needs_background": "light"
     },
     "output_type": "display_data"
    }
   ],
   "source": [
    "plt.clf()\n",
    "\n",
    "acc = history.history[\"accuracy\"]\n",
    "val_acc = history.history[\"val_accuracy\"]\n",
    "plt.plot(epochs, acc, \"go\", label=\"Training accuracy\")\n",
    "plt.plot(epochs, val_acc, \"r\", label=\"Validation accuracy\")\n",
    "plt.title(\"Training and validation accuracy\")\n",
    "plt.xlabel(\"Epochs\")\n",
    "plt.ylabel(\"Accuracy\")\n",
    "plt.legend()\n",
    "plt.show()"
   ]
  },
  {
   "cell_type": "markdown",
   "metadata": {
    "colab_type": "text"
   },
   "source": [
    "### Further experiments"
   ]
  },
  {
   "cell_type": "markdown",
   "metadata": {},
   "source": [
    "- Try using larger or smaller layers: 32 units, 128 units, and so on.\n",
    "- You used two intermediate layers before the final softmax classification layer. Now try using a single intermediate layer, or three intermediate layers."
   ]
  },
  {
   "cell_type": "markdown",
   "metadata": {
    "colab_type": "text"
   },
   "source": [
    "### Wrapping up"
   ]
  },
  {
   "cell_type": "markdown",
   "metadata": {},
   "source": [
    "Here’s what you should take away from this example:\n",
    "\n",
    "- If you’re trying to classify data points among $N$ classes, your model should end with a `Dense` layer of size $N$.\n",
    "- In a single-label, multiclass classification problem, your model should end with a `softmax` activation so that it will output a **probability distribution** over the $N$ output classes.\n",
    "- **Categorical crossentropy** is almost always the **loss function** you should use for such problems. It __minimizes the distance between the probability distributions__ output by the model and the true distribution of the targets.\n",
    "- There are two ways to handle labels in multiclass classification:\n",
    "   - Encoding the labels via **categorical encoding** (also known as **one-hot encoding**) and using `categorical_crossentropy` as a loss function\n",
    "   - Encoding the labels as **integers** and using the `sparse_categorical_crossentropy` loss function\n",
    "- If you need to classify data into a large number of categories, you should avoid creating **information bottlenecks** in your model due to intermediate layers that are too small."
   ]
  },
  {
   "cell_type": "code",
   "execution_count": null,
   "metadata": {},
   "outputs": [],
   "source": []
  }
 ],
 "metadata": {
  "colab": {
   "collapsed_sections": [],
   "name": "chapter04_getting-started-with-neural-networks.i",
   "private_outputs": false,
   "provenance": [],
   "toc_visible": true
  },
  "kernelspec": {
   "display_name": "Python3 (ml)",
   "language": "python",
   "name": "ml"
  },
  "language_info": {
   "codemirror_mode": {
    "name": "ipython",
    "version": 3
   },
   "file_extension": ".py",
   "mimetype": "text/x-python",
   "name": "python",
   "nbconvert_exporter": "python",
   "pygments_lexer": "ipython3",
   "version": "3.7.6"
  }
 },
 "nbformat": 4,
 "nbformat_minor": 1
}
